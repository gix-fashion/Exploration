{
 "cells": [
  {
   "cell_type": "code",
   "execution_count": 1,
   "metadata": {},
   "outputs": [],
   "source": [
    "import  pandas as pd\n",
    "import numpy as np \n",
    "import matplotlib.pyplot as plt\n",
    "\n",
    "\n",
    "\n",
    "\n",
    "%matplotlib inline"
   ]
  },
  {
   "cell_type": "code",
   "execution_count": 3,
   "metadata": {},
   "outputs": [],
   "source": [
    "df = pd.read_csv(\"库存/一月库存数据.csv\", encoding = \"gbk\")\n",
    "df = df[df[\"年份\"]==2019]\n",
    "df = df[df[\"仓库类型\"]==\"分仓\"]"
   ]
  },
  {
   "cell_type": "code",
   "execution_count": 43,
   "metadata": {},
   "outputs": [
    {
     "data": {
      "text/plain": [
       "(7745578, 18)"
      ]
     },
     "execution_count": 43,
     "metadata": {},
     "output_type": "execute_result"
    }
   ],
   "source": [
    "df.shape"
   ]
  },
  {
   "cell_type": "code",
   "execution_count": 4,
   "metadata": {},
   "outputs": [
    {
     "data": {
      "text/plain": [
       "(7745578, 18)"
      ]
     },
     "execution_count": 4,
     "metadata": {},
     "output_type": "execute_result"
    }
   ],
   "source": [
    "df.shape"
   ]
  },
  {
   "cell_type": "code",
   "execution_count": 2,
   "metadata": {},
   "outputs": [],
   "source": [
    "sale = pd.read_csv(\"销售.csv\",encoding = \"gbk\")"
   ]
  },
  {
   "cell_type": "code",
   "execution_count": 3,
   "metadata": {},
   "outputs": [],
   "source": [
    "shop = pd.read_excel(\"全国店铺分档19.07.03.xlsx\")"
   ]
  },
  {
   "cell_type": "code",
   "execution_count": 7,
   "metadata": {},
   "outputs": [
    {
     "data": {
      "text/plain": [
       "Index(['店铺简称', '店铺代码', '分公司', '经营定位'], dtype='object')"
      ]
     },
     "execution_count": 7,
     "metadata": {},
     "output_type": "execute_result"
    }
   ],
   "source": [
    "shop.columns"
   ]
  },
  {
   "cell_type": "markdown",
   "metadata": {},
   "source": [
    "### 正价店/常规店"
   ]
  },
  {
   "cell_type": "code",
   "execution_count": 7,
   "metadata": {},
   "outputs": [
    {
     "data": {
      "text/plain": [
       "正价店    243\n",
       "常规店     94\n",
       "折扣店     63\n",
       "Name: 经营定位, dtype: int64"
      ]
     },
     "execution_count": 7,
     "metadata": {},
     "output_type": "execute_result"
    }
   ],
   "source": [
    "shop[\"经营定位\"].value_counts()"
   ]
  },
  {
   "cell_type": "code",
   "execution_count": 8,
   "metadata": {},
   "outputs": [
    {
     "data": {
      "text/plain": [
       "2.5851063829787235"
      ]
     },
     "execution_count": 8,
     "metadata": {},
     "output_type": "execute_result"
    }
   ],
   "source": [
    "243/94"
   ]
  },
  {
   "cell_type": "code",
   "execution_count": 23,
   "metadata": {},
   "outputs": [
    {
     "data": {
      "image/png": "[encoded data removed]",
      "text/plain": [
       "<Figure size 432x648 with 1 Axes>"
      ]
     },
     "metadata": {},
     "output_type": "display_data"
    }
   ],
   "source": [
    "sizes = shop[\"经营定位\"].value_counts().values[:2]\n",
    "labels = [\"Regular price\",\"Normal\"]\n",
    "plt.figure(figsize=(6,9)) #调节图形大小\n",
    "\n",
    "colors = ['red','lightskyblue']\n",
    "explode = (0,0)\n",
    "patches,text1,text2 = plt.pie(sizes,\n",
    "                      explode=explode,\n",
    "                      labels=labels,\n",
    "                      colors=colors,\n",
    "                      autopct = '%3.2f%%', #数值保留固定小数位\n",
    "                      shadow = False, #无阴影设置\n",
    "                      startangle =90, #逆时针起始角度设置\n",
    "                      pctdistance = 0.6) #数值距圆心半径倍数距离\n",
    "#patches饼图的返回值，texts1饼图外label的文本，texts2饼图内部的文本\n",
    "# x，y轴刻度设置一致，保证饼图为圆形\n",
    "plt.axis('equal')\n",
    "plt.title(\"Ratio\")\n",
    "plt.savefig(\"全国比例\")\n",
    "plt.show()\n",
    "\n"
   ]
  },
  {
   "cell_type": "code",
   "execution_count": 28,
   "metadata": {},
   "outputs": [],
   "source": [
    "coms = shop.分公司.value_counts().index.values"
   ]
  },
  {
   "cell_type": "code",
   "execution_count": 33,
   "metadata": {},
   "outputs": [
    {
     "data": {
      "text/plain": [
       "正价店    58\n",
       "常规店    22\n",
       "Name: 经营定位, dtype: int64"
      ]
     },
     "execution_count": 33,
     "metadata": {},
     "output_type": "execute_result"
    }
   ],
   "source": [
    "mask = (shop[\"分公司\"]==coms[0])\n",
    "shop_ = shop[mask]\n",
    "shop_[\"经营定位\"].value_counts()[[\"正价店\",\"常规店\"]]"
   ]
  },
  {
   "cell_type": "code",
   "execution_count": 37,
   "metadata": {},
   "outputs": [
    {
     "name": "stdout",
     "output_type": "stream",
     "text": [
      "华北\n",
      "正价店    58\n",
      "常规店    22\n",
      "Name: 经营定位, dtype: int64\n",
      "华中2\n",
      "正价店    48\n",
      "常规店    15\n",
      "Name: 经营定位, dtype: int64\n",
      "华南\n",
      "正价店    39\n",
      "常规店    22\n",
      "Name: 经营定位, dtype: int64\n",
      "华中1\n",
      "正价店    38\n",
      "常规店    10\n",
      "Name: 经营定位, dtype: int64\n",
      "西北\n",
      "正价店    34\n",
      "常规店    14\n",
      "Name: 经营定位, dtype: int64\n",
      "西南\n",
      "正价店    26\n",
      "常规店    11\n",
      "Name: 经营定位, dtype: int64\n"
     ]
    }
   ],
   "source": [
    "for i in range(coms.size): \n",
    "    mask = (shop[\"分公司\"]==coms[i])\n",
    "    shop_ = shop[mask]\n",
    "    sizes = shop_[\"经营定位\"].value_counts()[[\"正价店\",\"常规店\"]]\n",
    "    print(coms[i])\n",
    "    print(sizes)"
   ]
  },
  {
   "cell_type": "code",
   "execution_count": 35,
   "metadata": {},
   "outputs": [
    {
     "data": {
      "image/png": "[encoded data removed]",
      "text/plain": [
       "<Figure size 432x648 with 1 Axes>"
      ]
     },
     "metadata": {},
     "output_type": "display_data"
    },
    {
     "data": {
      "image/png": "[encoded data removed]",
      "text/plain": [
       "<Figure size 432x648 with 1 Axes>"
      ]
     },
     "metadata": {},
     "output_type": "display_data"
    },
    {
     "data": {
      "image/png": "[encoded data removed]",
      "text/plain": [
       "<Figure size 432x648 with 1 Axes>"
      ]
     },
     "metadata": {},
     "output_type": "display_data"
    },
    {
     "data": {
      "image/png": "[encoded data removed]",
      "text/plain": [
       "<Figure size 432x648 with 1 Axes>"
      ]
     },
     "metadata": {},
     "output_type": "display_data"
    },
    {
     "data": {
      "image/png": "[encoded data removed]",
      "text/plain": [
       "<Figure size 432x648 with 1 Axes>"
      ]
     },
     "metadata": {},
     "output_type": "display_data"
    },
    {
     "data": {
      "image/png": "[encoded data removed]",
      "text/plain": [
       "<Figure size 432x648 with 1 Axes>"
      ]
     },
     "metadata": {},
     "output_type": "display_data"
    }
   ],
   "source": [
    "for i in range(coms.size): \n",
    "    mask = (shop[\"分公司\"]==coms[i])\n",
    "    shop_ = shop[mask]\n",
    "    sizes = shop_[\"经营定位\"].value_counts()[[\"正价店\",\"常规店\"]]\n",
    "    labels = [\"Regular price\",\"Normal\"]\n",
    "    plt.figure(figsize=(6,9)) #调节图形大小\n",
    "    \n",
    "    colors = ['red','lightskyblue']\n",
    "    explode = (0,0)\n",
    "    patches,text1,text2 = plt.pie(sizes,\n",
    "                          explode=explode,\n",
    "                          labels=labels,\n",
    "                          colors=colors,\n",
    "                          autopct = '%3.2f%%', #数值保留固定小数位\n",
    "                          shadow = False, #无阴影设置\n",
    "                          startangle =90, #逆时针起始角度设置\n",
    "                          pctdistance = 0.6) #数值距圆心半径倍数距离\n",
    "    #patches饼图的返回值，texts1饼图外label的文本，texts2饼图内部的文本\n",
    "    # x，y轴刻度设置一致，保证饼图为圆形\n",
    "    plt.axis('equal')\n",
    "    plt.title(\"Ratio\")\n",
    "    plt.savefig(coms[i]+\"比例\")\n",
    "    plt.show()\n",
    "    "
   ]
  },
  {
   "cell_type": "markdown",
   "metadata": {},
   "source": [
    "# 计算优先调配正价店的后果\n",
    "### 计算正价保护的名单（sku,分公司，开始保护的日期）"
   ]
  },
  {
   "cell_type": "code",
   "execution_count": 4,
   "metadata": {},
   "outputs": [],
   "source": [
    "shop.drop(['店铺简称','分公司'],axis=1,inplace = True)"
   ]
  },
  {
   "cell_type": "code",
   "execution_count": 6,
   "metadata": {},
   "outputs": [
    {
     "data": {
      "text/plain": [
       "(400, 2)"
      ]
     },
     "execution_count": 6,
     "metadata": {},
     "output_type": "execute_result"
    }
   ],
   "source": [
    "shop.shape"
   ]
  },
  {
   "cell_type": "code",
   "execution_count": 7,
   "metadata": {},
   "outputs": [],
   "source": [
    "df1 = pd.merge(sale,shop, left_on = '店铺编码',right_on = '店铺代码')"
   ]
  },
  {
   "cell_type": "code",
   "execution_count": 8,
   "metadata": {},
   "outputs": [],
   "source": [
    "df1.drop(\"店铺代码\",axis = 1 ,inplace = True)"
   ]
  },
  {
   "cell_type": "code",
   "execution_count": 9,
   "metadata": {},
   "outputs": [],
   "source": [
    "df1[\"月份\"] = pd.to_datetime(df1[\"时间\"]).apply(lambda x : x.strftime(\"%m\"))"
   ]
  },
  {
   "cell_type": "code",
   "execution_count": 10,
   "metadata": {},
   "outputs": [],
   "source": [
    "df1[\"月份\"]=df1[\"月份\"].astype(\"int\")"
   ]
  },
  {
   "cell_type": "code",
   "execution_count": 11,
   "metadata": {},
   "outputs": [
    {
     "data": {
      "text/html": [
       "<div>\n",
       "<style scoped>\n",
       "    .dataframe tbody tr th:only-of-type {\n",
       "        vertical-align: middle;\n",
       "    }\n",
       "\n",
       "    .dataframe tbody tr th {\n",
       "        vertical-align: top;\n",
       "    }\n",
       "\n",
       "    .dataframe thead th {\n",
       "        text-align: right;\n",
       "    }\n",
       "</style>\n",
       "<table border=\"1\" class=\"dataframe\">\n",
       "  <thead>\n",
       "    <tr style=\"text-align: right;\">\n",
       "      <th></th>\n",
       "      <th>时间</th>\n",
       "      <th>分公司</th>\n",
       "      <th>店铺编码</th>\n",
       "      <th>店铺名称</th>\n",
       "      <th>大类</th>\n",
       "      <th>中类</th>\n",
       "      <th>小类</th>\n",
       "      <th>商品编码</th>\n",
       "      <th>商品简称</th>\n",
       "      <th>尺码</th>\n",
       "      <th>年份</th>\n",
       "      <th>季节</th>\n",
       "      <th>波段</th>\n",
       "      <th>业绩金额</th>\n",
       "      <th>吊牌金额</th>\n",
       "      <th>销售数量</th>\n",
       "      <th>经营定位</th>\n",
       "      <th>月份</th>\n",
       "    </tr>\n",
       "  </thead>\n",
       "  <tbody>\n",
       "    <tr>\n",
       "      <th>0</th>\n",
       "      <td>2019-03-05</td>\n",
       "      <td>华北分公司</td>\n",
       "      <td>01023</td>\n",
       "      <td>朔州北关一店</td>\n",
       "      <td>服装</td>\n",
       "      <td>其他外套</td>\n",
       "      <td>牛仔外套</td>\n",
       "      <td>M1XQ203680B0</td>\n",
       "      <td>牛仔外套</td>\n",
       "      <td>XXL</td>\n",
       "      <td>2019</td>\n",
       "      <td>春</td>\n",
       "      <td>第二波段</td>\n",
       "      <td>369.0</td>\n",
       "      <td>369.0</td>\n",
       "      <td>1</td>\n",
       "      <td>正价店</td>\n",
       "      <td>3</td>\n",
       "    </tr>\n",
       "    <tr>\n",
       "      <th>1</th>\n",
       "      <td>2019-03-05</td>\n",
       "      <td>华北分公司</td>\n",
       "      <td>01023</td>\n",
       "      <td>朔州北关一店</td>\n",
       "      <td>配件</td>\n",
       "      <td>服饰配件</td>\n",
       "      <td>眼镜</td>\n",
       "      <td>M1X8100946L0</td>\n",
       "      <td>眼镜</td>\n",
       "      <td>F</td>\n",
       "      <td>2018</td>\n",
       "      <td>春</td>\n",
       "      <td>第五周</td>\n",
       "      <td>39.9</td>\n",
       "      <td>39.9</td>\n",
       "      <td>1</td>\n",
       "      <td>正价店</td>\n",
       "      <td>3</td>\n",
       "    </tr>\n",
       "    <tr>\n",
       "      <th>2</th>\n",
       "      <td>2019-03-05</td>\n",
       "      <td>华北分公司</td>\n",
       "      <td>01023</td>\n",
       "      <td>朔州北关一店</td>\n",
       "      <td>服装</td>\n",
       "      <td>夹克</td>\n",
       "      <td>单夹克</td>\n",
       "      <td>M1XJ203618K3</td>\n",
       "      <td>茄克</td>\n",
       "      <td>3XL</td>\n",
       "      <td>2019</td>\n",
       "      <td>春</td>\n",
       "      <td>第二波段</td>\n",
       "      <td>369.0</td>\n",
       "      <td>369.0</td>\n",
       "      <td>1</td>\n",
       "      <td>正价店</td>\n",
       "      <td>3</td>\n",
       "    </tr>\n",
       "    <tr>\n",
       "      <th>3</th>\n",
       "      <td>2019-03-05</td>\n",
       "      <td>华北分公司</td>\n",
       "      <td>01023</td>\n",
       "      <td>朔州北关一店</td>\n",
       "      <td>纸袋</td>\n",
       "      <td>默认</td>\n",
       "      <td>默认</td>\n",
       "      <td>TYZD003W0</td>\n",
       "      <td>小纸袋</td>\n",
       "      <td>JM</td>\n",
       "      <td>2017</td>\n",
       "      <td>四季</td>\n",
       "      <td>NaN</td>\n",
       "      <td>0.0</td>\n",
       "      <td>0.0</td>\n",
       "      <td>1</td>\n",
       "      <td>正价店</td>\n",
       "      <td>3</td>\n",
       "    </tr>\n",
       "    <tr>\n",
       "      <th>4</th>\n",
       "      <td>2019-03-05</td>\n",
       "      <td>华北分公司</td>\n",
       "      <td>01023</td>\n",
       "      <td>朔州北关一店</td>\n",
       "      <td>纸袋</td>\n",
       "      <td>默认</td>\n",
       "      <td>默认</td>\n",
       "      <td>TYZD002W0</td>\n",
       "      <td>中纸袋</td>\n",
       "      <td>JM</td>\n",
       "      <td>2017</td>\n",
       "      <td>四季</td>\n",
       "      <td>NaN</td>\n",
       "      <td>0.0</td>\n",
       "      <td>0.0</td>\n",
       "      <td>2</td>\n",
       "      <td>正价店</td>\n",
       "      <td>3</td>\n",
       "    </tr>\n",
       "  </tbody>\n",
       "</table>\n",
       "</div>"
      ],
      "text/plain": [
       "           时间    分公司   店铺编码    店铺名称  大类    中类    小类          商品编码  商品简称   尺码  \\\n",
       "0  2019-03-05  华北分公司  01023  朔州北关一店  服装  其他外套  牛仔外套  M1XQ203680B0  牛仔外套  XXL   \n",
       "1  2019-03-05  华北分公司  01023  朔州北关一店  配件  服饰配件    眼镜  M1X8100946L0    眼镜    F   \n",
       "2  2019-03-05  华北分公司  01023  朔州北关一店  服装    夹克   单夹克  M1XJ203618K3    茄克  3XL   \n",
       "3  2019-03-05  华北分公司  01023  朔州北关一店  纸袋    默认    默认     TYZD003W0   小纸袋   JM   \n",
       "4  2019-03-05  华北分公司  01023  朔州北关一店  纸袋    默认    默认     TYZD002W0   中纸袋   JM   \n",
       "\n",
       "     年份  季节    波段   业绩金额   吊牌金额  销售数量 经营定位  月份  \n",
       "0  2019   春  第二波段  369.0  369.0     1  正价店   3  \n",
       "1  2018   春   第五周   39.9   39.9     1  正价店   3  \n",
       "2  2019   春  第二波段  369.0  369.0     1  正价店   3  \n",
       "3  2017  四季   NaN    0.0    0.0     1  正价店   3  \n",
       "4  2017  四季   NaN    0.0    0.0     2  正价店   3  "
      ]
     },
     "execution_count": 11,
     "metadata": {},
     "output_type": "execute_result"
    }
   ],
   "source": [
    "df1.head()"
   ]
  },
  {
   "cell_type": "code",
   "execution_count": 12,
   "metadata": {},
   "outputs": [],
   "source": [
    "coms = df1[\"分公司\"].value_counts().index.values"
   ]
  },
  {
   "cell_type": "code",
   "execution_count": 13,
   "metadata": {},
   "outputs": [
    {
     "data": {
      "text/plain": [
       "array(['华南分公司', '华北分公司', '华中1分公司', '华中2分公司', '西北分公司', '西南分公司'],\n",
       "      dtype=object)"
      ]
     },
     "execution_count": 13,
     "metadata": {},
     "output_type": "execute_result"
    }
   ],
   "source": [
    "coms"
   ]
  },
  {
   "cell_type": "code",
   "execution_count": 30,
   "metadata": {},
   "outputs": [],
   "source": [
    "for i in range(7):\n",
    "    for com in coms:\n",
    "        df_ = df1[df1[\"月份\"]==(i+1)]\n",
    "        df_ = df_[df_[\"分公司\"]==com]\n",
    "        df_.to_csv(str(i+1)+\"月\"+com+\".csv\",index = False)"
   ]
  },
  {
   "cell_type": "code",
   "execution_count": 16,
   "metadata": {},
   "outputs": [
    {
     "data": {
      "text/plain": [
       "Index(['时间', '分公司', '店铺编码', '店铺名称', '仓库类型', '大类', '中类', '小类', '商品编码', '商品简称',\n",
       "       '尺码', '年份', '季节', '波段', '库存金额', '库存数量', '在途库存金额', '在途库存数量'],\n",
       "      dtype='object')"
      ]
     },
     "execution_count": 16,
     "metadata": {},
     "output_type": "execute_result"
    }
   ],
   "source": [
    "df.columns"
   ]
  },
  {
   "cell_type": "code",
   "execution_count": 6,
   "metadata": {},
   "outputs": [],
   "source": [
    "df = pd.read_csv(\"库存/三月库存数据.csv\", encoding = \"gbk\")\n",
    "df = df[df[\"年份\"]==2019]\n",
    "df = df[df[\"仓库类型\"]==\"分仓\"]\n",
    "mask_ware=-(df[\"店铺名称\"]==\"损失仓\")\n",
    "df = df[mask_ware]\n",
    "df[\"日\"]=pd.to_datetime(df[\"时间\"]).apply(lambda x:x.strftime(\"%d\")).astype(\"int\")\n",
    "m = df[[\"分公司\",\"商品编码\",\"日\"]][df[\"库存数量\"]==0]"
   ]
  },
  {
   "cell_type": "code",
   "execution_count": 16,
   "metadata": {},
   "outputs": [],
   "source": [
    "coms = df.分公司.value_counts().index.values"
   ]
  },
  {
   "cell_type": "code",
   "execution_count": 17,
   "metadata": {},
   "outputs": [
    {
     "data": {
      "text/plain": [
       "array(['华中1分公司', '西北分公司', '华北分公司', '西南分公司', '华中2分公司', '华南分公司'],\n",
       "      dtype=object)"
      ]
     },
     "execution_count": 17,
     "metadata": {},
     "output_type": "execute_result"
    }
   ],
   "source": [
    "coms"
   ]
  },
  {
   "cell_type": "code",
   "execution_count": 7,
   "metadata": {},
   "outputs": [],
   "source": [
    "m.to_csv(\"3月正价保护.csv\",index = False)"
   ]
  },
  {
   "cell_type": "markdown",
   "metadata": {},
   "source": [
    "## 保护"
   ]
  },
  {
   "cell_type": "code",
   "execution_count": 238,
   "metadata": {},
   "outputs": [],
   "source": [
    "df_ = pd.DataFrame()\n",
    "com = coms[0]\n",
    "for i in [3,4,5]:\n",
    "    df = pd.read_csv(str(i)+\"月\"+com+\".csv\")\n",
    "    m = pd.read_csv(str(i)+\"月正价保护.csv\")\n",
    "    df[\"销售日\"] = pd.to_datetime(df[\"时间\"]).apply(lambda x : x.strftime(\"%d\")).astype(\"int\")\n",
    "    m_ = m[m[\"分公司\"]==com]\n",
    "    df__=df.groupby(by = [\"时间\",\"店铺编码\",\"经营定位\",\"分公司\",\"商品编码\",\"吊牌金额\",\"年份\",\"月份\"],sort = False).sum().reset_index([\"时间\",\"分公司\",\"经营定位\",\"商品编码\",\"店铺编码\",\"吊牌金额\"]).merge(m_,how = \"inner\",on = \"商品编码\",suffixes = (\"_x\",\"_y\"))\n",
    "    df_ = pd.concat([df_,df__])\n",
    "df_[\"保护\"] = (df_[\"销售日\"]>=df_[\"日\"])*df_[\"经营定位\"].apply(lambda x:1 if x==\"正价店\"  else -1 if x==\"常规店\" else 0 )\n",
    "df_=df_[-(df_[\"保护\"]==0)]"
   ]
  },
  {
   "cell_type": "code",
   "execution_count": 190,
   "metadata": {},
   "outputs": [
    {
     "data": {
      "text/html": [
       "<div>\n",
       "<style scoped>\n",
       "    .dataframe tbody tr th:only-of-type {\n",
       "        vertical-align: middle;\n",
       "    }\n",
       "\n",
       "    .dataframe tbody tr th {\n",
       "        vertical-align: top;\n",
       "    }\n",
       "\n",
       "    .dataframe thead th {\n",
       "        text-align: right;\n",
       "    }\n",
       "</style>\n",
       "<table border=\"1\" class=\"dataframe\">\n",
       "  <thead>\n",
       "    <tr style=\"text-align: right;\">\n",
       "      <th></th>\n",
       "      <th>时间</th>\n",
       "      <th>店铺编码</th>\n",
       "      <th>经营定位</th>\n",
       "      <th>分公司_x</th>\n",
       "      <th>商品编码</th>\n",
       "      <th>吊牌金额</th>\n",
       "      <th>业绩金额</th>\n",
       "      <th>销售数量</th>\n",
       "      <th>销售日</th>\n",
       "      <th>分公司_y</th>\n",
       "      <th>日</th>\n",
       "      <th>保护</th>\n",
       "    </tr>\n",
       "  </thead>\n",
       "  <tbody>\n",
       "    <tr>\n",
       "      <th>81</th>\n",
       "      <td>2019-03-06</td>\n",
       "      <td>01023</td>\n",
       "      <td>正价店</td>\n",
       "      <td>华北分公司</td>\n",
       "      <td>M1XJ203618K3</td>\n",
       "      <td>369.0</td>\n",
       "      <td>738.0</td>\n",
       "      <td>2</td>\n",
       "      <td>12</td>\n",
       "      <td>华北分公司</td>\n",
       "      <td>7</td>\n",
       "      <td>1</td>\n",
       "    </tr>\n",
       "    <tr>\n",
       "      <th>82</th>\n",
       "      <td>2019-03-06</td>\n",
       "      <td>01023</td>\n",
       "      <td>正价店</td>\n",
       "      <td>华北分公司</td>\n",
       "      <td>M1XJ203618K3</td>\n",
       "      <td>369.0</td>\n",
       "      <td>738.0</td>\n",
       "      <td>2</td>\n",
       "      <td>12</td>\n",
       "      <td>华北分公司</td>\n",
       "      <td>7</td>\n",
       "      <td>1</td>\n",
       "    </tr>\n",
       "    <tr>\n",
       "      <th>151</th>\n",
       "      <td>2019-03-06</td>\n",
       "      <td>01023</td>\n",
       "      <td>正价店</td>\n",
       "      <td>华北分公司</td>\n",
       "      <td>M1XJ203618K3</td>\n",
       "      <td>369.0</td>\n",
       "      <td>738.0</td>\n",
       "      <td>2</td>\n",
       "      <td>12</td>\n",
       "      <td>华北分公司</td>\n",
       "      <td>12</td>\n",
       "      <td>1</td>\n",
       "    </tr>\n",
       "    <tr>\n",
       "      <th>152</th>\n",
       "      <td>2019-03-06</td>\n",
       "      <td>01023</td>\n",
       "      <td>正价店</td>\n",
       "      <td>华北分公司</td>\n",
       "      <td>M1XJ203618K3</td>\n",
       "      <td>369.0</td>\n",
       "      <td>738.0</td>\n",
       "      <td>2</td>\n",
       "      <td>12</td>\n",
       "      <td>华北分公司</td>\n",
       "      <td>12</td>\n",
       "      <td>1</td>\n",
       "    </tr>\n",
       "    <tr>\n",
       "      <th>153</th>\n",
       "      <td>2019-03-06</td>\n",
       "      <td>01023</td>\n",
       "      <td>正价店</td>\n",
       "      <td>华北分公司</td>\n",
       "      <td>M1XJ203618K3</td>\n",
       "      <td>369.0</td>\n",
       "      <td>738.0</td>\n",
       "      <td>2</td>\n",
       "      <td>12</td>\n",
       "      <td>华北分公司</td>\n",
       "      <td>12</td>\n",
       "      <td>1</td>\n",
       "    </tr>\n",
       "  </tbody>\n",
       "</table>\n",
       "</div>"
      ],
      "text/plain": [
       "             时间   店铺编码 经营定位  分公司_x          商品编码   吊牌金额   业绩金额  销售数量  销售日  \\\n",
       "81   2019-03-06  01023  正价店  华北分公司  M1XJ203618K3  369.0  738.0     2   12   \n",
       "82   2019-03-06  01023  正价店  华北分公司  M1XJ203618K3  369.0  738.0     2   12   \n",
       "151  2019-03-06  01023  正价店  华北分公司  M1XJ203618K3  369.0  738.0     2   12   \n",
       "152  2019-03-06  01023  正价店  华北分公司  M1XJ203618K3  369.0  738.0     2   12   \n",
       "153  2019-03-06  01023  正价店  华北分公司  M1XJ203618K3  369.0  738.0     2   12   \n",
       "\n",
       "     分公司_y   日  保护  \n",
       "81   华北分公司   7   1  \n",
       "82   华北分公司   7   1  \n",
       "151  华北分公司  12   1  \n",
       "152  华北分公司  12   1  \n",
       "153  华北分公司  12   1  "
      ]
     },
     "execution_count": 190,
     "metadata": {},
     "output_type": "execute_result"
    }
   ],
   "source": [
    "df_.head()"
   ]
  },
  {
   "cell_type": "code",
   "execution_count": 239,
   "metadata": {},
   "outputs": [],
   "source": [
    "df_.drop(['时间','销售日','分公司_y','日'],axis = 1, inplace = True)\n",
    "df_ = df_.groupby(by = [\"店铺编码\",\"经营定位\",\"分公司_x\",\"商品编码\",\"吊牌金额\",\"保护\"],sort = False).sum().reset_index()"
   ]
  },
  {
   "cell_type": "code",
   "execution_count": 234,
   "metadata": {},
   "outputs": [
    {
     "data": {
      "text/html": [
       "<div>\n",
       "<style scoped>\n",
       "    .dataframe tbody tr th:only-of-type {\n",
       "        vertical-align: middle;\n",
       "    }\n",
       "\n",
       "    .dataframe tbody tr th {\n",
       "        vertical-align: top;\n",
       "    }\n",
       "\n",
       "    .dataframe thead th {\n",
       "        text-align: right;\n",
       "    }\n",
       "</style>\n",
       "<table border=\"1\" class=\"dataframe\">\n",
       "  <thead>\n",
       "    <tr style=\"text-align: right;\">\n",
       "      <th></th>\n",
       "      <th>店铺编码</th>\n",
       "      <th>经营定位</th>\n",
       "      <th>分公司_x</th>\n",
       "      <th>商品编码</th>\n",
       "      <th>吊牌金额</th>\n",
       "      <th>保护</th>\n",
       "      <th>业绩金额</th>\n",
       "      <th>销售数量</th>\n",
       "    </tr>\n",
       "  </thead>\n",
       "  <tbody>\n",
       "    <tr>\n",
       "      <th>0</th>\n",
       "      <td>511068G</td>\n",
       "      <td>正价店</td>\n",
       "      <td>西南分公司</td>\n",
       "      <td>M2X1900050X0</td>\n",
       "      <td>398.0</td>\n",
       "      <td>1</td>\n",
       "      <td>62485.84</td>\n",
       "      <td>314</td>\n",
       "    </tr>\n",
       "    <tr>\n",
       "      <th>1</th>\n",
       "      <td>511068G</td>\n",
       "      <td>正价店</td>\n",
       "      <td>西南分公司</td>\n",
       "      <td>M2X1900050X0</td>\n",
       "      <td>199.0</td>\n",
       "      <td>1</td>\n",
       "      <td>236012.20</td>\n",
       "      <td>1186</td>\n",
       "    </tr>\n",
       "    <tr>\n",
       "      <th>2</th>\n",
       "      <td>511138J</td>\n",
       "      <td>正价店</td>\n",
       "      <td>西南分公司</td>\n",
       "      <td>M2X1900050X0</td>\n",
       "      <td>199.0</td>\n",
       "      <td>1</td>\n",
       "      <td>81789.00</td>\n",
       "      <td>411</td>\n",
       "    </tr>\n",
       "    <tr>\n",
       "      <th>3</th>\n",
       "      <td>503079J</td>\n",
       "      <td>常规店</td>\n",
       "      <td>西南分公司</td>\n",
       "      <td>M2X1900050X0</td>\n",
       "      <td>199.0</td>\n",
       "      <td>-1</td>\n",
       "      <td>15721.00</td>\n",
       "      <td>79</td>\n",
       "    </tr>\n",
       "    <tr>\n",
       "      <th>4</th>\n",
       "      <td>501134J</td>\n",
       "      <td>正价店</td>\n",
       "      <td>西南分公司</td>\n",
       "      <td>M2X1900050X0</td>\n",
       "      <td>199.0</td>\n",
       "      <td>1</td>\n",
       "      <td>52137.78</td>\n",
       "      <td>262</td>\n",
       "    </tr>\n",
       "  </tbody>\n",
       "</table>\n",
       "</div>"
      ],
      "text/plain": [
       "      店铺编码 经营定位  分公司_x          商品编码   吊牌金额  保护       业绩金额  销售数量\n",
       "0  511068G  正价店  西南分公司  M2X1900050X0  398.0   1   62485.84   314\n",
       "1  511068G  正价店  西南分公司  M2X1900050X0  199.0   1  236012.20  1186\n",
       "2  511138J  正价店  西南分公司  M2X1900050X0  199.0   1   81789.00   411\n",
       "3  503079J  常规店  西南分公司  M2X1900050X0  199.0  -1   15721.00    79\n",
       "4  501134J  正价店  西南分公司  M2X1900050X0  199.0   1   52137.78   262"
      ]
     },
     "execution_count": 234,
     "metadata": {},
     "output_type": "execute_result"
    }
   ],
   "source": [
    "df_.head()"
   ]
  },
  {
   "cell_type": "markdown",
   "metadata": {},
   "source": [
    "以下为数据的观察"
   ]
  },
  {
   "cell_type": "code",
   "execution_count": 117,
   "metadata": {},
   "outputs": [
    {
     "data": {
      "text/plain": [
       "正价店    11469\n",
       "常规店     2568\n",
       "Name: 经营定位, dtype: int64"
      ]
     },
     "execution_count": 117,
     "metadata": {},
     "output_type": "execute_result"
    }
   ],
   "source": [
    "df_[-(df_[\"吊牌金额\"]==(df_[\"业绩金额\"]/df_[\"销售数量\"]))].经营定位.value_counts()#不按照吊牌价来卖的"
   ]
  },
  {
   "cell_type": "code",
   "execution_count": 121,
   "metadata": {},
   "outputs": [
    {
     "data": {
      "text/plain": [
       "正价店    2536\n",
       "常规店     719\n",
       "Name: 经营定位, dtype: int64"
      ]
     },
     "execution_count": 121,
     "metadata": {},
     "output_type": "execute_result"
    }
   ],
   "source": [
    "df_[(df_[\"吊牌金额\"]<(df_[\"业绩金额\"]/df_[\"销售数量\"]))].经营定位.value_counts()#有一些实际价格比吊牌价格还高的"
   ]
  },
  {
   "cell_type": "code",
   "execution_count": 118,
   "metadata": {},
   "outputs": [
    {
     "data": {
      "text/plain": [
       "正价店    7863\n",
       "常规店    2603\n",
       "Name: 经营定位, dtype: int64"
      ]
     },
     "execution_count": 118,
     "metadata": {},
     "output_type": "execute_result"
    }
   ],
   "source": [
    "df_[(df_[\"吊牌金额\"]==(df_[\"业绩金额\"]/df_[\"销售数量\"]))].经营定位.value_counts()#按照吊牌价来卖的"
   ]
  },
  {
   "cell_type": "code",
   "execution_count": 231,
   "metadata": {},
   "outputs": [
    {
     "data": {
      "text/plain": [
       "['华南分公司', '华北分公司', '华中1分公司', '华中2分公司', '西北分公司', '西南分公司']"
      ]
     },
     "execution_count": 231,
     "metadata": {},
     "output_type": "execute_result"
    }
   ],
   "source": [
    "coms"
   ]
  },
  {
   "cell_type": "markdown",
   "metadata": {},
   "source": [
    "以上为数据的观察"
   ]
  },
  {
   "cell_type": "code",
   "execution_count": 240,
   "metadata": {},
   "outputs": [
    {
     "name": "stderr",
     "output_type": "stream",
     "text": [
      "/home/gang/anaconda3/lib/python3.6/site-packages/ipykernel_launcher.py:20: SettingWithCopyWarning: \n",
      "A value is trying to be set on a copy of a slice from a DataFrame.\n",
      "Try using .loc[row_indexer,col_indexer] = value instead\n",
      "\n",
      "See the caveats in the documentation: http://pandas.pydata.org/pandas-docs/stable/indexing.html#indexing-view-versus-copy\n",
      "/home/gang/anaconda3/lib/python3.6/site-packages/ipykernel_launcher.py:21: SettingWithCopyWarning: \n",
      "A value is trying to be set on a copy of a slice from a DataFrame.\n",
      "Try using .loc[row_indexer,col_indexer] = value instead\n",
      "\n",
      "See the caveats in the documentation: http://pandas.pydata.org/pandas-docs/stable/indexing.html#indexing-view-versus-copy\n",
      "/home/gang/anaconda3/lib/python3.6/site-packages/ipykernel_launcher.py:27: SettingWithCopyWarning: \n",
      "A value is trying to be set on a copy of a slice from a DataFrame.\n",
      "Try using .loc[row_indexer,col_indexer] = value instead\n",
      "\n",
      "See the caveats in the documentation: http://pandas.pydata.org/pandas-docs/stable/indexing.html#indexing-view-versus-copy\n",
      "/home/gang/anaconda3/lib/python3.6/site-packages/ipykernel_launcher.py:28: SettingWithCopyWarning: \n",
      "A value is trying to be set on a copy of a slice from a DataFrame.\n",
      "Try using .loc[row_indexer,col_indexer] = value instead\n",
      "\n",
      "See the caveats in the documentation: http://pandas.pydata.org/pandas-docs/stable/indexing.html#indexing-view-versus-copy\n"
     ]
    }
   ],
   "source": [
    "#南方公司，向下取整\n",
    "df_[\"销售单价\"] = df_[\"业绩金额\"]/df_[\"销售数量\"]\n",
    "df_[\"销量变动\"]=0\n",
    "df_[\"销额变动\"]=0\n",
    "df_[\"比例\"]=0\n",
    "dic=df_[df_[\"保护\"]==-1].groupby(by = [\"分公司_x\",\"商品编码\",\"保护\"],sort = False).sum().reset_index()[[\"商品编码\",\"销售数量\"]].set_index(\"商品编码\")\n",
    "df_[\"保护数量\"] = df_[\"商品编码\"].apply(lambda x:int(dic.loc[x]) if x in dic.index.values else 0)\n",
    "\n",
    "#计算出正价店某sku在该分公司的销售比例\n",
    "def function(data):\n",
    "    if(data[\"销售数量\"].sum()==0):\n",
    "        data[\"比例\"]=1/data.shape[0]\n",
    "    else:\n",
    "        data[\"比例\"] =data[\"销售数量\"]/data[\"销售数量\"].sum()\n",
    "    return data\n",
    "df_[df_[\"保护\"]==1] = df_[df_[\"保护\"]==1].groupby(\"商品编码\").apply(function)\n",
    "\n",
    "#计算出正价店的增加的销售数量\n",
    "def func(data):\n",
    "    data[\"销量变动\"] = data[\"比例\"]*data[\"保护数量\"]*0.8\n",
    "    data[\"销量变动\"] = data[\"销量变动\"].apply(math.floor)\n",
    "    return data\n",
    "df_[df_[\"保护\"]==1] = func(df_[df_[\"保护\"]==1])\n",
    "\n",
    "#计算出常规店减少的销售数量\n",
    "def func_(data):\n",
    "    data[\"销量变动\"] = -1*data[\"销售数量\"]*0.8\n",
    "    data[\"销量变动\"] = data[\"销量变动\"].apply(math.ceil)\n",
    "    return data\n",
    "df_[(df_[\"保护\"]==-1)] = func_(df_[df_[\"保护\"]==-1])\n",
    "\n",
    "df_[\"销额变动\"]= df_[\"销量变动\"]*df_[\"销售单价\"]#计算销售额变动"
   ]
  },
  {
   "cell_type": "code",
   "execution_count": 228,
   "metadata": {},
   "outputs": [
    {
     "name": "stderr",
     "output_type": "stream",
     "text": [
      "/home/gang/anaconda3/lib/python3.6/site-packages/ipykernel_launcher.py:21: SettingWithCopyWarning: \n",
      "A value is trying to be set on a copy of a slice from a DataFrame.\n",
      "Try using .loc[row_indexer,col_indexer] = value instead\n",
      "\n",
      "See the caveats in the documentation: http://pandas.pydata.org/pandas-docs/stable/indexing.html#indexing-view-versus-copy\n",
      "/home/gang/anaconda3/lib/python3.6/site-packages/ipykernel_launcher.py:22: SettingWithCopyWarning: \n",
      "A value is trying to be set on a copy of a slice from a DataFrame.\n",
      "Try using .loc[row_indexer,col_indexer] = value instead\n",
      "\n",
      "See the caveats in the documentation: http://pandas.pydata.org/pandas-docs/stable/indexing.html#indexing-view-versus-copy\n",
      "/home/gang/anaconda3/lib/python3.6/site-packages/ipykernel_launcher.py:28: SettingWithCopyWarning: \n",
      "A value is trying to be set on a copy of a slice from a DataFrame.\n",
      "Try using .loc[row_indexer,col_indexer] = value instead\n",
      "\n",
      "See the caveats in the documentation: http://pandas.pydata.org/pandas-docs/stable/indexing.html#indexing-view-versus-copy\n",
      "/home/gang/anaconda3/lib/python3.6/site-packages/ipykernel_launcher.py:29: SettingWithCopyWarning: \n",
      "A value is trying to be set on a copy of a slice from a DataFrame.\n",
      "Try using .loc[row_indexer,col_indexer] = value instead\n",
      "\n",
      "See the caveats in the documentation: http://pandas.pydata.org/pandas-docs/stable/indexing.html#indexing-view-versus-copy\n"
     ]
    }
   ],
   "source": [
    "#进行保护,北方公司向上取整\n",
    "\n",
    "df_[\"销售单价\"] = df_[\"业绩金额\"]/df_[\"销售数量\"]\n",
    "df_[\"销量变动\"]=0\n",
    "df_[\"销额变动\"]=0\n",
    "df_[\"比例\"]=0\n",
    "dic=df_[df_[\"保护\"]==-1].groupby(by = [\"分公司_x\",\"商品编码\",\"保护\"],sort = False).sum().reset_index()[[\"商品编码\",\"销售数量\"]].set_index(\"商品编码\")\n",
    "df_[\"保护数量\"] = df_[\"商品编码\"].apply(lambda x:int(dic.loc[x]) if x in dic.index.values else 0)\n",
    "\n",
    "#计算出正价店某sku在该分公司的销售比例\n",
    "def function(data):\n",
    "    if(data[\"销售数量\"].sum()==0):\n",
    "        data[\"比例\"]=1/data.shape[0]\n",
    "    else:\n",
    "        data[\"比例\"] =data[\"销售数量\"]/data[\"销售数量\"].sum()\n",
    "    return data\n",
    "df_[df_[\"保护\"]==1] = df_[df_[\"保护\"]==1].groupby(\"商品编码\").apply(function)\n",
    "\n",
    "#计算出正价店的增加的销售数量\n",
    "def func(data):\n",
    "    data[\"销量变动\"] = data[\"比例\"]*data[\"保护数量\"]*0.8\n",
    "    data[\"销量变动\"] = data[\"销量变动\"].apply(math.ceil)\n",
    "    return data\n",
    "df_[df_[\"保护\"]==1] = func(df_[df_[\"保护\"]==1])\n",
    "\n",
    "#计算出常规店减少的销售数量\n",
    "def func_(data):\n",
    "    data[\"销量变动\"] = -1*data[\"销售数量\"]*0.8\n",
    "    data[\"销量变动\"] = data[\"销量变动\"].apply(math.ceil)\n",
    "    return data\n",
    "df_[(df_[\"保护\"]==-1)] = func_(df_[df_[\"保护\"]==-1])\n",
    "\n",
    "df_[\"销额变动\"]= df_[\"销量变动\"]*df_[\"销售单价\"]#计算销售额变动"
   ]
  },
  {
   "cell_type": "code",
   "execution_count": 242,
   "metadata": {},
   "outputs": [],
   "source": [
    "df_.to_csv(com+\"保护结果.csv\",index = False)"
   ]
  },
  {
   "cell_type": "code",
   "execution_count": 11,
   "metadata": {},
   "outputs": [],
   "source": [
    "coms = ['华南分公司', '华北分公司', '华中1分公司', '华中2分公司', '西北分公司', '西南分公司']"
   ]
  }
 ],
 "metadata": {
  "kernelspec": {
   "display_name": "Python 3",
   "language": "python",
   "name": "python3"
  },
  "language_info": {
   "codemirror_mode": {
    "name": "ipython",
    "version": 3
   },
   "file_extension": ".py",
   "mimetype": "text/x-python",
   "name": "python",
   "nbconvert_exporter": "python",
   "pygments_lexer": "ipython3",
   "version": "3.6.5"
  }
 },
 "nbformat": 4,
 "nbformat_minor": 2
}
