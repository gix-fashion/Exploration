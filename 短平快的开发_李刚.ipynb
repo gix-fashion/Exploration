{
 "cells": [
  {
   "cell_type": "markdown",
   "metadata": {},
   "source": [
    "## 调用常用包和定义常用函数\n"
   ]
  },
  {
   "cell_type": "code",
   "execution_count": 25,
   "metadata": {},
   "outputs": [],
   "source": [
    "import pandas as pd\n",
    "import numpy as np\n",
    "from sklearn import preprocessing\n",
    "import matplotlib.pyplot as plt\n",
    "\n",
    "from sklearn.naive_bayes import BernoulliNB\n",
    "from sklearn.decomposition import PCA\n",
    "from sklearn.linear_model import LogisticRegression\n",
    "from sklearn.linear_model import LinearRegression\n",
    "from sklearn.model_selection import train_test_split\n",
    "from sklearn import metrics\n",
    "\n",
    "#将catogorical的feature转换成numerical\n",
    "def encode_text_dummy(df, name):\n",
    "    dummies = pd.get_dummies(df[name])\n",
    "    for x in dummies.columns:\n",
    "        dummy_name = \"{}-{}\".format(name, x)\n",
    "        df[dummy_name] = dummies[x]\n",
    "    df.drop(name, axis=1, inplace=True)\n",
    "\n",
    "def encode_text_index(df, name):\n",
    "    le = preprocessing.LabelEncoder()\n",
    "    df[name] = le.fit_transform(df[name])\n",
    "    return le.classes_    \n",
    "\n",
    "\n",
    "#把月份转换成季节\n",
    "def season(i):\n",
    "    if i in [3,4,5]:\n",
    "        return \"春\"\n",
    "    if i in [6,7,8]:\n",
    "        return \"夏\"\n",
    "    if i in [9,10,11]:\n",
    "        return \"秋\"\n",
    "    if i in [12,1,2]:\n",
    "        return \"冬\"\n",
    "    return np.nan\n",
    "\n",
    "#定义了我们所沿用的损失函数\n",
    "def loss_function(y_pred,y_test,d):\n",
    "    loss = []\n",
    "    for i in range(d):\n",
    "        error = abs(y_pred[:,i]-y_test[:,i])\n",
    "        scaled = (error/y_pred[:,i])*100\n",
    "        score = scaled.mean()\n",
    "        print(score) #舍弃周次的encode\n",
    "        loss.append(score)\n",
    "        \n",
    "%matplotlib inline        "
   ]
  },
  {
   "cell_type": "code",
   "execution_count": 26,
   "metadata": {},
   "outputs": [],
   "source": [
    "import os\n",
    "ls = os.listdir(\"1_22中类销售/\")"
   ]
  },
  {
   "cell_type": "code",
   "execution_count": 183,
   "metadata": {},
   "outputs": [],
   "source": [
    "wasd= ['棉衣', '皮鞋']#这两个的字段名称不一样"
   ]
  },
  {
   "cell_type": "code",
   "execution_count": 154,
   "metadata": {},
   "outputs": [
    {
     "data": {
      "text/plain": [
       "['拖鞋销售.csv',\n",
       " '大衣销售.csv',\n",
       " 'T恤销售.csv',\n",
       " '运动鞋销售.csv',\n",
       " '卫衣销售.csv',\n",
       " '皮衣销售.csv',\n",
       " '服饰配件销售.csv',\n",
       " '休闲鞋销售.csv',\n",
       " '半裙销售.csv',\n",
       " '夹克销售.csv',\n",
       " '风衣销售.csv',\n",
       " '礼品销售.csv',\n",
       " '板鞋销售.csv',\n",
       " '棉衣销售.csv',\n",
       " '羽绒服销售.csv',\n",
       " '衬衫销售.csv',\n",
       " '皮鞋销售.csv',\n",
       " '靴子销售.csv',\n",
       " '线衣销售.csv',\n",
       " '牛仔裤销售.csv',\n",
       " '裤装销售.csv',\n",
       " '连衣裙销售.csv']"
      ]
     },
     "execution_count": 154,
     "metadata": {},
     "output_type": "execute_result"
    }
   ],
   "source": [
    "ls "
   ]
  },
  {
   "cell_type": "code",
   "execution_count": 230,
   "metadata": {},
   "outputs": [],
   "source": [
    "df0 = pd.DataFrame()\n",
    "for file in ls:\n",
    "    if not (file.split(\"销售\")[0] in wasd):\n",
    "        df = pd.read_csv(\"1_22中类销售/\"+file,encoding =\"gbk\")\n",
    "        df0 = pd.concat([df0,df])"
   ]
  },
  {
   "cell_type": "code",
   "execution_count": 231,
   "metadata": {},
   "outputs": [
    {
     "data": {
      "text/plain": [
       "Index(['分公司', '店铺名称', '中类', '小类', '货号', '货品名称', '尺码', '商品年份', '季节', '波段',\n",
       "       '首销日', '第1周销量', '第1周销额', '第2周销量', '第2周销额', '第3周销量', '第3周销额', '第4周销量',\n",
       "       '第4周销额', '第5周销量', '第5周销额', '第6周销量', '第6周销额', '第7周销量', '第7周销额', '第8周销量',\n",
       "       '第8周销额', '第9周销量', '第9周销额', '第10周销量', '第10周销额', '第11周销量', '第11周销额',\n",
       "       '第12周销量', '第12周销额'],\n",
       "      dtype='object')"
      ]
     },
     "execution_count": 231,
     "metadata": {},
     "output_type": "execute_result"
    }
   ],
   "source": [
    "df0.columns"
   ]
  },
  {
   "cell_type": "markdown",
   "metadata": {},
   "source": [
    "****"
   ]
  },
  {
   "cell_type": "code",
   "execution_count": 181,
   "metadata": {},
   "outputs": [
    {
     "data": {
      "text/plain": [
       "男鞋    2101\n",
       "Name: matname, dtype: int64"
      ]
     },
     "execution_count": 181,
     "metadata": {},
     "output_type": "execute_result"
    }
   ],
   "source": [
    "df0[df0[\"f1\"].notna()][\"matname\"].value_counts()"
   ]
  },
  {
   "cell_type": "code",
   "execution_count": 169,
   "metadata": {},
   "outputs": [],
   "source": [
    "wasd = df0[df0[\"f1\"].notna()][\"matname\"].value_counts().index"
   ]
  },
  {
   "cell_type": "code",
   "execution_count": 160,
   "metadata": {},
   "outputs": [],
   "source": [
    "df0.loc[df0['分公司'].isnull(),'分公司']=df0[df0['分公司'].isnull()][\"MidCategoryName\"]"
   ]
  },
  {
   "cell_type": "code",
   "execution_count": 161,
   "metadata": {},
   "outputs": [
    {
     "data": {
      "text/plain": [
       "False    7706778\n",
       "Name: 分公司, dtype: int64"
      ]
     },
     "execution_count": 161,
     "metadata": {},
     "output_type": "execute_result"
    }
   ],
   "source": [
    "df0[\"分公司\"].isna().value_counts()"
   ]
  },
  {
   "cell_type": "code",
   "execution_count": 162,
   "metadata": {},
   "outputs": [
    {
     "data": {
      "text/plain": [
       "False    7706778\n",
       "Name: 商品年份, dtype: int64"
      ]
     },
     "execution_count": 162,
     "metadata": {},
     "output_type": "execute_result"
    }
   ],
   "source": [
    "df0.loc[df0['商品年份'].isnull(),'商品年份']=df0[df0['商品年份'].isnull()][\"YearNo\"]\n",
    "df0[\"商品年份\"].isna().value_counts()"
   ]
  },
  {
   "cell_type": "code",
   "execution_count": 163,
   "metadata": {},
   "outputs": [
    {
     "data": {
      "text/plain": [
       "False    7706778\n",
       "Name: 季节, dtype: int64"
      ]
     },
     "execution_count": 163,
     "metadata": {},
     "output_type": "execute_result"
    }
   ],
   "source": [
    "df0.loc[df0['季节'].isnull(),'季节']=df0[df0['季节'].isnull()][\"SeasonName\"]\n",
    "df0[\"季节\"].isna().value_counts()"
   ]
  },
  {
   "cell_type": "code",
   "execution_count": 164,
   "metadata": {},
   "outputs": [
    {
     "data": {
      "text/plain": [
       "False    7706778\n",
       "Name: 店铺名称, dtype: int64"
      ]
     },
     "execution_count": 164,
     "metadata": {},
     "output_type": "execute_result"
    }
   ],
   "source": [
    "df0.loc[df0['店铺名称'].isnull(),'店铺名称']=df0[df0['店铺名称'].isnull()][\"shopname\"]\n",
    "df0[\"店铺名称\"].isna().value_counts()"
   ]
  },
  {
   "cell_type": "markdown",
   "metadata": {},
   "source": [
    "***"
   ]
  },
  {
   "cell_type": "code",
   "execution_count": 232,
   "metadata": {},
   "outputs": [
    {
     "data": {
      "text/plain": [
       "2017    2551586\n",
       "2018    2161026\n",
       "2016    2056127\n",
       "2019     507820\n",
       "2015     145330\n",
       "Name: 商品年份, dtype: int64"
      ]
     },
     "execution_count": 232,
     "metadata": {},
     "output_type": "execute_result"
    }
   ],
   "source": [
    "df0.商品年份.value_counts()"
   ]
  },
  {
   "cell_type": "code",
   "execution_count": 187,
   "metadata": {},
   "outputs": [
    {
     "data": {
      "text/plain": [
       "13545"
      ]
     },
     "execution_count": 187,
     "metadata": {},
     "output_type": "execute_result"
    }
   ],
   "source": [
    "df0[\"货号\"].value_counts().size"
   ]
  },
  {
   "cell_type": "code",
   "execution_count": 188,
   "metadata": {},
   "outputs": [
    {
     "data": {
      "text/plain": [
       "第1波段     1351488\n",
       "第3波段      914094\n",
       "第2波段      908259\n",
       "第一波段      801214\n",
       "第二波段      675774\n",
       "第三波段      645720\n",
       "第5波段      372930\n",
       "第4波段      343078\n",
       "第四波段      279059\n",
       "第五波段      234650\n",
       "第6波段      166973\n",
       "第7波段       93994\n",
       "第六波段       84941\n",
       "第10波段      70241\n",
       "第9波段       68330\n",
       "第8波段       66680\n",
       "第七波段       45072\n",
       "第二十九周      27333\n",
       "第十二周       23634\n",
       "第十七周       21311\n",
       "第八周        20924\n",
       "第四十周       20068\n",
       "第一周        20049\n",
       "第二十周       15592\n",
       "第三周        14381\n",
       "第四十四周      13741\n",
       "第四十六周      11062\n",
       "第三十七周      10588\n",
       "第十三周       10381\n",
       "第九周         9826\n",
       "          ...   \n",
       "第七周         7316\n",
       "第三十九周       7312\n",
       "第五周         6519\n",
       "第二十三周       6179\n",
       "第四十九周       5497\n",
       "第六周         4766\n",
       "第四十二周       4349\n",
       "第十一周        2964\n",
       "第十周         2516\n",
       "第四十八周       2482\n",
       "第五十二周       2470\n",
       "第四十五周       2071\n",
       "第二十一周       2024\n",
       "第五十周        1701\n",
       "第十八周        1673\n",
       "第八波段        1528\n",
       "第四周         1483\n",
       "第四十七周       1430\n",
       "第三十三周       1234\n",
       "第三十四周       1145\n",
       "第五十一周       1018\n",
       "第三十二周        881\n",
       "第十九周         753\n",
       "第二十二周        599\n",
       "第三十八周        559\n",
       "第二十五周        359\n",
       "第十六周         309\n",
       "第二十四周        215\n",
       "第三十六周        134\n",
       "第二十六周          1\n",
       "Name: 波段, Length: 61, dtype: int64"
      ]
     },
     "execution_count": 188,
     "metadata": {},
     "output_type": "execute_result"
    }
   ],
   "source": [
    "df0.波段.value_counts()"
   ]
  },
  {
   "cell_type": "code",
   "execution_count": 189,
   "metadata": {},
   "outputs": [
    {
     "data": {
      "text/plain": [
       "华北分公司     1597178\n",
       "华南分公司     1452792\n",
       "华中2分公司    1426065\n",
       "华中1分公司    1309946\n",
       "西南分公司      854272\n",
       "西北分公司      771731\n",
       "总部           9905\n",
       "Name: 分公司, dtype: int64"
      ]
     },
     "execution_count": 189,
     "metadata": {},
     "output_type": "execute_result"
    }
   ],
   "source": [
    "df0.分公司.value_counts()"
   ]
  },
  {
   "cell_type": "code",
   "execution_count": 102,
   "metadata": {},
   "outputs": [],
   "source": [
    "def sub(string):\n",
    "    string = string.replace(\"10\",\"十\")\n",
    "    string = string.replace(\"1\",\"一\")\n",
    "    string = string.replace(\"2\",\"二\")\n",
    "    string = string.replace(\"3\",\"三\")\n",
    "    string = string.replace(\"4\",\"四\")\n",
    "    string = string.replace(\"5\",\"五\")\n",
    "    string = string.replace(\"6\",\"六\")\n",
    "    string = string.replace(\"7\",\"七\")\n",
    "    string = string.replace(\"8\",\"八\")\n",
    "    string = string.replace(\"9\",\"九\")\n",
    "    return string\n",
    "#df0 = df0[df0[\"波段\"].apply(lambda x : \"波段\" in x)]\n",
    "#df0[\"波段\"]=df0[\"波段\"].apply(sub)"
   ]
  },
  {
   "cell_type": "code",
   "execution_count": 233,
   "metadata": {},
   "outputs": [],
   "source": [
    "df0[\"首销月\"]= pd.to_datetime(df0[\"首销日\"]).apply(lambda x:x.strftime(\"%m\")).astype(\"int\")"
   ]
  },
  {
   "cell_type": "code",
   "execution_count": 234,
   "metadata": {},
   "outputs": [],
   "source": [
    "df0[\"首销季节\"] = df0[\"首销月\"].apply(season)"
   ]
  },
  {
   "cell_type": "code",
   "execution_count": 235,
   "metadata": {},
   "outputs": [],
   "source": [
    "df0[\"首销年\"]= pd.to_datetime(df0[\"首销日\"]).apply(lambda x:x.strftime(\"%y\")).astype(\"int\")"
   ]
  },
  {
   "cell_type": "code",
   "execution_count": 193,
   "metadata": {},
   "outputs": [
    {
     "data": {
      "text/plain": [
       "17    2527390\n",
       "18    2311151\n",
       "16    1758787\n",
       "19     727164\n",
       "15      97397\n",
       "Name: 首销年, dtype: int64"
      ]
     },
     "execution_count": 193,
     "metadata": {},
     "output_type": "execute_result"
    }
   ],
   "source": [
    "df0[\"首销年\"].value_counts()"
   ]
  },
  {
   "cell_type": "code",
   "execution_count": 194,
   "metadata": {},
   "outputs": [
    {
     "data": {
      "text/html": [
       "<div>\n",
       "<style scoped>\n",
       "    .dataframe tbody tr th:only-of-type {\n",
       "        vertical-align: middle;\n",
       "    }\n",
       "\n",
       "    .dataframe tbody tr th {\n",
       "        vertical-align: top;\n",
       "    }\n",
       "\n",
       "    .dataframe thead th {\n",
       "        text-align: right;\n",
       "    }\n",
       "</style>\n",
       "<table border=\"1\" class=\"dataframe\">\n",
       "  <thead>\n",
       "    <tr style=\"text-align: right;\">\n",
       "      <th></th>\n",
       "      <th>分公司</th>\n",
       "      <th>店铺名称</th>\n",
       "      <th>中类</th>\n",
       "      <th>小类</th>\n",
       "      <th>货号</th>\n",
       "      <th>货品名称</th>\n",
       "      <th>尺码</th>\n",
       "      <th>商品年份</th>\n",
       "      <th>季节</th>\n",
       "      <th>波段</th>\n",
       "      <th>...</th>\n",
       "      <th>第9周销额</th>\n",
       "      <th>第10周销量</th>\n",
       "      <th>第10周销额</th>\n",
       "      <th>第11周销量</th>\n",
       "      <th>第11周销额</th>\n",
       "      <th>第12周销量</th>\n",
       "      <th>第12周销额</th>\n",
       "      <th>首销月</th>\n",
       "      <th>首销季节</th>\n",
       "      <th>首销年</th>\n",
       "    </tr>\n",
       "  </thead>\n",
       "  <tbody>\n",
       "    <tr>\n",
       "      <th>0</th>\n",
       "      <td>华中1分公司</td>\n",
       "      <td>武汉解放路店</td>\n",
       "      <td>拖鞋</td>\n",
       "      <td>软木拖</td>\n",
       "      <td>2X811001W0</td>\n",
       "      <td>男鞋</td>\n",
       "      <td>39</td>\n",
       "      <td>2017</td>\n",
       "      <td>夏</td>\n",
       "      <td>第一波段</td>\n",
       "      <td>...</td>\n",
       "      <td>NaN</td>\n",
       "      <td>1.0</td>\n",
       "      <td>69.0</td>\n",
       "      <td>1.0</td>\n",
       "      <td>69.0</td>\n",
       "      <td>NaN</td>\n",
       "      <td>NaN</td>\n",
       "      <td>4</td>\n",
       "      <td>春</td>\n",
       "      <td>17</td>\n",
       "    </tr>\n",
       "    <tr>\n",
       "      <th>1</th>\n",
       "      <td>华南分公司</td>\n",
       "      <td>广州龙洞步行街店</td>\n",
       "      <td>拖鞋</td>\n",
       "      <td>夹脚拖</td>\n",
       "      <td>M2X1201514B0</td>\n",
       "      <td>男鞋</td>\n",
       "      <td>41</td>\n",
       "      <td>2018</td>\n",
       "      <td>夏</td>\n",
       "      <td>第十二周</td>\n",
       "      <td>...</td>\n",
       "      <td>9.9</td>\n",
       "      <td>NaN</td>\n",
       "      <td>NaN</td>\n",
       "      <td>1.0</td>\n",
       "      <td>9.9</td>\n",
       "      <td>NaN</td>\n",
       "      <td>NaN</td>\n",
       "      <td>4</td>\n",
       "      <td>春</td>\n",
       "      <td>18</td>\n",
       "    </tr>\n",
       "    <tr>\n",
       "      <th>2</th>\n",
       "      <td>华中1分公司</td>\n",
       "      <td>衡阳鑫都国际广场店</td>\n",
       "      <td>拖鞋</td>\n",
       "      <td>软木拖</td>\n",
       "      <td>M2X1201594W0</td>\n",
       "      <td>男鞋</td>\n",
       "      <td>43</td>\n",
       "      <td>2018</td>\n",
       "      <td>夏</td>\n",
       "      <td>第十七周</td>\n",
       "      <td>...</td>\n",
       "      <td>NaN</td>\n",
       "      <td>NaN</td>\n",
       "      <td>NaN</td>\n",
       "      <td>NaN</td>\n",
       "      <td>NaN</td>\n",
       "      <td>NaN</td>\n",
       "      <td>NaN</td>\n",
       "      <td>7</td>\n",
       "      <td>夏</td>\n",
       "      <td>18</td>\n",
       "    </tr>\n",
       "    <tr>\n",
       "      <th>3</th>\n",
       "      <td>华南分公司</td>\n",
       "      <td>广州西城都荟店中店</td>\n",
       "      <td>拖鞋</td>\n",
       "      <td>软木拖</td>\n",
       "      <td>2X1B3002W0</td>\n",
       "      <td>男鞋</td>\n",
       "      <td>42</td>\n",
       "      <td>2017</td>\n",
       "      <td>夏</td>\n",
       "      <td>第三波段</td>\n",
       "      <td>...</td>\n",
       "      <td>NaN</td>\n",
       "      <td>NaN</td>\n",
       "      <td>NaN</td>\n",
       "      <td>NaN</td>\n",
       "      <td>NaN</td>\n",
       "      <td>NaN</td>\n",
       "      <td>NaN</td>\n",
       "      <td>5</td>\n",
       "      <td>春</td>\n",
       "      <td>17</td>\n",
       "    </tr>\n",
       "    <tr>\n",
       "      <th>4</th>\n",
       "      <td>华中1分公司</td>\n",
       "      <td>衡阳鑫都国际广场店</td>\n",
       "      <td>拖鞋</td>\n",
       "      <td>软木拖</td>\n",
       "      <td>M2X1201593L0</td>\n",
       "      <td>男鞋</td>\n",
       "      <td>42</td>\n",
       "      <td>2018</td>\n",
       "      <td>夏</td>\n",
       "      <td>第十七周</td>\n",
       "      <td>...</td>\n",
       "      <td>NaN</td>\n",
       "      <td>NaN</td>\n",
       "      <td>NaN</td>\n",
       "      <td>NaN</td>\n",
       "      <td>NaN</td>\n",
       "      <td>NaN</td>\n",
       "      <td>NaN</td>\n",
       "      <td>9</td>\n",
       "      <td>秋</td>\n",
       "      <td>18</td>\n",
       "    </tr>\n",
       "  </tbody>\n",
       "</table>\n",
       "<p>5 rows × 38 columns</p>\n",
       "</div>"
      ],
      "text/plain": [
       "      分公司       店铺名称  中类   小类            货号 货品名称  尺码  商品年份 季节    波段  ...  \\\n",
       "0  华中1分公司     武汉解放路店  拖鞋  软木拖    2X811001W0   男鞋  39  2017  夏  第一波段  ...   \n",
       "1   华南分公司   广州龙洞步行街店  拖鞋  夹脚拖  M2X1201514B0   男鞋  41  2018  夏  第十二周  ...   \n",
       "2  华中1分公司  衡阳鑫都国际广场店  拖鞋  软木拖  M2X1201594W0   男鞋  43  2018  夏  第十七周  ...   \n",
       "3   华南分公司  广州西城都荟店中店  拖鞋  软木拖    2X1B3002W0   男鞋  42  2017  夏  第三波段  ...   \n",
       "4  华中1分公司  衡阳鑫都国际广场店  拖鞋  软木拖  M2X1201593L0   男鞋  42  2018  夏  第十七周  ...   \n",
       "\n",
       "  第9周销额  第10周销量  第10周销额  第11周销量  第11周销额  第12周销量  第12周销额  首销月  首销季节  首销年  \n",
       "0   NaN     1.0    69.0     1.0    69.0     NaN     NaN    4     春   17  \n",
       "1   9.9     NaN     NaN     1.0     9.9     NaN     NaN    4     春   18  \n",
       "2   NaN     NaN     NaN     NaN     NaN     NaN     NaN    7     夏   18  \n",
       "3   NaN     NaN     NaN     NaN     NaN     NaN     NaN    5     春   17  \n",
       "4   NaN     NaN     NaN     NaN     NaN     NaN     NaN    9     秋   18  \n",
       "\n",
       "[5 rows x 38 columns]"
      ]
     },
     "execution_count": 194,
     "metadata": {},
     "output_type": "execute_result"
    }
   ],
   "source": [
    "df0.head()"
   ]
  },
  {
   "cell_type": "markdown",
   "metadata": {
    "collapsed": true
   },
   "source": [
    "## 训练模型"
   ]
  },
  {
   "cell_type": "code",
   "execution_count": 236,
   "metadata": {},
   "outputs": [],
   "source": [
    "def train_predict(x,y):\n",
    "    lr = LinearRegression()\n",
    "    lr.fit(x,y)\n",
    "    return(lr.predict(19))\n",
    "    "
   ]
  },
  {
   "cell_type": "code",
   "execution_count": 237,
   "metadata": {},
   "outputs": [
    {
     "data": {
      "text/plain": [
       "array([19.])"
      ]
     },
     "execution_count": 237,
     "metadata": {},
     "output_type": "execute_result"
    }
   ],
   "source": [
    "train_predict([[16],[17],[18]],[16,17,18])"
   ]
  },
  {
   "cell_type": "code",
   "execution_count": 238,
   "metadata": {},
   "outputs": [],
   "source": [
    "df0[\"销量\"] = 0\n",
    "df0[\"销额\"] = 0\n",
    "df0.fillna(0,inplace=True)\n",
    "for i in range(12):\n",
    "    df0[\"销量\"]+=df0[\"第\"+str(i+1)+\"周销量\"]\n",
    "    df0.drop(\"第\"+str(i+1)+\"周销量\",axis=1,inplace = True)\n",
    "    df0[\"销额\"]+= df0[\"第\"+str(i+1)+\"周销额\"]\n",
    "    df0.drop(\"第\"+str(i+1)+\"周销额\",axis=1,inplace = True)"
   ]
  },
  {
   "cell_type": "code",
   "execution_count": 239,
   "metadata": {},
   "outputs": [],
   "source": [
    "encode_text_dummy(df0,\"商品年份\")"
   ]
  },
  {
   "cell_type": "code",
   "execution_count": 240,
   "metadata": {},
   "outputs": [],
   "source": [
    "for i in [2015,2016,2017,2018,2019]:\n",
    "    df0[\"商品年份-\"+str(i)+\"-销量\"] = df0[\"商品年份-\"+str(i)]* df0[\"销量\"]\n",
    "    df0[\"商品年份-\"+str(i)+\"-销额\"] = df0[\"商品年份-\"+str(i)]* df0[\"销额\"]"
   ]
  },
  {
   "cell_type": "code",
   "execution_count": 241,
   "metadata": {},
   "outputs": [
    {
     "data": {
      "text/plain": [
       "Index(['分公司', '店铺名称', '中类', '小类', '货号', '货品名称', '尺码', '季节', '波段', '首销日', '首销月',\n",
       "       '首销季节', '首销年', '销量', '销额', '商品年份-2015', '商品年份-2016', '商品年份-2017',\n",
       "       '商品年份-2018', '商品年份-2019', '商品年份-2015-销量', '商品年份-2015-销额',\n",
       "       '商品年份-2016-销量', '商品年份-2016-销额', '商品年份-2017-销量', '商品年份-2017-销额',\n",
       "       '商品年份-2018-销量', '商品年份-2018-销额', '商品年份-2019-销量', '商品年份-2019-销额'],\n",
       "      dtype='object')"
      ]
     },
     "execution_count": 241,
     "metadata": {},
     "output_type": "execute_result"
    }
   ],
   "source": [
    "df0.columns"
   ]
  },
  {
   "cell_type": "code",
   "execution_count": 242,
   "metadata": {},
   "outputs": [],
   "source": [
    "cols = df0.columns[20:]"
   ]
  },
  {
   "cell_type": "code",
   "execution_count": 243,
   "metadata": {},
   "outputs": [
    {
     "data": {
      "text/plain": [
       "Index(['商品年份-2015-销量', '商品年份-2015-销额', '商品年份-2016-销量', '商品年份-2016-销额',\n",
       "       '商品年份-2017-销量', '商品年份-2017-销额', '商品年份-2018-销量', '商品年份-2018-销额',\n",
       "       '商品年份-2019-销量', '商品年份-2019-销额'],\n",
       "      dtype='object')"
      ]
     },
     "execution_count": 243,
     "metadata": {},
     "output_type": "execute_result"
    }
   ],
   "source": [
    "df0.columns[20:]"
   ]
  },
  {
   "cell_type": "code",
   "execution_count": 201,
   "metadata": {},
   "outputs": [],
   "source": [
    "df0.to_csv(\"中类data.csv\",index = False)"
   ]
  },
  {
   "cell_type": "code",
   "execution_count": 247,
   "metadata": {},
   "outputs": [],
   "source": [
    "df1 = df0.groupby([\"分公司\",\"中类\",\"小类\",\"季节\",\"首销月\"])[cols].sum()#.reset_index()"
   ]
  },
  {
   "cell_type": "code",
   "execution_count": 262,
   "metadata": {},
   "outputs": [
    {
     "data": {
      "text/html": [
       "<div>\n",
       "<style scoped>\n",
       "    .dataframe tbody tr th:only-of-type {\n",
       "        vertical-align: middle;\n",
       "    }\n",
       "\n",
       "    .dataframe tbody tr th {\n",
       "        vertical-align: top;\n",
       "    }\n",
       "\n",
       "    .dataframe thead th {\n",
       "        text-align: right;\n",
       "    }\n",
       "</style>\n",
       "<table border=\"1\" class=\"dataframe\">\n",
       "  <thead>\n",
       "    <tr style=\"text-align: right;\">\n",
       "      <th></th>\n",
       "      <th>分公司</th>\n",
       "      <th>中类</th>\n",
       "      <th>小类</th>\n",
       "      <th>季节</th>\n",
       "      <th>首销月</th>\n",
       "      <th>商品年份-2015-销量</th>\n",
       "      <th>商品年份-2015-销额</th>\n",
       "      <th>商品年份-2016-销量</th>\n",
       "      <th>商品年份-2016-销额</th>\n",
       "      <th>商品年份-2017-销量</th>\n",
       "      <th>商品年份-2017-销额</th>\n",
       "      <th>商品年份-2018-销量</th>\n",
       "      <th>商品年份-2018-销额</th>\n",
       "      <th>商品年份-2019-销量</th>\n",
       "      <th>商品年份-2019-销额</th>\n",
       "    </tr>\n",
       "  </thead>\n",
       "  <tbody>\n",
       "    <tr>\n",
       "      <th>0</th>\n",
       "      <td>华中1分公司</td>\n",
       "      <td>T恤</td>\n",
       "      <td>中袖T恤</td>\n",
       "      <td>夏</td>\n",
       "      <td>2</td>\n",
       "      <td>0.0</td>\n",
       "      <td>0.0</td>\n",
       "      <td>0.0</td>\n",
       "      <td>0.0</td>\n",
       "      <td>8.0</td>\n",
       "      <td>1192.00</td>\n",
       "      <td>0.0</td>\n",
       "      <td>0.0</td>\n",
       "      <td>0.0</td>\n",
       "      <td>0.0</td>\n",
       "    </tr>\n",
       "    <tr>\n",
       "      <th>1</th>\n",
       "      <td>华中1分公司</td>\n",
       "      <td>T恤</td>\n",
       "      <td>中袖T恤</td>\n",
       "      <td>夏</td>\n",
       "      <td>3</td>\n",
       "      <td>0.0</td>\n",
       "      <td>0.0</td>\n",
       "      <td>0.0</td>\n",
       "      <td>0.0</td>\n",
       "      <td>549.0</td>\n",
       "      <td>73550.71</td>\n",
       "      <td>0.0</td>\n",
       "      <td>0.0</td>\n",
       "      <td>0.0</td>\n",
       "      <td>0.0</td>\n",
       "    </tr>\n",
       "    <tr>\n",
       "      <th>2</th>\n",
       "      <td>华中1分公司</td>\n",
       "      <td>T恤</td>\n",
       "      <td>中袖T恤</td>\n",
       "      <td>夏</td>\n",
       "      <td>4</td>\n",
       "      <td>0.0</td>\n",
       "      <td>0.0</td>\n",
       "      <td>0.0</td>\n",
       "      <td>0.0</td>\n",
       "      <td>285.0</td>\n",
       "      <td>32436.10</td>\n",
       "      <td>0.0</td>\n",
       "      <td>0.0</td>\n",
       "      <td>0.0</td>\n",
       "      <td>0.0</td>\n",
       "    </tr>\n",
       "    <tr>\n",
       "      <th>3</th>\n",
       "      <td>华中1分公司</td>\n",
       "      <td>T恤</td>\n",
       "      <td>中袖T恤</td>\n",
       "      <td>夏</td>\n",
       "      <td>5</td>\n",
       "      <td>0.0</td>\n",
       "      <td>0.0</td>\n",
       "      <td>0.0</td>\n",
       "      <td>0.0</td>\n",
       "      <td>106.0</td>\n",
       "      <td>6612.78</td>\n",
       "      <td>0.0</td>\n",
       "      <td>0.0</td>\n",
       "      <td>0.0</td>\n",
       "      <td>0.0</td>\n",
       "    </tr>\n",
       "    <tr>\n",
       "      <th>4</th>\n",
       "      <td>华中1分公司</td>\n",
       "      <td>T恤</td>\n",
       "      <td>中袖T恤</td>\n",
       "      <td>夏</td>\n",
       "      <td>6</td>\n",
       "      <td>0.0</td>\n",
       "      <td>0.0</td>\n",
       "      <td>0.0</td>\n",
       "      <td>0.0</td>\n",
       "      <td>14.0</td>\n",
       "      <td>638.00</td>\n",
       "      <td>0.0</td>\n",
       "      <td>0.0</td>\n",
       "      <td>0.0</td>\n",
       "      <td>0.0</td>\n",
       "    </tr>\n",
       "  </tbody>\n",
       "</table>\n",
       "</div>"
      ],
      "text/plain": [
       "      分公司  中类    小类 季节  首销月  商品年份-2015-销量  商品年份-2015-销额  商品年份-2016-销量  \\\n",
       "0  华中1分公司  T恤  中袖T恤  夏    2           0.0           0.0           0.0   \n",
       "1  华中1分公司  T恤  中袖T恤  夏    3           0.0           0.0           0.0   \n",
       "2  华中1分公司  T恤  中袖T恤  夏    4           0.0           0.0           0.0   \n",
       "3  华中1分公司  T恤  中袖T恤  夏    5           0.0           0.0           0.0   \n",
       "4  华中1分公司  T恤  中袖T恤  夏    6           0.0           0.0           0.0   \n",
       "\n",
       "   商品年份-2016-销额  商品年份-2017-销量  商品年份-2017-销额  商品年份-2018-销量  商品年份-2018-销额  \\\n",
       "0           0.0           8.0       1192.00           0.0           0.0   \n",
       "1           0.0         549.0      73550.71           0.0           0.0   \n",
       "2           0.0         285.0      32436.10           0.0           0.0   \n",
       "3           0.0         106.0       6612.78           0.0           0.0   \n",
       "4           0.0          14.0        638.00           0.0           0.0   \n",
       "\n",
       "   商品年份-2019-销量  商品年份-2019-销额  \n",
       "0           0.0           0.0  \n",
       "1           0.0           0.0  \n",
       "2           0.0           0.0  \n",
       "3           0.0           0.0  \n",
       "4           0.0           0.0  "
      ]
     },
     "execution_count": 262,
     "metadata": {},
     "output_type": "execute_result"
    }
   ],
   "source": [
    "df1.head()"
   ]
  },
  {
   "cell_type": "code",
   "execution_count": 249,
   "metadata": {},
   "outputs": [],
   "source": [
    "df1 = df1.reset_index()\n",
    "df1.to_csv(\"中类data训练数据.csv\",index = False)"
   ]
  },
  {
   "cell_type": "code",
   "execution_count": 261,
   "metadata": {},
   "outputs": [],
   "source": [
    "df1 = pd.read_csv(\"中类data训练数据.csv\")"
   ]
  },
  {
   "cell_type": "code",
   "execution_count": 263,
   "metadata": {},
   "outputs": [],
   "source": [
    "df1[\"商品年份-2019-销量-同比\"]=df1.apply(lambda x: train_predict([[16],[17],[18]],[ x[\"商品年份-\"+str(i)+\"-销量\"] for i in [2016,2017,2018]])[0],axis = 1)"
   ]
  },
  {
   "cell_type": "code",
   "execution_count": 264,
   "metadata": {},
   "outputs": [],
   "source": [
    "df1[\"商品年份-2019-销额-同比\"]=df1.apply(lambda x: train_predict([[16],[17],[18]],[ x[\"商品年份-\"+str(i)+\"-销额\"] for i in [2016,2017,2018]])[0],axis = 1)"
   ]
  },
  {
   "cell_type": "code",
   "execution_count": 265,
   "metadata": {},
   "outputs": [
    {
     "data": {
      "text/html": [
       "<div>\n",
       "<style scoped>\n",
       "    .dataframe tbody tr th:only-of-type {\n",
       "        vertical-align: middle;\n",
       "    }\n",
       "\n",
       "    .dataframe tbody tr th {\n",
       "        vertical-align: top;\n",
       "    }\n",
       "\n",
       "    .dataframe thead th {\n",
       "        text-align: right;\n",
       "    }\n",
       "</style>\n",
       "<table border=\"1\" class=\"dataframe\">\n",
       "  <thead>\n",
       "    <tr style=\"text-align: right;\">\n",
       "      <th></th>\n",
       "      <th>分公司</th>\n",
       "      <th>中类</th>\n",
       "      <th>小类</th>\n",
       "      <th>季节</th>\n",
       "      <th>首销月</th>\n",
       "      <th>商品年份-2015-销量</th>\n",
       "      <th>商品年份-2015-销额</th>\n",
       "      <th>商品年份-2016-销量</th>\n",
       "      <th>商品年份-2016-销额</th>\n",
       "      <th>商品年份-2017-销量</th>\n",
       "      <th>商品年份-2017-销额</th>\n",
       "      <th>商品年份-2018-销量</th>\n",
       "      <th>商品年份-2018-销额</th>\n",
       "      <th>商品年份-2019-销量</th>\n",
       "      <th>商品年份-2019-销额</th>\n",
       "      <th>商品年份-2019-销量-同比</th>\n",
       "      <th>商品年份-2019-销额-同比</th>\n",
       "    </tr>\n",
       "  </thead>\n",
       "  <tbody>\n",
       "    <tr>\n",
       "      <th>0</th>\n",
       "      <td>华中1分公司</td>\n",
       "      <td>T恤</td>\n",
       "      <td>中袖T恤</td>\n",
       "      <td>夏</td>\n",
       "      <td>2</td>\n",
       "      <td>0.0</td>\n",
       "      <td>0.0</td>\n",
       "      <td>0.0</td>\n",
       "      <td>0.0</td>\n",
       "      <td>8.0</td>\n",
       "      <td>1192.00</td>\n",
       "      <td>0.0</td>\n",
       "      <td>0.0</td>\n",
       "      <td>0.0</td>\n",
       "      <td>0.0</td>\n",
       "      <td>2.666667</td>\n",
       "      <td>397.333333</td>\n",
       "    </tr>\n",
       "    <tr>\n",
       "      <th>1</th>\n",
       "      <td>华中1分公司</td>\n",
       "      <td>T恤</td>\n",
       "      <td>中袖T恤</td>\n",
       "      <td>夏</td>\n",
       "      <td>3</td>\n",
       "      <td>0.0</td>\n",
       "      <td>0.0</td>\n",
       "      <td>0.0</td>\n",
       "      <td>0.0</td>\n",
       "      <td>549.0</td>\n",
       "      <td>73550.71</td>\n",
       "      <td>0.0</td>\n",
       "      <td>0.0</td>\n",
       "      <td>0.0</td>\n",
       "      <td>0.0</td>\n",
       "      <td>183.000000</td>\n",
       "      <td>24516.903333</td>\n",
       "    </tr>\n",
       "    <tr>\n",
       "      <th>2</th>\n",
       "      <td>华中1分公司</td>\n",
       "      <td>T恤</td>\n",
       "      <td>中袖T恤</td>\n",
       "      <td>夏</td>\n",
       "      <td>4</td>\n",
       "      <td>0.0</td>\n",
       "      <td>0.0</td>\n",
       "      <td>0.0</td>\n",
       "      <td>0.0</td>\n",
       "      <td>285.0</td>\n",
       "      <td>32436.10</td>\n",
       "      <td>0.0</td>\n",
       "      <td>0.0</td>\n",
       "      <td>0.0</td>\n",
       "      <td>0.0</td>\n",
       "      <td>95.000000</td>\n",
       "      <td>10812.033333</td>\n",
       "    </tr>\n",
       "    <tr>\n",
       "      <th>3</th>\n",
       "      <td>华中1分公司</td>\n",
       "      <td>T恤</td>\n",
       "      <td>中袖T恤</td>\n",
       "      <td>夏</td>\n",
       "      <td>5</td>\n",
       "      <td>0.0</td>\n",
       "      <td>0.0</td>\n",
       "      <td>0.0</td>\n",
       "      <td>0.0</td>\n",
       "      <td>106.0</td>\n",
       "      <td>6612.78</td>\n",
       "      <td>0.0</td>\n",
       "      <td>0.0</td>\n",
       "      <td>0.0</td>\n",
       "      <td>0.0</td>\n",
       "      <td>35.333333</td>\n",
       "      <td>2204.260000</td>\n",
       "    </tr>\n",
       "    <tr>\n",
       "      <th>4</th>\n",
       "      <td>华中1分公司</td>\n",
       "      <td>T恤</td>\n",
       "      <td>中袖T恤</td>\n",
       "      <td>夏</td>\n",
       "      <td>6</td>\n",
       "      <td>0.0</td>\n",
       "      <td>0.0</td>\n",
       "      <td>0.0</td>\n",
       "      <td>0.0</td>\n",
       "      <td>14.0</td>\n",
       "      <td>638.00</td>\n",
       "      <td>0.0</td>\n",
       "      <td>0.0</td>\n",
       "      <td>0.0</td>\n",
       "      <td>0.0</td>\n",
       "      <td>4.666667</td>\n",
       "      <td>212.666667</td>\n",
       "    </tr>\n",
       "  </tbody>\n",
       "</table>\n",
       "</div>"
      ],
      "text/plain": [
       "      分公司  中类    小类 季节  首销月  商品年份-2015-销量  商品年份-2015-销额  商品年份-2016-销量  \\\n",
       "0  华中1分公司  T恤  中袖T恤  夏    2           0.0           0.0           0.0   \n",
       "1  华中1分公司  T恤  中袖T恤  夏    3           0.0           0.0           0.0   \n",
       "2  华中1分公司  T恤  中袖T恤  夏    4           0.0           0.0           0.0   \n",
       "3  华中1分公司  T恤  中袖T恤  夏    5           0.0           0.0           0.0   \n",
       "4  华中1分公司  T恤  中袖T恤  夏    6           0.0           0.0           0.0   \n",
       "\n",
       "   商品年份-2016-销额  商品年份-2017-销量  商品年份-2017-销额  商品年份-2018-销量  商品年份-2018-销额  \\\n",
       "0           0.0           8.0       1192.00           0.0           0.0   \n",
       "1           0.0         549.0      73550.71           0.0           0.0   \n",
       "2           0.0         285.0      32436.10           0.0           0.0   \n",
       "3           0.0         106.0       6612.78           0.0           0.0   \n",
       "4           0.0          14.0        638.00           0.0           0.0   \n",
       "\n",
       "   商品年份-2019-销量  商品年份-2019-销额  商品年份-2019-销量-同比  商品年份-2019-销额-同比  \n",
       "0           0.0           0.0         2.666667       397.333333  \n",
       "1           0.0           0.0       183.000000     24516.903333  \n",
       "2           0.0           0.0        95.000000     10812.033333  \n",
       "3           0.0           0.0        35.333333      2204.260000  \n",
       "4           0.0           0.0         4.666667       212.666667  "
      ]
     },
     "execution_count": 265,
     "metadata": {},
     "output_type": "execute_result"
    }
   ],
   "source": [
    "df1.head()"
   ]
  },
  {
   "cell_type": "code",
   "execution_count": 293,
   "metadata": {},
   "outputs": [],
   "source": [
    "df1[\"2019-销量-相对误差\"]=(df1[\"商品年份-2019-销量\"]-df1[\"商品年份-2019-销量-同比\"])/(df1[\"商品年份-2019-销量-同比\"]+0.001)\n",
    "\n"
   ]
  },
  {
   "cell_type": "code",
   "execution_count": 294,
   "metadata": {},
   "outputs": [],
   "source": [
    "df1[\"2019-销额-相对误差\"]=(df1[\"商品年份-2019-销额\"]-df1[\"商品年份-2019-销额-同比\"])/(df1[\"商品年份-2019-销额-同比\"]+0.01)"
   ]
  },
  {
   "cell_type": "code",
   "execution_count": 295,
   "metadata": {},
   "outputs": [],
   "source": [
    "def Ringratio(df):\n",
    "    n = df.shape[0]\n",
    "    if n>1:\n",
    "        df.loc[1:,\"商品年份-2019-销额-环比修正项\"]=df.loc[:n-1,\"2019-销额-相对误差\"]*df.loc[:n-1,\"商品年份-2019-销额-同比\"]*0.5\n",
    "        df.loc[1:,\"商品年份-2019-销量-环比修正项\"]=df.loc[:n-1,\"2019-销量-相对误差\"]*df.loc[:n-1,\"商品年份-2019-销量-同比\"]*0.5\n",
    "    return df    "
   ]
  },
  {
   "cell_type": "code",
   "execution_count": 296,
   "metadata": {},
   "outputs": [],
   "source": [
    "df1[\"商品年份-2019-销额-环比修正项\"]=0\n",
    "df1[\"商品年份-2019-销量-环比修正项\"]=0"
   ]
  },
  {
   "cell_type": "code",
   "execution_count": 297,
   "metadata": {},
   "outputs": [],
   "source": [
    "df2 = df1.groupby([\"分公司\",\"中类\",\"小类\",\"季节\"]).apply(Ringratio)"
   ]
  },
  {
   "cell_type": "code",
   "execution_count": 301,
   "metadata": {},
   "outputs": [
    {
     "data": {
      "text/plain": [
       "False    9005\n",
       "True      295\n",
       "Name: 2019-销量-相对误差, dtype: int64"
      ]
     },
     "execution_count": 301,
     "metadata": {},
     "output_type": "execute_result"
    }
   ],
   "source": [
    "(abs(df2[\"2019-销量-相对误差\"])>1.1).value_counts()"
   ]
  },
  {
   "cell_type": "code",
   "execution_count": 298,
   "metadata": {},
   "outputs": [
    {
     "data": {
      "text/html": [
       "<div>\n",
       "<style scoped>\n",
       "    .dataframe tbody tr th:only-of-type {\n",
       "        vertical-align: middle;\n",
       "    }\n",
       "\n",
       "    .dataframe tbody tr th {\n",
       "        vertical-align: top;\n",
       "    }\n",
       "\n",
       "    .dataframe thead th {\n",
       "        text-align: right;\n",
       "    }\n",
       "</style>\n",
       "<table border=\"1\" class=\"dataframe\">\n",
       "  <thead>\n",
       "    <tr style=\"text-align: right;\">\n",
       "      <th></th>\n",
       "      <th>分公司</th>\n",
       "      <th>中类</th>\n",
       "      <th>小类</th>\n",
       "      <th>季节</th>\n",
       "      <th>首销月</th>\n",
       "      <th>商品年份-2015-销量</th>\n",
       "      <th>商品年份-2015-销额</th>\n",
       "      <th>商品年份-2016-销量</th>\n",
       "      <th>商品年份-2016-销额</th>\n",
       "      <th>商品年份-2017-销量</th>\n",
       "      <th>...</th>\n",
       "      <th>商品年份-2018-销量</th>\n",
       "      <th>商品年份-2018-销额</th>\n",
       "      <th>商品年份-2019-销量</th>\n",
       "      <th>商品年份-2019-销额</th>\n",
       "      <th>商品年份-2019-销量-同比</th>\n",
       "      <th>商品年份-2019-销额-同比</th>\n",
       "      <th>2019-销量-相对误差</th>\n",
       "      <th>2019-销额-相对误差</th>\n",
       "      <th>商品年份-2019-销额-环比修正项</th>\n",
       "      <th>商品年份-2019-销量-环比修正项</th>\n",
       "    </tr>\n",
       "  </thead>\n",
       "  <tbody>\n",
       "    <tr>\n",
       "      <th>0</th>\n",
       "      <td>华中1分公司</td>\n",
       "      <td>T恤</td>\n",
       "      <td>中袖T恤</td>\n",
       "      <td>夏</td>\n",
       "      <td>2</td>\n",
       "      <td>0.0</td>\n",
       "      <td>0.0</td>\n",
       "      <td>0.0</td>\n",
       "      <td>0.0</td>\n",
       "      <td>8.0</td>\n",
       "      <td>...</td>\n",
       "      <td>0.0</td>\n",
       "      <td>0.0</td>\n",
       "      <td>0.0</td>\n",
       "      <td>0.0</td>\n",
       "      <td>2.666667</td>\n",
       "      <td>397.333333</td>\n",
       "      <td>-0.999625</td>\n",
       "      <td>-0.999975</td>\n",
       "      <td>0.000000</td>\n",
       "      <td>0.000000</td>\n",
       "    </tr>\n",
       "    <tr>\n",
       "      <th>1</th>\n",
       "      <td>华中1分公司</td>\n",
       "      <td>T恤</td>\n",
       "      <td>中袖T恤</td>\n",
       "      <td>夏</td>\n",
       "      <td>3</td>\n",
       "      <td>0.0</td>\n",
       "      <td>0.0</td>\n",
       "      <td>0.0</td>\n",
       "      <td>0.0</td>\n",
       "      <td>549.0</td>\n",
       "      <td>...</td>\n",
       "      <td>0.0</td>\n",
       "      <td>0.0</td>\n",
       "      <td>0.0</td>\n",
       "      <td>0.0</td>\n",
       "      <td>183.000000</td>\n",
       "      <td>24516.903333</td>\n",
       "      <td>-0.999995</td>\n",
       "      <td>-1.000000</td>\n",
       "      <td>-12258.446667</td>\n",
       "      <td>-91.499500</td>\n",
       "    </tr>\n",
       "    <tr>\n",
       "      <th>2</th>\n",
       "      <td>华中1分公司</td>\n",
       "      <td>T恤</td>\n",
       "      <td>中袖T恤</td>\n",
       "      <td>夏</td>\n",
       "      <td>4</td>\n",
       "      <td>0.0</td>\n",
       "      <td>0.0</td>\n",
       "      <td>0.0</td>\n",
       "      <td>0.0</td>\n",
       "      <td>285.0</td>\n",
       "      <td>...</td>\n",
       "      <td>0.0</td>\n",
       "      <td>0.0</td>\n",
       "      <td>0.0</td>\n",
       "      <td>0.0</td>\n",
       "      <td>95.000000</td>\n",
       "      <td>10812.033333</td>\n",
       "      <td>-0.999989</td>\n",
       "      <td>-0.999999</td>\n",
       "      <td>-5406.011667</td>\n",
       "      <td>-47.499500</td>\n",
       "    </tr>\n",
       "    <tr>\n",
       "      <th>3</th>\n",
       "      <td>华中1分公司</td>\n",
       "      <td>T恤</td>\n",
       "      <td>中袖T恤</td>\n",
       "      <td>夏</td>\n",
       "      <td>5</td>\n",
       "      <td>0.0</td>\n",
       "      <td>0.0</td>\n",
       "      <td>0.0</td>\n",
       "      <td>0.0</td>\n",
       "      <td>106.0</td>\n",
       "      <td>...</td>\n",
       "      <td>0.0</td>\n",
       "      <td>0.0</td>\n",
       "      <td>0.0</td>\n",
       "      <td>0.0</td>\n",
       "      <td>35.333333</td>\n",
       "      <td>2204.260000</td>\n",
       "      <td>-0.999972</td>\n",
       "      <td>-0.999995</td>\n",
       "      <td>-1102.125000</td>\n",
       "      <td>-17.666167</td>\n",
       "    </tr>\n",
       "    <tr>\n",
       "      <th>4</th>\n",
       "      <td>华中1分公司</td>\n",
       "      <td>T恤</td>\n",
       "      <td>中袖T恤</td>\n",
       "      <td>夏</td>\n",
       "      <td>6</td>\n",
       "      <td>0.0</td>\n",
       "      <td>0.0</td>\n",
       "      <td>0.0</td>\n",
       "      <td>0.0</td>\n",
       "      <td>14.0</td>\n",
       "      <td>...</td>\n",
       "      <td>0.0</td>\n",
       "      <td>0.0</td>\n",
       "      <td>0.0</td>\n",
       "      <td>0.0</td>\n",
       "      <td>4.666667</td>\n",
       "      <td>212.666667</td>\n",
       "      <td>-0.999786</td>\n",
       "      <td>-0.999953</td>\n",
       "      <td>-106.328334</td>\n",
       "      <td>-2.332833</td>\n",
       "    </tr>\n",
       "  </tbody>\n",
       "</table>\n",
       "<p>5 rows × 21 columns</p>\n",
       "</div>"
      ],
      "text/plain": [
       "      分公司  中类    小类 季节  首销月  商品年份-2015-销量  商品年份-2015-销额  商品年份-2016-销量  \\\n",
       "0  华中1分公司  T恤  中袖T恤  夏    2           0.0           0.0           0.0   \n",
       "1  华中1分公司  T恤  中袖T恤  夏    3           0.0           0.0           0.0   \n",
       "2  华中1分公司  T恤  中袖T恤  夏    4           0.0           0.0           0.0   \n",
       "3  华中1分公司  T恤  中袖T恤  夏    5           0.0           0.0           0.0   \n",
       "4  华中1分公司  T恤  中袖T恤  夏    6           0.0           0.0           0.0   \n",
       "\n",
       "   商品年份-2016-销额  商品年份-2017-销量  ...  商品年份-2018-销量  商品年份-2018-销额  商品年份-2019-销量  \\\n",
       "0           0.0           8.0  ...           0.0           0.0           0.0   \n",
       "1           0.0         549.0  ...           0.0           0.0           0.0   \n",
       "2           0.0         285.0  ...           0.0           0.0           0.0   \n",
       "3           0.0         106.0  ...           0.0           0.0           0.0   \n",
       "4           0.0          14.0  ...           0.0           0.0           0.0   \n",
       "\n",
       "   商品年份-2019-销额  商品年份-2019-销量-同比  商品年份-2019-销额-同比  2019-销量-相对误差  2019-销额-相对误差  \\\n",
       "0           0.0         2.666667       397.333333     -0.999625     -0.999975   \n",
       "1           0.0       183.000000     24516.903333     -0.999995     -1.000000   \n",
       "2           0.0        95.000000     10812.033333     -0.999989     -0.999999   \n",
       "3           0.0        35.333333      2204.260000     -0.999972     -0.999995   \n",
       "4           0.0         4.666667       212.666667     -0.999786     -0.999953   \n",
       "\n",
       "   商品年份-2019-销额-环比修正项  商品年份-2019-销量-环比修正项  \n",
       "0            0.000000            0.000000  \n",
       "1       -12258.446667          -91.499500  \n",
       "2        -5406.011667          -47.499500  \n",
       "3        -1102.125000          -17.666167  \n",
       "4         -106.328334           -2.332833  \n",
       "\n",
       "[5 rows x 21 columns]"
      ]
     },
     "execution_count": 298,
     "metadata": {},
     "output_type": "execute_result"
    }
   ],
   "source": [
    "df2.head()"
   ]
  },
  {
   "cell_type": "code",
   "execution_count": 302,
   "metadata": {},
   "outputs": [],
   "source": [
    "df2[\"商品年份-2019-销额-环比修正后\"]=df2[\"商品年份-2019-销额-同比\"]+df2[\"商品年份-2019-销额-环比修正项\"]\n",
    "df2[\"商品年份-2019-销量-环比修正后\"]=df2[\"商品年份-2019-销量-同比\"]+df2[\"商品年份-2019-销量-环比修正项\"]"
   ]
  },
  {
   "cell_type": "code",
   "execution_count": 305,
   "metadata": {},
   "outputs": [],
   "source": [
    "df2.to_csv(\"货品预测.csv\",index = False)"
   ]
  }
 ],
 "metadata": {
  "kernelspec": {
   "display_name": "Python 3",
   "language": "python",
   "name": "python3"
  },
  "language_info": {
   "codemirror_mode": {
    "name": "ipython",
    "version": 3
   },
   "file_extension": ".py",
   "mimetype": "text/x-python",
   "name": "python",
   "nbconvert_exporter": "python",
   "pygments_lexer": "ipython3",
   "version": "3.6.5"
  }
 },
 "nbformat": 4,
 "nbformat_minor": 2
}
