{
 "cells": [
  {
   "cell_type": "code",
   "execution_count": 1,
   "metadata": {},
   "outputs": [],
   "source": [
    "# 读取数据集，分析2018年的销售数据\n",
    "import pandas as pd\n",
    "import chardet\n",
    "import xgboost\n",
    "import numpy as np \n",
    "from sklearn.model_selection import train_test_split\n",
    "from sklearn import metrics\n",
    "\n",
    "\n",
    "\n",
    "\n",
    "def encode_text_dummy(df, name, delete =  False):\n",
    "    dummies = pd.get_dummies(df[name])\n",
    "    for x in dummies.columns:\n",
    "        dummy_name = \"{}-{}\".format(name, x)\n",
    "        df[dummy_name] = dummies[x]\n",
    "    if delete:    \n",
    "        df.drop(name, axis=1, inplace=True)\n"
   ]
  },
  {
   "cell_type": "code",
   "execution_count": 2,
   "metadata": {},
   "outputs": [],
   "source": [
    "df = pd.read_csv(\"/home/gang/CSV/2018.csv\",encoding='gb18030',low_memory=False)"
   ]
  },
  {
   "cell_type": "code",
   "execution_count": 9,
   "metadata": {},
   "outputs": [
    {
     "data": {
      "text/plain": [
       "(782957, 13)"
      ]
     },
     "execution_count": 9,
     "metadata": {},
     "output_type": "execute_result"
    }
   ],
   "source": [
    "df.shape"
   ]
  },
  {
   "cell_type": "code",
   "execution_count": 11,
   "metadata": {},
   "outputs": [
    {
     "data": {
      "text/plain": [
       "店铺编号    1866\n",
       "店铺简称       0\n",
       "店铺省市       0\n",
       "店铺地址    8468\n",
       "货号      1866\n",
       "货品名称    1866\n",
       "销售日期    1866\n",
       "颜色编号    1866\n",
       "颜色说明    1866\n",
       "尺码      1866\n",
       "吊牌价     3732\n",
       "销售价格    3734\n",
       "数量      3732\n",
       "dtype: int64"
      ]
     },
     "execution_count": 11,
     "metadata": {},
     "output_type": "execute_result"
    }
   ],
   "source": [
    "df.shape[0]-df.count() #缺失值的数量"
   ]
  },
  {
   "cell_type": "code",
   "execution_count": 12,
   "metadata": {},
   "outputs": [],
   "source": [
    "df = df.dropna()"
   ]
  },
  {
   "cell_type": "code",
   "execution_count": 13,
   "metadata": {},
   "outputs": [],
   "source": [
    "df['month'] = pd.to_datetime(df['销售日期']).apply(lambda x:x.strftime(\"%m\"))\n",
    "df[\"month\"] = df[\"month\"].astype(\"int\")\n",
    "\n",
    "encode_text_dummy(df, name = \"货品名称\" )\n",
    "encode_text_dummy(df, name = \"month\" )"
   ]
  },
  {
   "cell_type": "code",
   "execution_count": 14,
   "metadata": {},
   "outputs": [],
   "source": [
    "encode_text_dummy(df, name = \"颜色编号\" )\n",
    "encode_text_dummy(df, name = \"尺码\")"
   ]
  },
  {
   "cell_type": "code",
   "execution_count": 20,
   "metadata": {},
   "outputs": [],
   "source": [
    "import re\n",
    "df[\"省或市\"] = df[\"店铺省市\"].apply(lambda x : re.split(\"省|市|区\",x)[0])"
   ]
  },
  {
   "cell_type": "code",
   "execution_count": 22,
   "metadata": {},
   "outputs": [],
   "source": [
    "df[\"discount\"] = df[\"销售价格\"]/df[\"吊牌价\"]"
   ]
  },
  {
   "cell_type": "code",
   "execution_count": 23,
   "metadata": {},
   "outputs": [],
   "source": [
    "drop_columns = df.columns[:10]"
   ]
  },
  {
   "cell_type": "code",
   "execution_count": 24,
   "metadata": {},
   "outputs": [
    {
     "data": {
      "text/plain": [
       "Index(['店铺编号', '店铺简称', '店铺省市', '店铺地址', '货号', '货品名称', '销售日期', '颜色编号', '颜色说明',\n",
       "       '尺码'],\n",
       "      dtype='object')"
      ]
     },
     "execution_count": 24,
     "metadata": {},
     "output_type": "execute_result"
    }
   ],
   "source": [
    "drop_columns"
   ]
  },
  {
   "cell_type": "code",
   "execution_count": 21,
   "metadata": {},
   "outputs": [
    {
     "data": {
      "text/plain": [
       "上海         299395\n",
       "江苏         120625\n",
       "广东          58836\n",
       "天津          37449\n",
       "辽宁          34931\n",
       "贵州          27725\n",
       "河南          20560\n",
       "湖北          15775\n",
       "河北          15015\n",
       "福建          14067\n",
       "北京          13485\n",
       "内蒙古自治       11763\n",
       "山东          11537\n",
       "安徽          11174\n",
       "浙江          11078\n",
       "黑龙江         10482\n",
       "广西壮族自治       8749\n",
       "云南           8518\n",
       "陕西           7513\n",
       "新疆维吾尔自治      6686\n",
       "重庆           4947\n",
       "青海           3900\n",
       "吉林           3529\n",
       "山西           3393\n",
       "海南           2274\n",
       "湖南           1784\n",
       "南京           1560\n",
       "四川           1553\n",
       "甘肃           1307\n",
       "宁夏回族自治       1145\n",
       "Name: 省或市, dtype: int64"
      ]
     },
     "execution_count": 21,
     "metadata": {},
     "output_type": "execute_result"
    }
   ],
   "source": [
    "df[\"省或市\"].value_counts()"
   ]
  },
  {
   "cell_type": "code",
   "execution_count": 31,
   "metadata": {},
   "outputs": [],
   "source": [
    "df_coat = df[[\"货品名称-长款羽绒服\", \"month-1\", \"month-2\", \"month-3\", \"month-4\", \"month-5\", \"month-6\", \"month-7\", \"month-8\", \"month-9\", \"month-10\", \"month-11\"]]"
   ]
  },
  {
   "cell_type": "code",
   "execution_count": 32,
   "metadata": {},
   "outputs": [
    {
     "data": {
      "text/html": [
       "<div>\n",
       "<style scoped>\n",
       "    .dataframe tbody tr th:only-of-type {\n",
       "        vertical-align: middle;\n",
       "    }\n",
       "\n",
       "    .dataframe tbody tr th {\n",
       "        vertical-align: top;\n",
       "    }\n",
       "\n",
       "    .dataframe thead th {\n",
       "        text-align: right;\n",
       "    }\n",
       "</style>\n",
       "<table border=\"1\" class=\"dataframe\">\n",
       "  <thead>\n",
       "    <tr style=\"text-align: right;\">\n",
       "      <th></th>\n",
       "      <th>货品名称-长款羽绒服</th>\n",
       "      <th>month-1</th>\n",
       "      <th>month-2</th>\n",
       "      <th>month-3</th>\n",
       "      <th>month-4</th>\n",
       "      <th>month-5</th>\n",
       "      <th>month-6</th>\n",
       "      <th>month-7</th>\n",
       "      <th>month-8</th>\n",
       "      <th>month-9</th>\n",
       "      <th>month-10</th>\n",
       "      <th>month-11</th>\n",
       "    </tr>\n",
       "  </thead>\n",
       "  <tbody>\n",
       "    <tr>\n",
       "      <th>货品名称-长款羽绒服</th>\n",
       "      <td>1.000000</td>\n",
       "      <td>0.081800</td>\n",
       "      <td>0.027166</td>\n",
       "      <td>-0.011463</td>\n",
       "      <td>-0.016448</td>\n",
       "      <td>-0.013702</td>\n",
       "      <td>-0.012331</td>\n",
       "      <td>-0.015237</td>\n",
       "      <td>-0.015246</td>\n",
       "      <td>-0.013853</td>\n",
       "      <td>-0.008766</td>\n",
       "      <td>-0.001264</td>\n",
       "    </tr>\n",
       "    <tr>\n",
       "      <th>month-1</th>\n",
       "      <td>0.081800</td>\n",
       "      <td>1.000000</td>\n",
       "      <td>-0.107739</td>\n",
       "      <td>-0.109183</td>\n",
       "      <td>-0.115711</td>\n",
       "      <td>-0.118660</td>\n",
       "      <td>-0.114776</td>\n",
       "      <td>-0.105785</td>\n",
       "      <td>-0.101681</td>\n",
       "      <td>-0.096966</td>\n",
       "      <td>-0.106301</td>\n",
       "      <td>-0.012840</td>\n",
       "    </tr>\n",
       "    <tr>\n",
       "      <th>month-2</th>\n",
       "      <td>0.027166</td>\n",
       "      <td>-0.107739</td>\n",
       "      <td>1.000000</td>\n",
       "      <td>-0.111082</td>\n",
       "      <td>-0.117724</td>\n",
       "      <td>-0.120723</td>\n",
       "      <td>-0.116772</td>\n",
       "      <td>-0.107625</td>\n",
       "      <td>-0.103450</td>\n",
       "      <td>-0.098652</td>\n",
       "      <td>-0.108150</td>\n",
       "      <td>-0.013063</td>\n",
       "    </tr>\n",
       "    <tr>\n",
       "      <th>month-3</th>\n",
       "      <td>-0.011463</td>\n",
       "      <td>-0.109183</td>\n",
       "      <td>-0.111082</td>\n",
       "      <td>1.000000</td>\n",
       "      <td>-0.119301</td>\n",
       "      <td>-0.122341</td>\n",
       "      <td>-0.118337</td>\n",
       "      <td>-0.109067</td>\n",
       "      <td>-0.104836</td>\n",
       "      <td>-0.099974</td>\n",
       "      <td>-0.109599</td>\n",
       "      <td>-0.013238</td>\n",
       "    </tr>\n",
       "    <tr>\n",
       "      <th>month-4</th>\n",
       "      <td>-0.016448</td>\n",
       "      <td>-0.115711</td>\n",
       "      <td>-0.117724</td>\n",
       "      <td>-0.119301</td>\n",
       "      <td>1.000000</td>\n",
       "      <td>-0.129656</td>\n",
       "      <td>-0.125412</td>\n",
       "      <td>-0.115589</td>\n",
       "      <td>-0.111105</td>\n",
       "      <td>-0.105952</td>\n",
       "      <td>-0.116153</td>\n",
       "      <td>-0.014029</td>\n",
       "    </tr>\n",
       "    <tr>\n",
       "      <th>month-5</th>\n",
       "      <td>-0.013702</td>\n",
       "      <td>-0.118660</td>\n",
       "      <td>-0.120723</td>\n",
       "      <td>-0.122341</td>\n",
       "      <td>-0.129656</td>\n",
       "      <td>1.000000</td>\n",
       "      <td>-0.128608</td>\n",
       "      <td>-0.118534</td>\n",
       "      <td>-0.113936</td>\n",
       "      <td>-0.108652</td>\n",
       "      <td>-0.119112</td>\n",
       "      <td>-0.014387</td>\n",
       "    </tr>\n",
       "    <tr>\n",
       "      <th>month-6</th>\n",
       "      <td>-0.012331</td>\n",
       "      <td>-0.114776</td>\n",
       "      <td>-0.116772</td>\n",
       "      <td>-0.118337</td>\n",
       "      <td>-0.125412</td>\n",
       "      <td>-0.128608</td>\n",
       "      <td>1.000000</td>\n",
       "      <td>-0.114654</td>\n",
       "      <td>-0.110207</td>\n",
       "      <td>-0.105096</td>\n",
       "      <td>-0.115214</td>\n",
       "      <td>-0.013916</td>\n",
       "    </tr>\n",
       "    <tr>\n",
       "      <th>month-7</th>\n",
       "      <td>-0.015237</td>\n",
       "      <td>-0.105785</td>\n",
       "      <td>-0.107625</td>\n",
       "      <td>-0.109067</td>\n",
       "      <td>-0.115589</td>\n",
       "      <td>-0.118534</td>\n",
       "      <td>-0.114654</td>\n",
       "      <td>1.000000</td>\n",
       "      <td>-0.101574</td>\n",
       "      <td>-0.096863</td>\n",
       "      <td>-0.106189</td>\n",
       "      <td>-0.012826</td>\n",
       "    </tr>\n",
       "    <tr>\n",
       "      <th>month-8</th>\n",
       "      <td>-0.015246</td>\n",
       "      <td>-0.101681</td>\n",
       "      <td>-0.103450</td>\n",
       "      <td>-0.104836</td>\n",
       "      <td>-0.111105</td>\n",
       "      <td>-0.113936</td>\n",
       "      <td>-0.110207</td>\n",
       "      <td>-0.101574</td>\n",
       "      <td>1.000000</td>\n",
       "      <td>-0.093106</td>\n",
       "      <td>-0.102069</td>\n",
       "      <td>-0.012328</td>\n",
       "    </tr>\n",
       "    <tr>\n",
       "      <th>month-9</th>\n",
       "      <td>-0.013853</td>\n",
       "      <td>-0.096966</td>\n",
       "      <td>-0.098652</td>\n",
       "      <td>-0.099974</td>\n",
       "      <td>-0.105952</td>\n",
       "      <td>-0.108652</td>\n",
       "      <td>-0.105096</td>\n",
       "      <td>-0.096863</td>\n",
       "      <td>-0.093106</td>\n",
       "      <td>1.000000</td>\n",
       "      <td>-0.097336</td>\n",
       "      <td>-0.011757</td>\n",
       "    </tr>\n",
       "    <tr>\n",
       "      <th>month-10</th>\n",
       "      <td>-0.008766</td>\n",
       "      <td>-0.106301</td>\n",
       "      <td>-0.108150</td>\n",
       "      <td>-0.109599</td>\n",
       "      <td>-0.116153</td>\n",
       "      <td>-0.119112</td>\n",
       "      <td>-0.115214</td>\n",
       "      <td>-0.106189</td>\n",
       "      <td>-0.102069</td>\n",
       "      <td>-0.097336</td>\n",
       "      <td>1.000000</td>\n",
       "      <td>-0.012889</td>\n",
       "    </tr>\n",
       "    <tr>\n",
       "      <th>month-11</th>\n",
       "      <td>-0.001264</td>\n",
       "      <td>-0.012840</td>\n",
       "      <td>-0.013063</td>\n",
       "      <td>-0.013238</td>\n",
       "      <td>-0.014029</td>\n",
       "      <td>-0.014387</td>\n",
       "      <td>-0.013916</td>\n",
       "      <td>-0.012826</td>\n",
       "      <td>-0.012328</td>\n",
       "      <td>-0.011757</td>\n",
       "      <td>-0.012889</td>\n",
       "      <td>1.000000</td>\n",
       "    </tr>\n",
       "  </tbody>\n",
       "</table>\n",
       "</div>"
      ],
      "text/plain": [
       "            货品名称-长款羽绒服   month-1   month-2   month-3   month-4   month-5  \\\n",
       "货品名称-长款羽绒服    1.000000  0.081800  0.027166 -0.011463 -0.016448 -0.013702   \n",
       "month-1       0.081800  1.000000 -0.107739 -0.109183 -0.115711 -0.118660   \n",
       "month-2       0.027166 -0.107739  1.000000 -0.111082 -0.117724 -0.120723   \n",
       "month-3      -0.011463 -0.109183 -0.111082  1.000000 -0.119301 -0.122341   \n",
       "month-4      -0.016448 -0.115711 -0.117724 -0.119301  1.000000 -0.129656   \n",
       "month-5      -0.013702 -0.118660 -0.120723 -0.122341 -0.129656  1.000000   \n",
       "month-6      -0.012331 -0.114776 -0.116772 -0.118337 -0.125412 -0.128608   \n",
       "month-7      -0.015237 -0.105785 -0.107625 -0.109067 -0.115589 -0.118534   \n",
       "month-8      -0.015246 -0.101681 -0.103450 -0.104836 -0.111105 -0.113936   \n",
       "month-9      -0.013853 -0.096966 -0.098652 -0.099974 -0.105952 -0.108652   \n",
       "month-10     -0.008766 -0.106301 -0.108150 -0.109599 -0.116153 -0.119112   \n",
       "month-11     -0.001264 -0.012840 -0.013063 -0.013238 -0.014029 -0.014387   \n",
       "\n",
       "             month-6   month-7   month-8   month-9  month-10  month-11  \n",
       "货品名称-长款羽绒服 -0.012331 -0.015237 -0.015246 -0.013853 -0.008766 -0.001264  \n",
       "month-1    -0.114776 -0.105785 -0.101681 -0.096966 -0.106301 -0.012840  \n",
       "month-2    -0.116772 -0.107625 -0.103450 -0.098652 -0.108150 -0.013063  \n",
       "month-3    -0.118337 -0.109067 -0.104836 -0.099974 -0.109599 -0.013238  \n",
       "month-4    -0.125412 -0.115589 -0.111105 -0.105952 -0.116153 -0.014029  \n",
       "month-5    -0.128608 -0.118534 -0.113936 -0.108652 -0.119112 -0.014387  \n",
       "month-6     1.000000 -0.114654 -0.110207 -0.105096 -0.115214 -0.013916  \n",
       "month-7    -0.114654  1.000000 -0.101574 -0.096863 -0.106189 -0.012826  \n",
       "month-8    -0.110207 -0.101574  1.000000 -0.093106 -0.102069 -0.012328  \n",
       "month-9    -0.105096 -0.096863 -0.093106  1.000000 -0.097336 -0.011757  \n",
       "month-10   -0.115214 -0.106189 -0.102069 -0.097336  1.000000 -0.012889  \n",
       "month-11   -0.013916 -0.012826 -0.012328 -0.011757 -0.012889  1.000000  "
      ]
     },
     "execution_count": 32,
     "metadata": {},
     "output_type": "execute_result"
    }
   ],
   "source": [
    "df_coat.corr()"
   ]
  },
  {
   "cell_type": "code",
   "execution_count": 26,
   "metadata": {},
   "outputs": [
    {
     "data": {
      "text/plain": [
       "Int64Index([1, 2, 3, 4, 5, 6, 7, 8, 9, 10, 11], dtype='int64')"
      ]
     },
     "execution_count": 26,
     "metadata": {},
     "output_type": "execute_result"
    }
   ],
   "source": [
    "pd.get_dummies(df[\"month\"]).columns"
   ]
  }
 ],
 "metadata": {
  "kernelspec": {
   "display_name": "Python 3",
   "language": "python",
   "name": "python3"
  },
  "language_info": {
   "codemirror_mode": {
    "name": "ipython",
    "version": 3
   },
   "file_extension": ".py",
   "mimetype": "text/x-python",
   "name": "python",
   "nbconvert_exporter": "python",
   "pygments_lexer": "ipython3",
   "version": "3.6.5"
  }
 },
 "nbformat": 4,
 "nbformat_minor": 2
}
