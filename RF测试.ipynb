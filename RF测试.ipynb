{
 "cells": [
  {
   "cell_type": "code",
   "execution_count": 1,
   "metadata": {},
   "outputs": [],
   "source": [
    "# 读取数据集，分析2018年的销售数据\n",
    "import pandas as pd\n",
    "import chardet\n",
    "import xgboost\n",
    "import numpy as np \n",
    "from sklearn.model_selection import train_test_split\n",
    "from sklearn import metrics\n",
    "import os\n",
    "import re\n",
    "\n",
    "\n",
    "\n",
    "\n",
    "def encode_text_dummy(df, name, delete =  False):\n",
    "    dummies = pd.get_dummies(df[name])\n",
    "    for x in dummies.columns:\n",
    "        dummy_name = \"{}-{}\".format(name, x)\n",
    "        df[dummy_name] = dummies[x]\n",
    "    if delete:    \n",
    "        df.drop(name, axis=1, inplace=True)\n"
   ]
  },
  {
   "cell_type": "code",
   "execution_count": 46,
   "metadata": {},
   "outputs": [],
   "source": [
    "def season(i):\n",
    "    if i in [3,4,5]:\n",
    "        return \"春\"\n",
    "    if i in [6,7,8]:\n",
    "        return \"夏\"\n",
    "    if i in [9,10,11]:\n",
    "        return \"秋\"\n",
    "    if i in [12,1,2]:\n",
    "        return \"冬\"\n",
    "    return np.nan\n",
    "    "
   ]
  },
  {
   "cell_type": "code",
   "execution_count": 163,
   "metadata": {},
   "outputs": [],
   "source": [
    "df_.to_csv(\"KMpre.csv\",index=False)"
   ]
  },
  {
   "cell_type": "code",
   "execution_count": 164,
   "metadata": {},
   "outputs": [],
   "source": [
    "df_=pd.read_csv(\"KMpre.csv\")"
   ]
  },
  {
   "cell_type": "code",
   "execution_count": 44,
   "metadata": {},
   "outputs": [],
   "source": [
    "#df_[\"月\"] = df_[\"周\"].apply(lambda x: int(x/4.5)+1)"
   ]
  },
  {
   "cell_type": "code",
   "execution_count": 47,
   "metadata": {},
   "outputs": [],
   "source": [
    "#df_[\"季节\"] = df_[\"月\"].apply(season)"
   ]
  },
  {
   "cell_type": "code",
   "execution_count": 165,
   "metadata": {},
   "outputs": [
    {
     "data": {
      "text/html": [
       "<div>\n",
       "<style scoped>\n",
       "    .dataframe tbody tr th:only-of-type {\n",
       "        vertical-align: middle;\n",
       "    }\n",
       "\n",
       "    .dataframe tbody tr th {\n",
       "        vertical-align: top;\n",
       "    }\n",
       "\n",
       "    .dataframe thead th {\n",
       "        text-align: right;\n",
       "    }\n",
       "</style>\n",
       "<table border=\"1\" class=\"dataframe\">\n",
       "  <thead>\n",
       "    <tr style=\"text-align: right;\">\n",
       "      <th></th>\n",
       "      <th>年</th>\n",
       "      <th>周</th>\n",
       "      <th>分公司</th>\n",
       "      <th>中类</th>\n",
       "      <th>销量</th>\n",
       "      <th>销额</th>\n",
       "      <th>-1周销额</th>\n",
       "      <th>-1周销量</th>\n",
       "      <th>-2周销额</th>\n",
       "      <th>-2周销量</th>\n",
       "      <th>...</th>\n",
       "      <th>1周销额</th>\n",
       "      <th>1周销量</th>\n",
       "      <th>2周销额</th>\n",
       "      <th>2周销量</th>\n",
       "      <th>3周销额</th>\n",
       "      <th>3周销量</th>\n",
       "      <th>未来4周销量之和</th>\n",
       "      <th>未来4周销额之和</th>\n",
       "      <th>月</th>\n",
       "      <th>季节</th>\n",
       "    </tr>\n",
       "  </thead>\n",
       "  <tbody>\n",
       "    <tr>\n",
       "      <th>0</th>\n",
       "      <td>2017</td>\n",
       "      <td>42</td>\n",
       "      <td>总部</td>\n",
       "      <td>棉衣</td>\n",
       "      <td>3</td>\n",
       "      <td>210.0</td>\n",
       "      <td>22.0</td>\n",
       "      <td>22</td>\n",
       "      <td>22.0</td>\n",
       "      <td>22</td>\n",
       "      <td>...</td>\n",
       "      <td>6500.0</td>\n",
       "      <td>65</td>\n",
       "      <td>800.0</td>\n",
       "      <td>8</td>\n",
       "      <td>4600.0</td>\n",
       "      <td>46</td>\n",
       "      <td>122</td>\n",
       "      <td>12110.0</td>\n",
       "      <td>10</td>\n",
       "      <td>秋</td>\n",
       "    </tr>\n",
       "    <tr>\n",
       "      <th>1</th>\n",
       "      <td>2017</td>\n",
       "      <td>45</td>\n",
       "      <td>总部</td>\n",
       "      <td>棉衣</td>\n",
       "      <td>65</td>\n",
       "      <td>6500.0</td>\n",
       "      <td>210.0</td>\n",
       "      <td>3</td>\n",
       "      <td>22.0</td>\n",
       "      <td>22</td>\n",
       "      <td>...</td>\n",
       "      <td>800.0</td>\n",
       "      <td>8</td>\n",
       "      <td>4600.0</td>\n",
       "      <td>46</td>\n",
       "      <td>24020.0</td>\n",
       "      <td>251</td>\n",
       "      <td>370</td>\n",
       "      <td>35920.0</td>\n",
       "      <td>11</td>\n",
       "      <td>秋</td>\n",
       "    </tr>\n",
       "    <tr>\n",
       "      <th>2</th>\n",
       "      <td>2017</td>\n",
       "      <td>46</td>\n",
       "      <td>总部</td>\n",
       "      <td>棉衣</td>\n",
       "      <td>8</td>\n",
       "      <td>800.0</td>\n",
       "      <td>6500.0</td>\n",
       "      <td>65</td>\n",
       "      <td>210.0</td>\n",
       "      <td>3</td>\n",
       "      <td>...</td>\n",
       "      <td>4600.0</td>\n",
       "      <td>46</td>\n",
       "      <td>24020.0</td>\n",
       "      <td>251</td>\n",
       "      <td>6660.0</td>\n",
       "      <td>67</td>\n",
       "      <td>372</td>\n",
       "      <td>36080.0</td>\n",
       "      <td>11</td>\n",
       "      <td>秋</td>\n",
       "    </tr>\n",
       "  </tbody>\n",
       "</table>\n",
       "<p>3 rows × 22 columns</p>\n",
       "</div>"
      ],
      "text/plain": [
       "      年   周 分公司  中类  销量      销额   -1周销额  -1周销量  -2周销额  -2周销量  ...    1周销额  \\\n",
       "0  2017  42  总部  棉衣   3   210.0    22.0     22   22.0     22  ...  6500.0   \n",
       "1  2017  45  总部  棉衣  65  6500.0   210.0      3   22.0     22  ...   800.0   \n",
       "2  2017  46  总部  棉衣   8   800.0  6500.0     65  210.0      3  ...  4600.0   \n",
       "\n",
       "   1周销量     2周销额  2周销量     3周销额  3周销量  未来4周销量之和  未来4周销额之和   月  季节  \n",
       "0    65    800.0     8   4600.0    46       122   12110.0  10   秋  \n",
       "1     8   4600.0    46  24020.0   251       370   35920.0  11   秋  \n",
       "2    46  24020.0   251   6660.0    67       372   36080.0  11   秋  \n",
       "\n",
       "[3 rows x 22 columns]"
      ]
     },
     "execution_count": 165,
     "metadata": {},
     "output_type": "execute_result"
    }
   ],
   "source": [
    "df_.head(3)"
   ]
  },
  {
   "cell_type": "code",
   "execution_count": 59,
   "metadata": {},
   "outputs": [
    {
     "name": "stderr",
     "output_type": "stream",
     "text": [
      "/home/gang/anaconda3/lib/python3.6/site-packages/sklearn/ensemble/weight_boosting.py:29: DeprecationWarning: numpy.core.umath_tests is an internal NumPy module and should not be imported. It will be removed in a future NumPy release.\n",
      "  from numpy.core.umath_tests import inner1d\n"
     ]
    }
   ],
   "source": [
    "from sklearn.ensemble import RandomForestRegressor\n",
    "from sklearn.multioutput import MultiOutputRegressor\n",
    "from sklearn.model_selection import train_test_split"
   ]
  },
  {
   "cell_type": "code",
   "execution_count": 147,
   "metadata": {},
   "outputs": [],
   "source": [
    "x = df_[[\"年\",\"分公司\",\"中类\",\"周\",\"月\",\"季节\",\"-1周销量\",\"-1周销额\",\"-2周销量\",\"-2周销额\",\"-3周销量\",\"-3周销额\"]]"
   ]
  },
  {
   "cell_type": "code",
   "execution_count": 148,
   "metadata": {},
   "outputs": [
    {
     "name": "stderr",
     "output_type": "stream",
     "text": [
      "/home/gang/anaconda3/lib/python3.6/site-packages/pandas/core/frame.py:3940: SettingWithCopyWarning: \n",
      "A value is trying to be set on a copy of a slice from a DataFrame\n",
      "\n",
      "See the caveats in the documentation: http://pandas.pydata.org/pandas-docs/stable/indexing.html#indexing-view-versus-copy\n",
      "  errors=errors)\n"
     ]
    }
   ],
   "source": [
    "x.drop([\"周\"],axis = 1, inplace =True)"
   ]
  },
  {
   "cell_type": "code",
   "execution_count": 149,
   "metadata": {},
   "outputs": [],
   "source": [
    "y = df_[['销量', '销额']]#,'1周销额', '1周销量','未来4周销量之和', '未来4周销额之和']]"
   ]
  },
  {
   "cell_type": "code",
   "execution_count": 150,
   "metadata": {},
   "outputs": [
    {
     "data": {
      "text/plain": [
       "Index(['年', '分公司', '中类', '月', '季节', '-1周销量', '-1周销额', '-2周销量', '-2周销额',\n",
       "       '-3周销量', '-3周销额'],\n",
       "      dtype='object')"
      ]
     },
     "execution_count": 150,
     "metadata": {},
     "output_type": "execute_result"
    }
   ],
   "source": [
    "x.columns"
   ]
  },
  {
   "cell_type": "code",
   "execution_count": 151,
   "metadata": {},
   "outputs": [
    {
     "name": "stderr",
     "output_type": "stream",
     "text": [
      "/home/gang/anaconda3/lib/python3.6/site-packages/ipykernel_launcher.py:18: SettingWithCopyWarning: \n",
      "A value is trying to be set on a copy of a slice from a DataFrame.\n",
      "Try using .loc[row_indexer,col_indexer] = value instead\n",
      "\n",
      "See the caveats in the documentation: http://pandas.pydata.org/pandas-docs/stable/indexing.html#indexing-view-versus-copy\n",
      "/home/gang/anaconda3/lib/python3.6/site-packages/pandas/core/frame.py:3940: SettingWithCopyWarning: \n",
      "A value is trying to be set on a copy of a slice from a DataFrame\n",
      "\n",
      "See the caveats in the documentation: http://pandas.pydata.org/pandas-docs/stable/indexing.html#indexing-view-versus-copy\n",
      "  errors=errors)\n"
     ]
    }
   ],
   "source": [
    "encode_text_dummy(x,name = \"分公司\",delete = True)"
   ]
  },
  {
   "cell_type": "code",
   "execution_count": 152,
   "metadata": {},
   "outputs": [
    {
     "name": "stderr",
     "output_type": "stream",
     "text": [
      "/home/gang/anaconda3/lib/python3.6/site-packages/ipykernel_launcher.py:18: SettingWithCopyWarning: \n",
      "A value is trying to be set on a copy of a slice from a DataFrame.\n",
      "Try using .loc[row_indexer,col_indexer] = value instead\n",
      "\n",
      "See the caveats in the documentation: http://pandas.pydata.org/pandas-docs/stable/indexing.html#indexing-view-versus-copy\n"
     ]
    }
   ],
   "source": [
    "encode_text_dummy(x,name = \"中类\",delete = True)"
   ]
  },
  {
   "cell_type": "code",
   "execution_count": 153,
   "metadata": {},
   "outputs": [],
   "source": [
    "encode_text_dummy(x,name = \"季节\",delete = True)"
   ]
  },
  {
   "cell_type": "code",
   "execution_count": 155,
   "metadata": {},
   "outputs": [],
   "source": [
    "encode_text_dummy(x,name = \"月\",delete = True)"
   ]
  },
  {
   "cell_type": "code",
   "execution_count": 156,
   "metadata": {},
   "outputs": [],
   "source": [
    "encode_text_dummy(x,name = \"年\",delete = True)"
   ]
  },
  {
   "cell_type": "code",
   "execution_count": 166,
   "metadata": {},
   "outputs": [
    {
     "data": {
      "text/html": [
       "<div>\n",
       "<style scoped>\n",
       "    .dataframe tbody tr th:only-of-type {\n",
       "        vertical-align: middle;\n",
       "    }\n",
       "\n",
       "    .dataframe tbody tr th {\n",
       "        vertical-align: top;\n",
       "    }\n",
       "\n",
       "    .dataframe thead th {\n",
       "        text-align: right;\n",
       "    }\n",
       "</style>\n",
       "<table border=\"1\" class=\"dataframe\">\n",
       "  <thead>\n",
       "    <tr style=\"text-align: right;\">\n",
       "      <th></th>\n",
       "      <th>-1周销量</th>\n",
       "      <th>-1周销额</th>\n",
       "      <th>-2周销量</th>\n",
       "      <th>-2周销额</th>\n",
       "      <th>-3周销量</th>\n",
       "      <th>-3周销额</th>\n",
       "      <th>分公司-华中1分公司</th>\n",
       "      <th>分公司-华中2分公司</th>\n",
       "      <th>分公司-华北分公司</th>\n",
       "      <th>分公司-华南分公司</th>\n",
       "      <th>...</th>\n",
       "      <th>月-8</th>\n",
       "      <th>月-9</th>\n",
       "      <th>月-10</th>\n",
       "      <th>月-11</th>\n",
       "      <th>月-12</th>\n",
       "      <th>年-2015</th>\n",
       "      <th>年-2016</th>\n",
       "      <th>年-2017</th>\n",
       "      <th>年-2018</th>\n",
       "      <th>年-2019</th>\n",
       "    </tr>\n",
       "  </thead>\n",
       "  <tbody>\n",
       "    <tr>\n",
       "      <th>0</th>\n",
       "      <td>22</td>\n",
       "      <td>22.0</td>\n",
       "      <td>22</td>\n",
       "      <td>22.0</td>\n",
       "      <td>22</td>\n",
       "      <td>22.0</td>\n",
       "      <td>0</td>\n",
       "      <td>0</td>\n",
       "      <td>0</td>\n",
       "      <td>0</td>\n",
       "      <td>...</td>\n",
       "      <td>0</td>\n",
       "      <td>0</td>\n",
       "      <td>1</td>\n",
       "      <td>0</td>\n",
       "      <td>0</td>\n",
       "      <td>0</td>\n",
       "      <td>0</td>\n",
       "      <td>1</td>\n",
       "      <td>0</td>\n",
       "      <td>0</td>\n",
       "    </tr>\n",
       "    <tr>\n",
       "      <th>1</th>\n",
       "      <td>3</td>\n",
       "      <td>210.0</td>\n",
       "      <td>22</td>\n",
       "      <td>22.0</td>\n",
       "      <td>22</td>\n",
       "      <td>22.0</td>\n",
       "      <td>0</td>\n",
       "      <td>0</td>\n",
       "      <td>0</td>\n",
       "      <td>0</td>\n",
       "      <td>...</td>\n",
       "      <td>0</td>\n",
       "      <td>0</td>\n",
       "      <td>0</td>\n",
       "      <td>1</td>\n",
       "      <td>0</td>\n",
       "      <td>0</td>\n",
       "      <td>0</td>\n",
       "      <td>1</td>\n",
       "      <td>0</td>\n",
       "      <td>0</td>\n",
       "    </tr>\n",
       "    <tr>\n",
       "      <th>2</th>\n",
       "      <td>65</td>\n",
       "      <td>6500.0</td>\n",
       "      <td>3</td>\n",
       "      <td>210.0</td>\n",
       "      <td>22</td>\n",
       "      <td>22.0</td>\n",
       "      <td>0</td>\n",
       "      <td>0</td>\n",
       "      <td>0</td>\n",
       "      <td>0</td>\n",
       "      <td>...</td>\n",
       "      <td>0</td>\n",
       "      <td>0</td>\n",
       "      <td>0</td>\n",
       "      <td>1</td>\n",
       "      <td>0</td>\n",
       "      <td>0</td>\n",
       "      <td>0</td>\n",
       "      <td>1</td>\n",
       "      <td>0</td>\n",
       "      <td>0</td>\n",
       "    </tr>\n",
       "  </tbody>\n",
       "</table>\n",
       "<p>3 rows × 56 columns</p>\n",
       "</div>"
      ],
      "text/plain": [
       "   -1周销量   -1周销额  -2周销量  -2周销额  -3周销量  -3周销额  分公司-华中1分公司  分公司-华中2分公司  \\\n",
       "0     22    22.0     22   22.0     22   22.0           0           0   \n",
       "1      3   210.0     22   22.0     22   22.0           0           0   \n",
       "2     65  6500.0      3  210.0     22   22.0           0           0   \n",
       "\n",
       "   分公司-华北分公司  分公司-华南分公司  ...  月-8  月-9  月-10  月-11  月-12  年-2015  年-2016  \\\n",
       "0          0          0  ...    0    0     1     0     0       0       0   \n",
       "1          0          0  ...    0    0     0     1     0       0       0   \n",
       "2          0          0  ...    0    0     0     1     0       0       0   \n",
       "\n",
       "   年-2017  年-2018  年-2019  \n",
       "0       1       0       0  \n",
       "1       1       0       0  \n",
       "2       1       0       0  \n",
       "\n",
       "[3 rows x 56 columns]"
      ]
     },
     "execution_count": 166,
     "metadata": {},
     "output_type": "execute_result"
    }
   ],
   "source": [
    "x.head(3)"
   ]
  },
  {
   "cell_type": "code",
   "execution_count": 169,
   "metadata": {},
   "outputs": [
    {
     "data": {
      "text/html": [
       "<div>\n",
       "<style scoped>\n",
       "    .dataframe tbody tr th:only-of-type {\n",
       "        vertical-align: middle;\n",
       "    }\n",
       "\n",
       "    .dataframe tbody tr th {\n",
       "        vertical-align: top;\n",
       "    }\n",
       "\n",
       "    .dataframe thead th {\n",
       "        text-align: right;\n",
       "    }\n",
       "</style>\n",
       "<table border=\"1\" class=\"dataframe\">\n",
       "  <thead>\n",
       "    <tr style=\"text-align: right;\">\n",
       "      <th></th>\n",
       "      <th>销量</th>\n",
       "      <th>销额</th>\n",
       "    </tr>\n",
       "  </thead>\n",
       "  <tbody>\n",
       "    <tr>\n",
       "      <th>0</th>\n",
       "      <td>3</td>\n",
       "      <td>210.0</td>\n",
       "    </tr>\n",
       "    <tr>\n",
       "      <th>1</th>\n",
       "      <td>65</td>\n",
       "      <td>6500.0</td>\n",
       "    </tr>\n",
       "    <tr>\n",
       "      <th>2</th>\n",
       "      <td>8</td>\n",
       "      <td>800.0</td>\n",
       "    </tr>\n",
       "  </tbody>\n",
       "</table>\n",
       "</div>"
      ],
      "text/plain": [
       "   销量      销额\n",
       "0   3   210.0\n",
       "1  65  6500.0\n",
       "2   8   800.0"
      ]
     },
     "execution_count": 169,
     "metadata": {},
     "output_type": "execute_result"
    }
   ],
   "source": [
    "y.head(3)"
   ]
  },
  {
   "cell_type": "code",
   "execution_count": 177,
   "metadata": {},
   "outputs": [
    {
     "name": "stderr",
     "output_type": "stream",
     "text": [
      "/home/gang/anaconda3/lib/python3.6/site-packages/sklearn/model_selection/_split.py:2026: FutureWarning: From version 0.21, test_size will always complement train_size unless both are specified.\n",
      "  FutureWarning)\n"
     ]
    }
   ],
   "source": [
    "train_x,test_x,train_y,test_y = train_test_split(x,y,train_size = 0.8)"
   ]
  },
  {
   "cell_type": "code",
   "execution_count": 179,
   "metadata": {},
   "outputs": [
    {
     "name": "stdout",
     "output_type": "stream",
     "text": [
      "59.462759156103786\n",
      "61.344729223137854\n"
     ]
    }
   ],
   "source": [
    "regr_multirf = MultiOutputRegressor(RandomForestRegressor(n_estimators=30,max_depth=3,max_features=\"sqrt\", random_state=24))\n",
    "regr_multirf.fit(train_x, train_y)\n",
    "pred_y = regr_multirf.predict(test_x)\n",
    "y_test=test_y.values\n",
    "            \n",
    "for i in range(2):\n",
    "    error = abs(pred_y[:,i]-y_test[:,i])\n",
    "    scaled = (error/pred_y[:,i])*100\n",
    "    score = scaled.mean()\n",
    "    print(score) #舍弃周次的encode"
   ]
  },
  {
   "cell_type": "code",
   "execution_count": 183,
   "metadata": {},
   "outputs": [
    {
     "name": "stdout",
     "output_type": "stream",
     "text": [
      " \n",
      "30 3 sqrt\n",
      "59.462759156103786\n",
      "61.344729223137854\n",
      " \n",
      "30 3 log2\n",
      "64.41005901270876\n",
      "65.18259833296155\n",
      " \n",
      "30 7 sqrt\n",
      "47.66438389799265\n",
      "48.83957233092827\n",
      " \n",
      "30 7 log2\n",
      "52.37496418628498\n",
      "52.35372794319635\n",
      " \n",
      "30 10 sqrt\n",
      "43.98809514799893\n",
      "42.6798253946022\n",
      " \n",
      "30 10 log2\n",
      "46.61871120493663\n",
      "46.1314924495848\n",
      " \n",
      "30 15 sqrt\n",
      "38.64540290141184\n",
      "37.356802310555246\n",
      " \n",
      "30 15 log2\n",
      "40.56438240186026\n",
      "39.425194690707485\n",
      " \n",
      "30 20 sqrt\n",
      "37.32305365667184\n",
      "35.525337972844795\n",
      " \n",
      "30 20 log2\n",
      "37.55832656847055\n",
      "36.47842486645883\n",
      " \n",
      "30 30 sqrt\n",
      "36.71781554163758\n",
      "35.15917901987722\n",
      " \n",
      "30 30 log2\n",
      "36.57770247643078\n",
      "35.55612150877084\n",
      " \n",
      "30 50 sqrt\n",
      "36.79228540520424\n",
      "35.96574121672086\n",
      " \n",
      "30 50 log2\n",
      "35.76098007838725\n",
      "35.45557912576606\n",
      " \n",
      "50 3 sqrt\n",
      "58.71564954493816\n",
      "60.02261426269404\n",
      " \n",
      "50 3 log2\n",
      "63.31598251100884\n",
      "64.07688123409179\n",
      " \n",
      "50 7 sqrt\n",
      "47.587565815883984\n",
      "48.97919639258536\n",
      " \n",
      "50 7 log2\n",
      "51.887590007027086\n",
      "51.95166375298732\n",
      " \n",
      "50 10 sqrt\n",
      "43.68559880325944\n",
      "42.80805527837369\n",
      " \n",
      "50 10 log2\n",
      "46.498143467394684\n",
      "46.17132973963625\n",
      " \n",
      "50 15 sqrt\n",
      "38.64483578451696\n",
      "37.10548579854301\n",
      " \n",
      "50 15 log2\n",
      "40.334514775596254\n",
      "39.36033973163252\n",
      " \n",
      "50 20 sqrt\n",
      "36.587278244457366\n",
      "35.23275755030501\n",
      " \n",
      "50 20 log2\n",
      "37.12859482793957\n",
      "36.27505172669699\n",
      " \n",
      "50 30 sqrt\n",
      "36.166034045243904\n",
      "34.94482876040916\n",
      " \n",
      "50 30 log2\n",
      "36.118172217134685\n",
      "34.73772031167005\n",
      " \n",
      "50 50 sqrt\n",
      "36.73960427404453\n",
      "35.0997118979317\n",
      " \n",
      "50 50 log2\n",
      "35.57836968119988\n",
      "34.900531088511514\n",
      " \n",
      "100 3 sqrt\n",
      "58.24895575842217\n",
      "59.72755602355959\n",
      " \n",
      "100 3 log2\n",
      "62.58764845933876\n",
      "62.554517172881056\n",
      " \n",
      "100 7 sqrt\n",
      "47.22762226261265\n",
      "48.61810335374256\n",
      " \n",
      "100 7 log2\n",
      "50.99598658658999\n",
      "50.894935287673995\n",
      " \n",
      "100 10 sqrt\n",
      "43.23453784697194\n",
      "42.644186811334734\n",
      " \n",
      "100 10 log2\n",
      "46.08375436949888\n",
      "45.31949128566472\n",
      " \n",
      "100 15 sqrt\n",
      "38.30535894158707\n",
      "37.030992760826614\n",
      " \n",
      "100 15 log2\n",
      "40.178056355436546\n",
      "39.09246559855375\n",
      " \n",
      "100 20 sqrt\n",
      "36.402600763088884\n",
      "34.89529945413985\n",
      " \n",
      "100 20 log2\n",
      "36.72931751178973\n",
      "35.75091321986692\n",
      " \n",
      "100 30 sqrt\n",
      "35.67991900789959\n",
      "34.55739080437586\n",
      " \n",
      "100 30 log2\n",
      "35.58912915035319\n",
      "34.27710400408084\n",
      " \n",
      "100 50 sqrt\n",
      "35.99150352336172\n",
      "34.588439324587455\n",
      " \n",
      "100 50 log2\n",
      "35.38348232882118\n",
      "34.40764593186332\n",
      " \n",
      "130 3 sqrt\n",
      "58.06697516543338\n",
      "59.52935454602969\n",
      " \n",
      "130 3 log2\n",
      "62.14548695059188\n",
      "61.89982839909615\n",
      " \n",
      "130 7 sqrt\n",
      "47.371747985775556\n",
      "48.51582574045466\n",
      " \n",
      "130 7 log2\n",
      "50.78330957848719\n",
      "50.58966765319408\n",
      " \n",
      "130 10 sqrt\n",
      "43.20153400765522\n",
      "42.52574699372585\n",
      " \n",
      "130 10 log2\n",
      "45.78342067020341\n",
      "45.17365456231783\n",
      " \n",
      "130 15 sqrt\n",
      "38.25747648450187\n",
      "36.96005276122412\n",
      " \n",
      "130 15 log2\n",
      "40.101137523259794\n",
      "38.82803188753762\n",
      " \n",
      "130 20 sqrt\n",
      "36.287906148648254\n",
      "34.964791692907944\n",
      " \n",
      "130 20 log2\n",
      "36.72703471334723\n",
      "35.698462975834666\n",
      " \n",
      "130 30 sqrt\n",
      "35.625478307534344\n",
      "34.42843436462801\n",
      " \n",
      "130 30 log2\n",
      "35.40649483201529\n",
      "34.26986636338226\n",
      " \n",
      "130 50 sqrt\n",
      "35.69359376068934\n",
      "34.51704121740927\n",
      " \n",
      "130 50 log2\n",
      "35.428883594790044\n",
      "34.377902284709975\n",
      " \n",
      "170 3 sqrt\n",
      "58.17836142260476\n",
      "59.58252745039238\n",
      " \n",
      "170 3 log2\n",
      "61.87912368117513\n",
      "61.99956781708811\n",
      " \n",
      "170 7 sqrt\n",
      "47.584923974903184\n",
      "48.41661318727829\n",
      " \n",
      "170 7 log2\n",
      "51.04339847899162\n",
      "50.90238926951674\n",
      " \n",
      "170 10 sqrt\n",
      "43.30409771573823\n",
      "42.63992192530979\n",
      " \n",
      "170 10 log2\n",
      "45.84336329455811\n",
      "45.351860880157545\n",
      " \n",
      "170 15 sqrt\n",
      "38.279430946549475\n",
      "36.990262963785305\n",
      " \n",
      "170 15 log2\n",
      "40.189357088063105\n",
      "38.88382253041814\n",
      " \n",
      "170 20 sqrt\n",
      "36.25627353796131\n",
      "34.926244778850474\n",
      " \n",
      "170 20 log2\n",
      "36.70127487766087\n",
      "35.763166284174744\n",
      " \n",
      "170 30 sqrt\n",
      "35.4775698360252\n",
      "34.29783819284371\n",
      " \n",
      "170 30 log2\n",
      "35.27973442062088\n",
      "34.18370815824518\n",
      " \n",
      "170 50 sqrt\n",
      "35.40490098870145\n",
      "34.44304534405643\n",
      " \n",
      "170 50 log2\n",
      "35.391370434282116\n",
      "34.43430303772374\n",
      " \n",
      "200 3 sqrt\n",
      "58.25329417047285\n",
      "59.3745922475932\n",
      " \n",
      "200 3 log2\n",
      "61.6146452202254\n",
      "62.15294602259031\n",
      " \n",
      "200 7 sqrt\n",
      "47.597426593362\n",
      "48.276201681444086\n",
      " \n",
      "200 7 log2\n",
      "50.90014045791933\n",
      "50.912993016749496\n",
      " \n",
      "200 10 sqrt\n",
      "43.289862579939296\n",
      "42.58031065956705\n",
      " \n",
      "200 10 log2\n",
      "45.78128359830436\n",
      "45.31512556575527\n",
      " \n",
      "200 15 sqrt\n",
      "38.26388498882862\n",
      "36.992733262227226\n",
      " \n",
      "200 15 log2\n",
      "40.14606201081949\n",
      "38.8647849510813\n",
      " \n",
      "200 20 sqrt\n",
      "36.18945406957803\n",
      "34.82864668798091\n",
      " \n",
      "200 20 log2\n",
      "36.72284912780228\n",
      "35.776752418676665\n",
      " \n",
      "200 30 sqrt\n",
      "35.500515522532126\n",
      "34.324115903865945\n",
      " \n",
      "200 30 log2\n",
      "35.249503475932826\n",
      "34.28869816326389\n",
      " \n",
      "200 50 sqrt\n",
      "35.32584485407655\n",
      "34.26777701111154\n",
      " \n",
      "200 50 log2\n",
      "35.27511537631931\n",
      "34.496182367141685\n"
     ]
    }
   ],
   "source": [
    "for i_ in [30,50,100,130,170,200]:\n",
    "    for j_ in [3,7,10,15,20,30,50]:\n",
    "        for k_ in [\"sqrt\",\"log2\"]:\n",
    "            \n",
    "            regr_multirf = MultiOutputRegressor(RandomForestRegressor(n_estimators=i_,max_depth=j_,max_features=k_, random_state=24))\n",
    "            regr_multirf.fit(train_x, train_y)\n",
    "            pred_y = regr_multirf.predict(test_x)\n",
    "            y_test=test_y.values\n",
    "            print(\" \")\n",
    "            print(i_,j_,k_)\n",
    "            \n",
    "            for i in range(2):\n",
    "                error = abs(pred_y[:,i]-y_test[:,i])\n",
    "                scaled = (error/pred_y[:,i])*100\n",
    "                score = scaled.mean()\n",
    "                print(score) #舍弃周次的encode\n",
    "            \n",
    "            "
   ]
  },
  {
   "cell_type": "code",
   "execution_count": 172,
   "metadata": {},
   "outputs": [
    {
     "name": "stdout",
     "output_type": "stream",
     "text": [
      "30 3 sqrt\n",
      "30 3 log2\n",
      "30 7 sqrt\n",
      "30 7 log2\n",
      "30 10 sqrt\n",
      "30 10 log2\n",
      "30 15 sqrt\n",
      "30 15 log2\n",
      "30 20 sqrt\n",
      "30 20 log2\n",
      "50 3 sqrt\n",
      "50 3 log2\n",
      "50 7 sqrt\n",
      "50 7 log2\n",
      "50 10 sqrt\n",
      "50 10 log2\n",
      "50 15 sqrt\n",
      "50 15 log2\n",
      "50 20 sqrt\n",
      "50 20 log2\n",
      "100 3 sqrt\n",
      "100 3 log2\n",
      "100 7 sqrt\n",
      "100 7 log2\n",
      "100 10 sqrt\n",
      "100 10 log2\n",
      "100 15 sqrt\n",
      "100 15 log2\n",
      "100 20 sqrt\n",
      "100 20 log2\n",
      "130 3 sqrt\n",
      "130 3 log2\n",
      "130 7 sqrt\n",
      "130 7 log2\n",
      "130 10 sqrt\n",
      "130 10 log2\n",
      "130 15 sqrt\n",
      "130 15 log2\n",
      "130 20 sqrt\n",
      "130 20 log2\n",
      "170 3 sqrt\n",
      "170 3 log2\n",
      "170 7 sqrt\n",
      "170 7 log2\n",
      "170 10 sqrt\n",
      "170 10 log2\n",
      "170 15 sqrt\n",
      "170 15 log2\n",
      "170 20 sqrt\n",
      "170 20 log2\n",
      "200 3 sqrt\n",
      "200 3 log2\n",
      "200 7 sqrt\n",
      "200 7 log2\n",
      "200 10 sqrt\n",
      "200 10 log2\n",
      "200 15 sqrt\n",
      "200 15 log2\n",
      "200 20 sqrt\n",
      "200 20 log2\n"
     ]
    }
   ],
   "source": [
    "for i in [30,50,100,130,170,200]:\n",
    "    for j in [3,7,10,15,20]:\n",
    "        for k in [\"sqrt\",\"log2\"]:\n",
    "            print(i,j,k)"
   ]
  },
  {
   "cell_type": "code",
   "execution_count": 158,
   "metadata": {},
   "outputs": [
    {
     "data": {
      "text/plain": [
       "MultiOutputRegressor(estimator=RandomForestRegressor(bootstrap=True, criterion='mse', max_depth=10,\n",
       "           max_features='auto', max_leaf_nodes=None,\n",
       "           min_impurity_decrease=0.0, min_impurity_split=None,\n",
       "           min_samples_leaf=1, min_samples_split=2,\n",
       "           min_weight_fraction_leaf=0.0, n_estimators=10, n_jobs=1,\n",
       "           oob_score=False, random_state=24, verbose=0, warm_start=False),\n",
       "           n_jobs=1)"
      ]
     },
     "execution_count": 158,
     "metadata": {},
     "output_type": "execute_result"
    }
   ],
   "source": [
    "regr_multirf = MultiOutputRegressor(RandomForestRegressor(max_depth=10, random_state=24))\n",
    "regr_multirf.fit(train_x, train_y)"
   ]
  },
  {
   "cell_type": "code",
   "execution_count": 159,
   "metadata": {},
   "outputs": [],
   "source": [
    "pred_y = regr_multirf.predict(test_x)"
   ]
  },
  {
   "cell_type": "code",
   "execution_count": 62,
   "metadata": {},
   "outputs": [
    {
     "data": {
      "text/plain": [
       "(3538, 6)"
      ]
     },
     "execution_count": 62,
     "metadata": {},
     "output_type": "execute_result"
    }
   ],
   "source": [
    "pred_y.shape"
   ]
  },
  {
   "cell_type": "code",
   "execution_count": 246,
   "metadata": {},
   "outputs": [
    {
     "data": {
      "text/plain": [
       "(3538,)"
      ]
     },
     "execution_count": 246,
     "metadata": {},
     "output_type": "execute_result"
    }
   ],
   "source": [
    "pred_y[:,1].shape"
   ]
  },
  {
   "cell_type": "code",
   "execution_count": 64,
   "metadata": {},
   "outputs": [
    {
     "data": {
      "text/plain": [
       "(3538, 6)"
      ]
     },
     "execution_count": 64,
     "metadata": {},
     "output_type": "execute_result"
    }
   ],
   "source": [
    "test_y.values.shape"
   ]
  },
  {
   "cell_type": "code",
   "execution_count": 160,
   "metadata": {},
   "outputs": [],
   "source": [
    "y_test=test_y.values"
   ]
  },
  {
   "cell_type": "code",
   "execution_count": 162,
   "metadata": {},
   "outputs": [
    {
     "name": "stdout",
     "output_type": "stream",
     "text": [
      "41.250152094073925\n",
      "39.742880210928256\n"
     ]
    }
   ],
   "source": [
    "for i in range(2):\n",
    "    error = abs(pred_y[:,i]-y_test[:,i])\n",
    "    scaled = (error/pred_y[:,i])*100\n",
    "    score = scaled.mean()\n",
    "    print(score) #舍弃周次的encode"
   ]
  },
  {
   "cell_type": "code",
   "execution_count": 146,
   "metadata": {},
   "outputs": [
    {
     "name": "stdout",
     "output_type": "stream",
     "text": [
      "44.18706478154811\n",
      "41.54163583949868\n",
      "52.55603885219698\n",
      "53.19185571894473\n",
      "48.13798812374883\n",
      "49.53754519183458\n"
     ]
    }
   ],
   "source": [
    "for i in range(6):\n",
    "    error = abs(pred_y[:,i]-y_test[:,i])\n",
    "    scaled = (error/pred_y[:,i])*100\n",
    "    score = scaled.mean()\n",
    "    print(score) #舍弃周次的encode"
   ]
  },
  {
   "cell_type": "code",
   "execution_count": 115,
   "metadata": {},
   "outputs": [
    {
     "name": "stdout",
     "output_type": "stream",
     "text": [
      "40.97488456099869\n",
      "40.40080832433757\n",
      "52.34153178700889\n",
      "51.43323895920127\n",
      "47.95297974925523\n",
      "50.76464563759192\n"
     ]
    }
   ],
   "source": [
    "for i in range(6):\n",
    "    error = abs(pred_y[:,i]-y_test[:,i])\n",
    "    scaled = (error/pred_y[:,i])*100\n",
    "    score = scaled.mean()\n",
    "    print(score)#舍弃周次和月"
   ]
  },
  {
   "cell_type": "code",
   "execution_count": null,
   "metadata": {},
   "outputs": [],
   "source": [
    "for i in range(6):\n",
    "    error = abs(pred_y[:,i]-y_test[:,i])\n",
    "    scaled = (error/pred_y[:,i])*100\n",
    "    score = scaled.mean()\n",
    "    print(score)"
   ]
  },
  {
   "cell_type": "code",
   "execution_count": 132,
   "metadata": {},
   "outputs": [
    {
     "name": "stdout",
     "output_type": "stream",
     "text": [
      "38.95104063619484\n",
      "40.035018685666415\n",
      "54.30621491568478\n",
      "56.901934483677046\n",
      "50.65533289996525\n",
      "52.13003839787711\n"
     ]
    }
   ],
   "source": [
    "for i in range(6):\n",
    "    error = abs(pred_y[:,i]-y_test[:,i])\n",
    "    scaled = (error/pred_y[:,i])*100\n",
    "    score = scaled.mean()\n",
    "    print(score) #全部encode"
   ]
  },
  {
   "cell_type": "markdown",
   "metadata": {},
   "source": [
    "误差"
   ]
  },
  {
   "cell_type": "code",
   "execution_count": 294,
   "metadata": {},
   "outputs": [
    {
     "data": {
      "text/plain": [
       "0"
      ]
     },
     "execution_count": 294,
     "metadata": {},
     "output_type": "execute_result"
    }
   ],
   "source": [
    "(pred_y==0).sum()"
   ]
  },
  {
   "cell_type": "code",
   "execution_count": 283,
   "metadata": {},
   "outputs": [],
   "source": [
    "y_test = test_y.values"
   ]
  },
  {
   "cell_type": "code",
   "execution_count": 282,
   "metadata": {},
   "outputs": [
    {
     "data": {
      "text/plain": [
       "dtype('float64')"
      ]
     },
     "execution_count": 282,
     "metadata": {},
     "output_type": "execute_result"
    }
   ],
   "source": [
    "pred_y.dtype"
   ]
  },
  {
   "cell_type": "code",
   "execution_count": 286,
   "metadata": {},
   "outputs": [],
   "source": [
    "pred_y=pred_y.astype(\"float64\")\n",
    "y_test=y_test.astype(\"float64\")"
   ]
  }
 ],
 "metadata": {
  "kernelspec": {
   "display_name": "Python 3",
   "language": "python",
   "name": "python3"
  },
  "language_info": {
   "codemirror_mode": {
    "name": "ipython",
    "version": 3
   },
   "file_extension": ".py",
   "mimetype": "text/x-python",
   "name": "python",
   "nbconvert_exporter": "python",
   "pygments_lexer": "ipython3",
   "version": "3.6.5"
  }
 },
 "nbformat": 4,
 "nbformat_minor": 2
}
