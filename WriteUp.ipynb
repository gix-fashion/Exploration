{
 "cells": [
  {
   "cell_type": "code",
   "execution_count": 1,
   "metadata": {},
   "outputs": [],
   "source": [
    "import numpy as np\n",
    "import pandas as pd\n",
    "import re\n",
    "import matplotlib.pyplot as plt\n",
    "import chardet\n",
    "#df = pd.read_csv(\"sales_total_sku_channel.csv\",low_memory=False)\n",
    "%matplotlib inline"
   ]
  },
  {
   "cell_type": "markdown",
   "metadata": {},
   "source": [
    "## 货品维度\n",
    "\n",
    "#### 考虑该货品的品类，颜色，推出至今的年份（考虑到款式可能渐渐过时等），标牌价格，售卖价格，折扣率，地区（气候与消费能力），材料，系列等\n",
    "#### 对销售量，尺码比例等进行预测\n"
   ]
  },
  {
   "cell_type": "code",
   "execution_count": 2,
   "metadata": {},
   "outputs": [],
   "source": [
    "goods = pd.read_csv(\"goods.csv\")"
   ]
  },
  {
   "cell_type": "code",
   "execution_count": 3,
   "metadata": {},
   "outputs": [
    {
     "data": {
      "text/plain": [
       "Index(['sale_date', 'category_sub', 'year', 'color_name', 'sale_price',\n",
       "       'tag_price', 'season', 'series', 'province', 'material', 'size_name',\n",
       "       'Quantity', 'discount', 'release_years'],\n",
       "      dtype='object')"
      ]
     },
     "execution_count": 3,
     "metadata": {},
     "output_type": "execute_result"
    }
   ],
   "source": [
    "goods.columns"
   ]
  },
  {
   "cell_type": "markdown",
   "metadata": {},
   "source": [
    "'release_years' 是销售年份减去发行年份\n",
    "discount是 销售价格除以标牌价格"
   ]
  },
  {
   "cell_type": "markdown",
   "metadata": {},
   "source": [
    "## 渠道维度\n",
    "\n",
    "#### 除了考虑前面的属性，还要考虑门店的面积，导购员数量，地址（可以归总地址是否热门）\n",
    "#### 对销售量，尺码比例等进行预测"
   ]
  },
  {
   "cell_type": "code",
   "execution_count": 4,
   "metadata": {},
   "outputs": [],
   "source": [
    "goods_channel = pd.read_csv(\"goods_channel.csv\")"
   ]
  },
  {
   "cell_type": "code",
   "execution_count": 5,
   "metadata": {},
   "outputs": [
    {
     "data": {
      "text/plain": [
       "Index(['sale_date', 'category_sub', 'year', 'color_name', 'sale_price',\n",
       "       'tag_price', 'season', 'series', 'province', 'area',\n",
       "       'shopping_guide_quantity', 'address', 'channel_type', 'channel_name',\n",
       "       'material', 'size_name', 'Quantity', 'release_years'],\n",
       "      dtype='object')"
      ]
     },
     "execution_count": 5,
     "metadata": {},
     "output_type": "execute_result"
    }
   ],
   "source": [
    "goods_channel.columns"
   ]
  },
  {
   "cell_type": "markdown",
   "metadata": {},
   "source": [
    "可以根据同一年份同一地区的不同地址销售额度来看地址是否有影响， "
   ]
  }
 ],
 "metadata": {
  "kernelspec": {
   "display_name": "Python 3",
   "language": "python",
   "name": "python3"
  },
  "language_info": {
   "codemirror_mode": {
    "name": "ipython",
    "version": 3
   },
   "file_extension": ".py",
   "mimetype": "text/x-python",
   "name": "python",
   "nbconvert_exporter": "python",
   "pygments_lexer": "ipython3",
   "version": "3.6.5"
  }
 },
 "nbformat": 4,
 "nbformat_minor": 2
}
