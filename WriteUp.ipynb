{
 "cells": [
  {
   "cell_type": "code",
   "execution_count": 1,
   "metadata": {},
   "outputs": [],
   "source": [
    "import numpy as np\n",
    "import pandas as pd\n",
    "import re\n",
    "import matplotlib.pyplot as plt\n",
    "import chardet\n",
    "#df = pd.read_csv(\"sales_total_sku_channel.csv\",low_memory=False)\n",
    "%matplotlib inline"
   ]
  },
  {
   "cell_type": "markdown",
   "metadata": {},
   "source": [
    "## 货品维度\n",
    "\n",
    "#### 考虑该货品的品类，颜色，推出至今的年份（考虑到款式可能渐渐过时等），标牌价格，售卖价格，折扣率，地区（气候与消费能力），材料，系列等\n",
    "#### 对销售量，尺码比例等进行预测\n"
   ]
  },
  {
   "cell_type": "code",
   "execution_count": 2,
   "metadata": {},
   "outputs": [],
   "source": [
    "goods = pd.read_csv(\"goods.csv\")"
   ]
  },
  {
   "cell_type": "code",
   "execution_count": 3,
   "metadata": {},
   "outputs": [
    {
     "data": {
      "text/plain": [
       "Index(['sale_date', 'category_sub', 'year', 'color_name', 'sale_price',\n",
       "       'tag_price', 'season', 'series', 'province', 'material', 'size_name',\n",
       "       'Quantity', 'discount', 'release_years', 'month', '季节', 'sku_id',\n",
       "       '周数-年'],\n",
       "      dtype='object')"
      ]
     },
     "execution_count": 3,
     "metadata": {},
     "output_type": "execute_result"
    }
   ],
   "source": [
    "goods.columns"
   ]
  },
  {
   "cell_type": "markdown",
   "metadata": {},
   "source": [
    " 周数-年是指销售日期是这一年的第几周，release_years是销售的年份减去发行的年份，seaon是原数据提供的，应该是指品类对应的季节，“季节”是销售日期的季节"
   ]
  },
  {
   "cell_type": "markdown",
   "metadata": {},
   "source": [
    "'release_years' 是销售年份减去发行年份\n",
    "discount是 销售价格除以标牌价格"
   ]
  },
  {
   "cell_type": "markdown",
   "metadata": {},
   "source": [
    "## 渠道维度\n",
    "\n",
    "#### 除了考虑前面的属性，还要考虑门店的面积，导购员数量，地址（可以归总地址是否热门）\n",
    "#### 对销售量，尺码比例等进行预测"
   ]
  },
  {
   "cell_type": "code",
   "execution_count": 4,
   "metadata": {},
   "outputs": [],
   "source": [
    "df_channel = pd.read_csv(\"goods_channel.csv\")"
   ]
  },
  {
   "cell_type": "code",
   "execution_count": 5,
   "metadata": {},
   "outputs": [
    {
     "data": {
      "text/plain": [
       "Index(['sale_date', 'category_sub', 'year', 'color_name', 'sale_price',\n",
       "       'tag_price', 'season', 'series', 'province', 'area',\n",
       "       'shopping_guide_quantity', 'address', 'channel_type', 'channel_name',\n",
       "       'material', 'size_name', 'Quantity', 'release_years', '季节', 'sku_id',\n",
       "       '周数-年'],\n",
       "      dtype='object')"
      ]
     },
     "execution_count": 5,
     "metadata": {},
     "output_type": "execute_result"
    }
   ],
   "source": [
    "df_channel.columns"
   ]
  },
  {
   "cell_type": "code",
   "execution_count": 7,
   "metadata": {},
   "outputs": [],
   "source": [
    "group = df_channel.groupby(by = \"channel_name\")"
   ]
  },
  {
   "cell_type": "code",
   "execution_count": 11,
   "metadata": {},
   "outputs": [],
   "source": [
    "for key,item in group:\n",
    "    group.get_group(key).to_csv(\"店铺/\"+key.replace(\"/\",\"_\")+\".csv\",index = False)\n",
    "    "
   ]
  },
  {
   "cell_type": "markdown",
   "metadata": {},
   "source": [
    "按照店铺分别输出了csv文件"
   ]
  },
  {
   "cell_type": "code",
   "execution_count": 12,
   "metadata": {},
   "outputs": [],
   "source": [
    "group_year = df_channel.groupby(by = \"year\")"
   ]
  },
  {
   "cell_type": "code",
   "execution_count": 15,
   "metadata": {},
   "outputs": [],
   "source": [
    "for key,item in group_year:\n",
    "    group_year.get_group(key).to_csv(\"年份/\"+str(key)+\".csv\",index = False)"
   ]
  },
  {
   "cell_type": "markdown",
   "metadata": {},
   "source": [
    "按照年份分别输出了csv文件"
   ]
  },
  {
   "cell_type": "code",
   "execution_count": 35,
   "metadata": {},
   "outputs": [
    {
     "data": {
      "text/plain": [
       "0    重庆王府井百货\n",
       "1     深圳太阳百货\n",
       "2      南京水游城\n",
       "3     深圳太阳百货\n",
       "4    重庆王府井百货\n",
       "Name: channel_name, dtype: object"
      ]
     },
     "execution_count": 35,
     "metadata": {},
     "output_type": "execute_result"
    }
   ],
   "source": [
    "df_channel['channel_name'].head(5)"
   ]
  },
  {
   "cell_type": "markdown",
   "metadata": {},
   "source": [
    "可以根据同一年份同一地区的不同地址销售额度来看地址是否有影响， 这边的销售额可以定义为 总销售额/面积 等，进行规整"
   ]
  },
  {
   "cell_type": "markdown",
   "metadata": {},
   "source": [
    "### 订单的归总"
   ]
  },
  {
   "cell_type": "code",
   "execution_count": 17,
   "metadata": {},
   "outputs": [],
   "source": [
    "purchase = pd.read_csv(\"New_data/purchase_20190410104706.csv\")"
   ]
  },
  {
   "cell_type": "code",
   "execution_count": 25,
   "metadata": {},
   "outputs": [],
   "source": [
    "df_sku = goods[['sku_id','season','series','category_sub','color_name','tag_price','material', 'size_name']].groupby(by = 'sku_id').head(1)"
   ]
  },
  {
   "cell_type": "code",
   "execution_count": 26,
   "metadata": {},
   "outputs": [
    {
     "data": {
      "text/html": [
       "<div>\n",
       "<style scoped>\n",
       "    .dataframe tbody tr th:only-of-type {\n",
       "        vertical-align: middle;\n",
       "    }\n",
       "\n",
       "    .dataframe tbody tr th {\n",
       "        vertical-align: top;\n",
       "    }\n",
       "\n",
       "    .dataframe thead th {\n",
       "        text-align: right;\n",
       "    }\n",
       "</style>\n",
       "<table border=\"1\" class=\"dataframe\">\n",
       "  <thead>\n",
       "    <tr style=\"text-align: right;\">\n",
       "      <th></th>\n",
       "      <th>sku_id</th>\n",
       "      <th>season</th>\n",
       "      <th>series</th>\n",
       "      <th>category_sub</th>\n",
       "      <th>color_name</th>\n",
       "      <th>tag_price</th>\n",
       "      <th>material</th>\n",
       "      <th>size_name</th>\n",
       "    </tr>\n",
       "  </thead>\n",
       "  <tbody>\n",
       "    <tr>\n",
       "      <th>0</th>\n",
       "      <td>121802023B701#B701#00#L</td>\n",
       "      <td>春季</td>\n",
       "      <td>Modern City</td>\n",
       "      <td>夹克</td>\n",
       "      <td>黑色</td>\n",
       "      <td>699.0</td>\n",
       "      <td>皇家细格尼丝纺</td>\n",
       "      <td>L</td>\n",
       "    </tr>\n",
       "    <tr>\n",
       "      <th>97</th>\n",
       "      <td>112804029B365#B365#00#M</td>\n",
       "      <td>夏季</td>\n",
       "      <td>Other</td>\n",
       "      <td>T恤</td>\n",
       "      <td>薄荷绿</td>\n",
       "      <td>199.0</td>\n",
       "      <td>NaN</td>\n",
       "      <td>M</td>\n",
       "    </tr>\n",
       "    <tr>\n",
       "      <th>167</th>\n",
       "      <td>121904087B902#B902#00#M</td>\n",
       "      <td>春季</td>\n",
       "      <td>Modern City</td>\n",
       "      <td>T恤</td>\n",
       "      <td>麻灰</td>\n",
       "      <td>229.0</td>\n",
       "      <td>32'S 单纱汗布</td>\n",
       "      <td>M</td>\n",
       "    </tr>\n",
       "    <tr>\n",
       "      <th>248</th>\n",
       "      <td>1218020032B01#2B01#00#M</td>\n",
       "      <td>春季</td>\n",
       "      <td>Denim</td>\n",
       "      <td>夹克</td>\n",
       "      <td>蓝牛</td>\n",
       "      <td>799.0</td>\n",
       "      <td>美术牛仔</td>\n",
       "      <td>M</td>\n",
       "    </tr>\n",
       "    <tr>\n",
       "      <th>530</th>\n",
       "      <td>1219070042B01#2B01#32#29</td>\n",
       "      <td>春季</td>\n",
       "      <td>Denim</td>\n",
       "      <td>牛仔长裤</td>\n",
       "      <td>蓝牛</td>\n",
       "      <td>599.0</td>\n",
       "      <td>弹力黛林牛仔</td>\n",
       "      <td>29</td>\n",
       "    </tr>\n",
       "  </tbody>\n",
       "</table>\n",
       "</div>"
      ],
      "text/plain": [
       "                       sku_id season       series category_sub color_name  \\\n",
       "0     121802023B701#B701#00#L     春季  Modern City           夹克         黑色   \n",
       "97    112804029B365#B365#00#M     夏季        Other           T恤        薄荷绿   \n",
       "167   121904087B902#B902#00#M     春季  Modern City           T恤         麻灰   \n",
       "248   1218020032B01#2B01#00#M     春季        Denim           夹克         蓝牛   \n",
       "530  1219070042B01#2B01#32#29     春季        Denim         牛仔长裤         蓝牛   \n",
       "\n",
       "     tag_price   material size_name  \n",
       "0        699.0    皇家细格尼丝纺         L  \n",
       "97       199.0        NaN         M  \n",
       "167      229.0  32'S 单纱汗布         M  \n",
       "248      799.0       美术牛仔         M  \n",
       "530      599.0     弹力黛林牛仔        29  "
      ]
     },
     "execution_count": 26,
     "metadata": {},
     "output_type": "execute_result"
    }
   ],
   "source": [
    "df_sku.head(5)"
   ]
  },
  {
   "cell_type": "code",
   "execution_count": 27,
   "metadata": {},
   "outputs": [],
   "source": [
    "new_df = pd.merge(purchase,df_sku,on=\"sku_id\")"
   ]
  },
  {
   "cell_type": "code",
   "execution_count": 28,
   "metadata": {},
   "outputs": [
    {
     "data": {
      "text/html": [
       "<div>\n",
       "<style scoped>\n",
       "    .dataframe tbody tr th:only-of-type {\n",
       "        vertical-align: middle;\n",
       "    }\n",
       "\n",
       "    .dataframe tbody tr th {\n",
       "        vertical-align: top;\n",
       "    }\n",
       "\n",
       "    .dataframe thead th {\n",
       "        text-align: right;\n",
       "    }\n",
       "</style>\n",
       "<table border=\"1\" class=\"dataframe\">\n",
       "  <thead>\n",
       "    <tr style=\"text-align: right;\">\n",
       "      <th></th>\n",
       "      <th>purchase_no</th>\n",
       "      <th>purchase_date</th>\n",
       "      <th>supplier_id</th>\n",
       "      <th>sku_id</th>\n",
       "      <th>purchase_price</th>\n",
       "      <th>Quantity</th>\n",
       "      <th>season</th>\n",
       "      <th>series</th>\n",
       "      <th>category_sub</th>\n",
       "      <th>color_name</th>\n",
       "      <th>tag_price</th>\n",
       "      <th>material</th>\n",
       "      <th>size_name</th>\n",
       "    </tr>\n",
       "  </thead>\n",
       "  <tbody>\n",
       "    <tr>\n",
       "      <th>0</th>\n",
       "      <td>POB0000002</td>\n",
       "      <td>2013/06/03</td>\n",
       "      <td>GYS074</td>\n",
       "      <td>133894008609#609#00#L</td>\n",
       "      <td>61.0</td>\n",
       "      <td>121</td>\n",
       "      <td>秋季</td>\n",
       "      <td>Modern Vintage</td>\n",
       "      <td>配件</td>\n",
       "      <td>藏黑蓝</td>\n",
       "      <td>349.0</td>\n",
       "      <td>牛皮</td>\n",
       "      <td>L</td>\n",
       "    </tr>\n",
       "    <tr>\n",
       "      <th>1</th>\n",
       "      <td>POB0000002</td>\n",
       "      <td>2013/06/03</td>\n",
       "      <td>GYS074</td>\n",
       "      <td>133894009402#402#00#M</td>\n",
       "      <td>79.0</td>\n",
       "      <td>93</td>\n",
       "      <td>秋季</td>\n",
       "      <td>Modern Vintage</td>\n",
       "      <td>配件</td>\n",
       "      <td>咖啡棕</td>\n",
       "      <td>349.0</td>\n",
       "      <td>牛皮</td>\n",
       "      <td>M</td>\n",
       "    </tr>\n",
       "    <tr>\n",
       "      <th>2</th>\n",
       "      <td>POB0000002</td>\n",
       "      <td>2013/06/03</td>\n",
       "      <td>GYS074</td>\n",
       "      <td>133994002104#104#00#M</td>\n",
       "      <td>70.0</td>\n",
       "      <td>114</td>\n",
       "      <td>秋季</td>\n",
       "      <td>Modern Vintage</td>\n",
       "      <td>配件</td>\n",
       "      <td>果酱红</td>\n",
       "      <td>299.0</td>\n",
       "      <td>牛皮</td>\n",
       "      <td>M</td>\n",
       "    </tr>\n",
       "    <tr>\n",
       "      <th>3</th>\n",
       "      <td>POB0000002</td>\n",
       "      <td>2013/06/03</td>\n",
       "      <td>GYS074</td>\n",
       "      <td>133994002104#104#00#S</td>\n",
       "      <td>70.0</td>\n",
       "      <td>87</td>\n",
       "      <td>秋季</td>\n",
       "      <td>Modern Vintage</td>\n",
       "      <td>配件</td>\n",
       "      <td>果酱红</td>\n",
       "      <td>299.0</td>\n",
       "      <td>牛皮</td>\n",
       "      <td>S</td>\n",
       "    </tr>\n",
       "    <tr>\n",
       "      <th>4</th>\n",
       "      <td>POB0000002</td>\n",
       "      <td>2013/06/03</td>\n",
       "      <td>GYS074</td>\n",
       "      <td>134894001402#402#00#L</td>\n",
       "      <td>70.0</td>\n",
       "      <td>116</td>\n",
       "      <td>冬季</td>\n",
       "      <td>Modern Vintage</td>\n",
       "      <td>配件</td>\n",
       "      <td>咖啡棕</td>\n",
       "      <td>349.0</td>\n",
       "      <td>牛皮</td>\n",
       "      <td>L</td>\n",
       "    </tr>\n",
       "  </tbody>\n",
       "</table>\n",
       "</div>"
      ],
      "text/plain": [
       "  purchase_no purchase_date supplier_id                 sku_id  \\\n",
       "0  POB0000002    2013/06/03      GYS074  133894008609#609#00#L   \n",
       "1  POB0000002    2013/06/03      GYS074  133894009402#402#00#M   \n",
       "2  POB0000002    2013/06/03      GYS074  133994002104#104#00#M   \n",
       "3  POB0000002    2013/06/03      GYS074  133994002104#104#00#S   \n",
       "4  POB0000002    2013/06/03      GYS074  134894001402#402#00#L   \n",
       "\n",
       "   purchase_price  Quantity season          series category_sub color_name  \\\n",
       "0            61.0       121     秋季  Modern Vintage           配件        藏黑蓝   \n",
       "1            79.0        93     秋季  Modern Vintage           配件        咖啡棕   \n",
       "2            70.0       114     秋季  Modern Vintage           配件        果酱红   \n",
       "3            70.0        87     秋季  Modern Vintage           配件        果酱红   \n",
       "4            70.0       116     冬季  Modern Vintage           配件        咖啡棕   \n",
       "\n",
       "   tag_price material size_name  \n",
       "0      349.0       牛皮         L  \n",
       "1      349.0       牛皮         M  \n",
       "2      299.0       牛皮         M  \n",
       "3      299.0       牛皮         S  \n",
       "4      349.0       牛皮         L  "
      ]
     },
     "execution_count": 28,
     "metadata": {},
     "output_type": "execute_result"
    }
   ],
   "source": [
    "new_df.head(5)"
   ]
  },
  {
   "cell_type": "markdown",
   "metadata": {},
   "source": [
    "自此可以汇总订单量以及利用货品的属性预测订单量，或者统计订单量的尺寸比例等.也可以根据季节等。 这里的season是货品对应季节，再对应采购日期的季节或许会有帮助"
   ]
  },
  {
   "cell_type": "code",
   "execution_count": 29,
   "metadata": {},
   "outputs": [],
   "source": [
    "def season(i):\n",
    "    if i in [3,4,5]:\n",
    "        return \"春\"\n",
    "    if i in [6,7,8]:\n",
    "        return \"夏\"\n",
    "    if i in [9,10,11]:\n",
    "        return \"秋\"\n",
    "    if i in [12,1,2]:\n",
    "        return \"冬\"\n",
    "    return np.nan"
   ]
  },
  {
   "cell_type": "code",
   "execution_count": 32,
   "metadata": {},
   "outputs": [],
   "source": [
    "new_df[\"purchase_month\"] = pd.to_datetime(new_df[\"purchase_date\"]).apply(lambda x : x.strftime(\"%m\")).astype(int)\n",
    "new_df[\"采购季节\"]=new_df[\"purchase_month\"].apply(season)"
   ]
  },
  {
   "cell_type": "code",
   "execution_count": 36,
   "metadata": {},
   "outputs": [],
   "source": [
    "new_df[\"purchase_year\"] = pd.to_datetime(new_df[\"purchase_date\"]).apply(lambda x : x.strftime(\"%Y\")).astype(int)"
   ]
  },
  {
   "cell_type": "code",
   "execution_count": 37,
   "metadata": {},
   "outputs": [
    {
     "data": {
      "text/html": [
       "<div>\n",
       "<style scoped>\n",
       "    .dataframe tbody tr th:only-of-type {\n",
       "        vertical-align: middle;\n",
       "    }\n",
       "\n",
       "    .dataframe tbody tr th {\n",
       "        vertical-align: top;\n",
       "    }\n",
       "\n",
       "    .dataframe thead th {\n",
       "        text-align: right;\n",
       "    }\n",
       "</style>\n",
       "<table border=\"1\" class=\"dataframe\">\n",
       "  <thead>\n",
       "    <tr style=\"text-align: right;\">\n",
       "      <th></th>\n",
       "      <th>purchase_no</th>\n",
       "      <th>purchase_date</th>\n",
       "      <th>supplier_id</th>\n",
       "      <th>sku_id</th>\n",
       "      <th>purchase_price</th>\n",
       "      <th>Quantity</th>\n",
       "      <th>season</th>\n",
       "      <th>series</th>\n",
       "      <th>category_sub</th>\n",
       "      <th>color_name</th>\n",
       "      <th>tag_price</th>\n",
       "      <th>material</th>\n",
       "      <th>size_name</th>\n",
       "      <th>purchase_month</th>\n",
       "      <th>采购季节</th>\n",
       "      <th>purchase_year</th>\n",
       "    </tr>\n",
       "  </thead>\n",
       "  <tbody>\n",
       "    <tr>\n",
       "      <th>0</th>\n",
       "      <td>POB0000002</td>\n",
       "      <td>2013/06/03</td>\n",
       "      <td>GYS074</td>\n",
       "      <td>133894008609#609#00#L</td>\n",
       "      <td>61.0</td>\n",
       "      <td>121</td>\n",
       "      <td>秋季</td>\n",
       "      <td>Modern Vintage</td>\n",
       "      <td>配件</td>\n",
       "      <td>藏黑蓝</td>\n",
       "      <td>349.0</td>\n",
       "      <td>牛皮</td>\n",
       "      <td>L</td>\n",
       "      <td>6</td>\n",
       "      <td>夏</td>\n",
       "      <td>2013</td>\n",
       "    </tr>\n",
       "    <tr>\n",
       "      <th>1</th>\n",
       "      <td>POB0000002</td>\n",
       "      <td>2013/06/03</td>\n",
       "      <td>GYS074</td>\n",
       "      <td>133894009402#402#00#M</td>\n",
       "      <td>79.0</td>\n",
       "      <td>93</td>\n",
       "      <td>秋季</td>\n",
       "      <td>Modern Vintage</td>\n",
       "      <td>配件</td>\n",
       "      <td>咖啡棕</td>\n",
       "      <td>349.0</td>\n",
       "      <td>牛皮</td>\n",
       "      <td>M</td>\n",
       "      <td>6</td>\n",
       "      <td>夏</td>\n",
       "      <td>2013</td>\n",
       "    </tr>\n",
       "    <tr>\n",
       "      <th>2</th>\n",
       "      <td>POB0000002</td>\n",
       "      <td>2013/06/03</td>\n",
       "      <td>GYS074</td>\n",
       "      <td>133994002104#104#00#M</td>\n",
       "      <td>70.0</td>\n",
       "      <td>114</td>\n",
       "      <td>秋季</td>\n",
       "      <td>Modern Vintage</td>\n",
       "      <td>配件</td>\n",
       "      <td>果酱红</td>\n",
       "      <td>299.0</td>\n",
       "      <td>牛皮</td>\n",
       "      <td>M</td>\n",
       "      <td>6</td>\n",
       "      <td>夏</td>\n",
       "      <td>2013</td>\n",
       "    </tr>\n",
       "    <tr>\n",
       "      <th>3</th>\n",
       "      <td>POB0000002</td>\n",
       "      <td>2013/06/03</td>\n",
       "      <td>GYS074</td>\n",
       "      <td>133994002104#104#00#S</td>\n",
       "      <td>70.0</td>\n",
       "      <td>87</td>\n",
       "      <td>秋季</td>\n",
       "      <td>Modern Vintage</td>\n",
       "      <td>配件</td>\n",
       "      <td>果酱红</td>\n",
       "      <td>299.0</td>\n",
       "      <td>牛皮</td>\n",
       "      <td>S</td>\n",
       "      <td>6</td>\n",
       "      <td>夏</td>\n",
       "      <td>2013</td>\n",
       "    </tr>\n",
       "    <tr>\n",
       "      <th>4</th>\n",
       "      <td>POB0000002</td>\n",
       "      <td>2013/06/03</td>\n",
       "      <td>GYS074</td>\n",
       "      <td>134894001402#402#00#L</td>\n",
       "      <td>70.0</td>\n",
       "      <td>116</td>\n",
       "      <td>冬季</td>\n",
       "      <td>Modern Vintage</td>\n",
       "      <td>配件</td>\n",
       "      <td>咖啡棕</td>\n",
       "      <td>349.0</td>\n",
       "      <td>牛皮</td>\n",
       "      <td>L</td>\n",
       "      <td>6</td>\n",
       "      <td>夏</td>\n",
       "      <td>2013</td>\n",
       "    </tr>\n",
       "  </tbody>\n",
       "</table>\n",
       "</div>"
      ],
      "text/plain": [
       "  purchase_no purchase_date supplier_id                 sku_id  \\\n",
       "0  POB0000002    2013/06/03      GYS074  133894008609#609#00#L   \n",
       "1  POB0000002    2013/06/03      GYS074  133894009402#402#00#M   \n",
       "2  POB0000002    2013/06/03      GYS074  133994002104#104#00#M   \n",
       "3  POB0000002    2013/06/03      GYS074  133994002104#104#00#S   \n",
       "4  POB0000002    2013/06/03      GYS074  134894001402#402#00#L   \n",
       "\n",
       "   purchase_price  Quantity season          series category_sub color_name  \\\n",
       "0            61.0       121     秋季  Modern Vintage           配件        藏黑蓝   \n",
       "1            79.0        93     秋季  Modern Vintage           配件        咖啡棕   \n",
       "2            70.0       114     秋季  Modern Vintage           配件        果酱红   \n",
       "3            70.0        87     秋季  Modern Vintage           配件        果酱红   \n",
       "4            70.0       116     冬季  Modern Vintage           配件        咖啡棕   \n",
       "\n",
       "   tag_price material size_name  purchase_month 采购季节  purchase_year  \n",
       "0      349.0       牛皮         L               6    夏           2013  \n",
       "1      349.0       牛皮         M               6    夏           2013  \n",
       "2      299.0       牛皮         M               6    夏           2013  \n",
       "3      299.0       牛皮         S               6    夏           2013  \n",
       "4      349.0       牛皮         L               6    夏           2013  "
      ]
     },
     "execution_count": 37,
     "metadata": {},
     "output_type": "execute_result"
    }
   ],
   "source": [
    "new_df.head(5)"
   ]
  },
  {
   "cell_type": "code",
   "execution_count": 38,
   "metadata": {},
   "outputs": [],
   "source": [
    "new_df.to_csv(\"purchase_info.csv\",index = False)"
   ]
  },
  {
   "cell_type": "markdown",
   "metadata": {},
   "source": [
    "选出2013年的来做一下"
   ]
  },
  {
   "cell_type": "code",
   "execution_count": 41,
   "metadata": {},
   "outputs": [
    {
     "data": {
      "text/plain": [
       "2017    13212\n",
       "2014     9480\n",
       "2016     6140\n",
       "2015     5686\n",
       "2018     4643\n",
       "2013     4571\n",
       "Name: purchase_year, dtype: int64"
      ]
     },
     "execution_count": 41,
     "metadata": {},
     "output_type": "execute_result"
    }
   ],
   "source": [
    "new_df[\"purchase_year\"].value_counts()"
   ]
  },
  {
   "cell_type": "code",
   "execution_count": 43,
   "metadata": {},
   "outputs": [],
   "source": [
    "purchase_2013 = new_df[new_df[\"purchase_year\"]==2013]"
   ]
  },
  {
   "cell_type": "markdown",
   "metadata": {},
   "source": [
    "这里的折扣率就用2013年全年的折扣率（销售额/（销售数量×吊牌价））吧，虽然这样不严谨。"
   ]
  },
  {
   "cell_type": "code",
   "execution_count": 45,
   "metadata": {},
   "outputs": [],
   "source": [
    "df_2013 = pd.read_csv(\"年份/2013.csv\")"
   ]
  },
  {
   "cell_type": "code",
   "execution_count": 48,
   "metadata": {},
   "outputs": [
    {
     "data": {
      "text/plain": [
       "Index(['sale_date', 'category_sub', 'year', 'color_name', 'sale_price',\n",
       "       'tag_price', 'season', 'series', 'province', 'area',\n",
       "       'shopping_guide_quantity', 'address', 'channel_type', 'channel_name',\n",
       "       'material', 'size_name', 'Quantity', 'release_years', '季节', 'sku_id',\n",
       "       '周数-年'],\n",
       "      dtype='object')"
      ]
     },
     "execution_count": 48,
     "metadata": {},
     "output_type": "execute_result"
    }
   ],
   "source": [
    "df_2013.columns"
   ]
  },
  {
   "cell_type": "code",
   "execution_count": 49,
   "metadata": {},
   "outputs": [],
   "source": [
    "df_2013[\"sales\"] = df_2013[\"sale_price\"]*df_2013[\"Quantity\"]"
   ]
  },
  {
   "cell_type": "code",
   "execution_count": 50,
   "metadata": {},
   "outputs": [],
   "source": [
    "df_2013[\"sales_without_discount\"]=df_2013[\"tag_price\"]*df_2013[\"Quantity\"]#如果没有折扣，会是多少钱，用来统计折扣率"
   ]
  },
  {
   "cell_type": "markdown",
   "metadata": {},
   "source": [
    "### 这里的销售额以及原价情况下的销售额也是一整年的"
   ]
  },
  {
   "cell_type": "code",
   "execution_count": 54,
   "metadata": {},
   "outputs": [],
   "source": [
    "group_2013 = df_2013[['sku_id','sales','sales_without_discount','Quantity']].groupby(by = \"sku_id\")"
   ]
  },
  {
   "cell_type": "code",
   "execution_count": 56,
   "metadata": {},
   "outputs": [],
   "source": [
    "sales_2013=group_2013.sum()"
   ]
  },
  {
   "cell_type": "code",
   "execution_count": 57,
   "metadata": {},
   "outputs": [
    {
     "data": {
      "text/html": [
       "<div>\n",
       "<style scoped>\n",
       "    .dataframe tbody tr th:only-of-type {\n",
       "        vertical-align: middle;\n",
       "    }\n",
       "\n",
       "    .dataframe tbody tr th {\n",
       "        vertical-align: top;\n",
       "    }\n",
       "\n",
       "    .dataframe thead th {\n",
       "        text-align: right;\n",
       "    }\n",
       "</style>\n",
       "<table border=\"1\" class=\"dataframe\">\n",
       "  <thead>\n",
       "    <tr style=\"text-align: right;\">\n",
       "      <th></th>\n",
       "      <th>sales</th>\n",
       "      <th>sales_without_discount</th>\n",
       "      <th>Quantity</th>\n",
       "    </tr>\n",
       "    <tr>\n",
       "      <th>sku_id</th>\n",
       "      <th></th>\n",
       "      <th></th>\n",
       "      <th></th>\n",
       "    </tr>\n",
       "  </thead>\n",
       "  <tbody>\n",
       "    <tr>\n",
       "      <th>0718010020314#0314#30#28</th>\n",
       "      <td>869.0</td>\n",
       "      <td>1198.0</td>\n",
       "      <td>2.0</td>\n",
       "    </tr>\n",
       "    <tr>\n",
       "      <th>0718010020314#0314#30#32</th>\n",
       "      <td>307.0</td>\n",
       "      <td>349.0</td>\n",
       "      <td>1.0</td>\n",
       "    </tr>\n",
       "    <tr>\n",
       "      <th>0718020010322#0322#00#XL</th>\n",
       "      <td>1438.0</td>\n",
       "      <td>1798.0</td>\n",
       "      <td>2.0</td>\n",
       "    </tr>\n",
       "  </tbody>\n",
       "</table>\n",
       "</div>"
      ],
      "text/plain": [
       "                           sales  sales_without_discount  Quantity\n",
       "sku_id                                                            \n",
       "0718010020314#0314#30#28   869.0                  1198.0       2.0\n",
       "0718010020314#0314#30#32   307.0                   349.0       1.0\n",
       "0718020010322#0322#00#XL  1438.0                  1798.0       2.0"
      ]
     },
     "execution_count": 57,
     "metadata": {},
     "output_type": "execute_result"
    }
   ],
   "source": [
    "sales_2013.head(3)"
   ]
  },
  {
   "cell_type": "code",
   "execution_count": 59,
   "metadata": {},
   "outputs": [],
   "source": [
    "sales_2013.reset_index(inplace = True)"
   ]
  },
  {
   "cell_type": "code",
   "execution_count": 60,
   "metadata": {},
   "outputs": [
    {
     "data": {
      "text/html": [
       "<div>\n",
       "<style scoped>\n",
       "    .dataframe tbody tr th:only-of-type {\n",
       "        vertical-align: middle;\n",
       "    }\n",
       "\n",
       "    .dataframe tbody tr th {\n",
       "        vertical-align: top;\n",
       "    }\n",
       "\n",
       "    .dataframe thead th {\n",
       "        text-align: right;\n",
       "    }\n",
       "</style>\n",
       "<table border=\"1\" class=\"dataframe\">\n",
       "  <thead>\n",
       "    <tr style=\"text-align: right;\">\n",
       "      <th></th>\n",
       "      <th>sku_id</th>\n",
       "      <th>sales</th>\n",
       "      <th>sales_without_discount</th>\n",
       "      <th>Quantity</th>\n",
       "    </tr>\n",
       "  </thead>\n",
       "  <tbody>\n",
       "    <tr>\n",
       "      <th>0</th>\n",
       "      <td>0718010020314#0314#30#28</td>\n",
       "      <td>869.0</td>\n",
       "      <td>1198.0</td>\n",
       "      <td>2.0</td>\n",
       "    </tr>\n",
       "    <tr>\n",
       "      <th>1</th>\n",
       "      <td>0718010020314#0314#30#32</td>\n",
       "      <td>307.0</td>\n",
       "      <td>349.0</td>\n",
       "      <td>1.0</td>\n",
       "    </tr>\n",
       "    <tr>\n",
       "      <th>2</th>\n",
       "      <td>0718020010322#0322#00#XL</td>\n",
       "      <td>1438.0</td>\n",
       "      <td>1798.0</td>\n",
       "      <td>2.0</td>\n",
       "    </tr>\n",
       "  </tbody>\n",
       "</table>\n",
       "</div>"
      ],
      "text/plain": [
       "                     sku_id   sales  sales_without_discount  Quantity\n",
       "0  0718010020314#0314#30#28   869.0                  1198.0       2.0\n",
       "1  0718010020314#0314#30#32   307.0                   349.0       1.0\n",
       "2  0718020010322#0322#00#XL  1438.0                  1798.0       2.0"
      ]
     },
     "execution_count": 60,
     "metadata": {},
     "output_type": "execute_result"
    }
   ],
   "source": [
    "sales_2013.head(3)"
   ]
  },
  {
   "cell_type": "code",
   "execution_count": 61,
   "metadata": {},
   "outputs": [],
   "source": [
    "sales_2013[\"折扣率\"]=sales_2013[\"sales\"]/sales_2013[\"sales_without_discount\"]"
   ]
  },
  {
   "cell_type": "code",
   "execution_count": 62,
   "metadata": {},
   "outputs": [
    {
     "data": {
      "text/html": [
       "<div>\n",
       "<style scoped>\n",
       "    .dataframe tbody tr th:only-of-type {\n",
       "        vertical-align: middle;\n",
       "    }\n",
       "\n",
       "    .dataframe tbody tr th {\n",
       "        vertical-align: top;\n",
       "    }\n",
       "\n",
       "    .dataframe thead th {\n",
       "        text-align: right;\n",
       "    }\n",
       "</style>\n",
       "<table border=\"1\" class=\"dataframe\">\n",
       "  <thead>\n",
       "    <tr style=\"text-align: right;\">\n",
       "      <th></th>\n",
       "      <th>sku_id</th>\n",
       "      <th>sales</th>\n",
       "      <th>sales_without_discount</th>\n",
       "      <th>Quantity</th>\n",
       "      <th>折扣率</th>\n",
       "    </tr>\n",
       "  </thead>\n",
       "  <tbody>\n",
       "    <tr>\n",
       "      <th>0</th>\n",
       "      <td>0718010020314#0314#30#28</td>\n",
       "      <td>869.0</td>\n",
       "      <td>1198.0</td>\n",
       "      <td>2.0</td>\n",
       "      <td>0.725376</td>\n",
       "    </tr>\n",
       "    <tr>\n",
       "      <th>1</th>\n",
       "      <td>0718010020314#0314#30#32</td>\n",
       "      <td>307.0</td>\n",
       "      <td>349.0</td>\n",
       "      <td>1.0</td>\n",
       "      <td>0.879656</td>\n",
       "    </tr>\n",
       "    <tr>\n",
       "      <th>2</th>\n",
       "      <td>0718020010322#0322#00#XL</td>\n",
       "      <td>1438.0</td>\n",
       "      <td>1798.0</td>\n",
       "      <td>2.0</td>\n",
       "      <td>0.799778</td>\n",
       "    </tr>\n",
       "  </tbody>\n",
       "</table>\n",
       "</div>"
      ],
      "text/plain": [
       "                     sku_id   sales  sales_without_discount  Quantity  \\\n",
       "0  0718010020314#0314#30#28   869.0                  1198.0       2.0   \n",
       "1  0718010020314#0314#30#32   307.0                   349.0       1.0   \n",
       "2  0718020010322#0322#00#XL  1438.0                  1798.0       2.0   \n",
       "\n",
       "        折扣率  \n",
       "0  0.725376  \n",
       "1  0.879656  \n",
       "2  0.799778  "
      ]
     },
     "execution_count": 62,
     "metadata": {},
     "output_type": "execute_result"
    }
   ],
   "source": [
    "sales_2013.head(3)"
   ]
  },
  {
   "cell_type": "code",
   "execution_count": 63,
   "metadata": {},
   "outputs": [],
   "source": [
    "purchase_2013_ = pd.merge(purchase_2013,sales_2013,on=\"sku_id\")"
   ]
  },
  {
   "cell_type": "code",
   "execution_count": 64,
   "metadata": {},
   "outputs": [
    {
     "data": {
      "text/html": [
       "<div>\n",
       "<style scoped>\n",
       "    .dataframe tbody tr th:only-of-type {\n",
       "        vertical-align: middle;\n",
       "    }\n",
       "\n",
       "    .dataframe tbody tr th {\n",
       "        vertical-align: top;\n",
       "    }\n",
       "\n",
       "    .dataframe thead th {\n",
       "        text-align: right;\n",
       "    }\n",
       "</style>\n",
       "<table border=\"1\" class=\"dataframe\">\n",
       "  <thead>\n",
       "    <tr style=\"text-align: right;\">\n",
       "      <th></th>\n",
       "      <th>purchase_no</th>\n",
       "      <th>purchase_date</th>\n",
       "      <th>supplier_id</th>\n",
       "      <th>sku_id</th>\n",
       "      <th>purchase_price</th>\n",
       "      <th>Quantity_x</th>\n",
       "      <th>season</th>\n",
       "      <th>series</th>\n",
       "      <th>category_sub</th>\n",
       "      <th>color_name</th>\n",
       "      <th>tag_price</th>\n",
       "      <th>material</th>\n",
       "      <th>size_name</th>\n",
       "      <th>purchase_month</th>\n",
       "      <th>采购季节</th>\n",
       "      <th>purchase_year</th>\n",
       "      <th>sales</th>\n",
       "      <th>sales_without_discount</th>\n",
       "      <th>Quantity_y</th>\n",
       "      <th>折扣率</th>\n",
       "    </tr>\n",
       "  </thead>\n",
       "  <tbody>\n",
       "    <tr>\n",
       "      <th>0</th>\n",
       "      <td>POB0000002</td>\n",
       "      <td>2013/06/03</td>\n",
       "      <td>GYS074</td>\n",
       "      <td>134894001402#402#00#L</td>\n",
       "      <td>70.00</td>\n",
       "      <td>116</td>\n",
       "      <td>冬季</td>\n",
       "      <td>Modern Vintage</td>\n",
       "      <td>配件</td>\n",
       "      <td>咖啡棕</td>\n",
       "      <td>349.0</td>\n",
       "      <td>牛皮</td>\n",
       "      <td>L</td>\n",
       "      <td>6</td>\n",
       "      <td>夏</td>\n",
       "      <td>2013</td>\n",
       "      <td>19238.5</td>\n",
       "      <td>26810.0</td>\n",
       "      <td>40.0</td>\n",
       "      <td>0.717587</td>\n",
       "    </tr>\n",
       "    <tr>\n",
       "      <th>1</th>\n",
       "      <td>POB0000004</td>\n",
       "      <td>2013/06/03</td>\n",
       "      <td>GYS079</td>\n",
       "      <td>133798003611#611#00#38</td>\n",
       "      <td>184.15</td>\n",
       "      <td>93</td>\n",
       "      <td>秋季</td>\n",
       "      <td>Modern Vintage</td>\n",
       "      <td>配件</td>\n",
       "      <td>靛蓝</td>\n",
       "      <td>799.0</td>\n",
       "      <td>巴布牛仔</td>\n",
       "      <td>38</td>\n",
       "      <td>6</td>\n",
       "      <td>夏</td>\n",
       "      <td>2013</td>\n",
       "      <td>17340.5</td>\n",
       "      <td>23370.0</td>\n",
       "      <td>30.0</td>\n",
       "      <td>0.741998</td>\n",
       "    </tr>\n",
       "    <tr>\n",
       "      <th>2</th>\n",
       "      <td>POB0000004</td>\n",
       "      <td>2013/06/03</td>\n",
       "      <td>GYS079</td>\n",
       "      <td>133798003611#611#00#42</td>\n",
       "      <td>184.15</td>\n",
       "      <td>149</td>\n",
       "      <td>秋季</td>\n",
       "      <td>Modern Vintage</td>\n",
       "      <td>配件</td>\n",
       "      <td>靛蓝</td>\n",
       "      <td>799.0</td>\n",
       "      <td>巴布牛仔</td>\n",
       "      <td>42</td>\n",
       "      <td>6</td>\n",
       "      <td>夏</td>\n",
       "      <td>2013</td>\n",
       "      <td>18108.0</td>\n",
       "      <td>35658.0</td>\n",
       "      <td>42.0</td>\n",
       "      <td>0.507824</td>\n",
       "    </tr>\n",
       "  </tbody>\n",
       "</table>\n",
       "</div>"
      ],
      "text/plain": [
       "  purchase_no purchase_date supplier_id                  sku_id  \\\n",
       "0  POB0000002    2013/06/03      GYS074   134894001402#402#00#L   \n",
       "1  POB0000004    2013/06/03      GYS079  133798003611#611#00#38   \n",
       "2  POB0000004    2013/06/03      GYS079  133798003611#611#00#42   \n",
       "\n",
       "   purchase_price  Quantity_x season          series category_sub color_name  \\\n",
       "0           70.00         116     冬季  Modern Vintage           配件        咖啡棕   \n",
       "1          184.15          93     秋季  Modern Vintage           配件         靛蓝   \n",
       "2          184.15         149     秋季  Modern Vintage           配件         靛蓝   \n",
       "\n",
       "   tag_price material size_name  purchase_month 采购季节  purchase_year    sales  \\\n",
       "0      349.0       牛皮         L               6    夏           2013  19238.5   \n",
       "1      799.0     巴布牛仔        38               6    夏           2013  17340.5   \n",
       "2      799.0     巴布牛仔        42               6    夏           2013  18108.0   \n",
       "\n",
       "   sales_without_discount  Quantity_y       折扣率  \n",
       "0                 26810.0        40.0  0.717587  \n",
       "1                 23370.0        30.0  0.741998  \n",
       "2                 35658.0        42.0  0.507824  "
      ]
     },
     "execution_count": 64,
     "metadata": {},
     "output_type": "execute_result"
    }
   ],
   "source": [
    "purchase_2013_.head(3) "
   ]
  },
  {
   "cell_type": "code",
   "execution_count": 66,
   "metadata": {},
   "outputs": [],
   "source": [
    "purchase_2013.to_csv(\"purchase_2013.csv\", index =False)"
   ]
  },
  {
   "cell_type": "markdown",
   "metadata": {},
   "source": [
    "然后可以用groupby来计算每个category_sub下面的sku的数量，分别的价格，折扣率，全年的销售额等等"
   ]
  }
 ],
 "metadata": {
  "kernelspec": {
   "display_name": "Python 3",
   "language": "python",
   "name": "python3"
  },
  "language_info": {
   "codemirror_mode": {
    "name": "ipython",
    "version": 3
   },
   "file_extension": ".py",
   "mimetype": "text/x-python",
   "name": "python",
   "nbconvert_exporter": "python",
   "pygments_lexer": "ipython3",
   "version": "3.6.5"
  }
 },
 "nbformat": 4,
 "nbformat_minor": 2
}
