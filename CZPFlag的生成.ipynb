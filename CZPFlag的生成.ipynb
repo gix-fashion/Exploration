{
 "cells": [
  {
   "cell_type": "markdown",
   "metadata": {},
   "source": [
    "### 计算了上周销量的缺失值，以及已售时间(周)"
   ]
  },
  {
   "cell_type": "code",
   "execution_count": 1,
   "metadata": {},
   "outputs": [],
   "source": [
    "import pandas as pd\n",
    "import numpy as np\n",
    "from sklearn import preprocessing\n",
    "import matplotlib.pyplot as plt\n",
    "import math\n",
    "import os\n",
    "from sklearn.naive_bayes import BernoulliNB\n",
    "from sklearn.decomposition import PCA\n",
    "from sklearn.linear_model import LogisticRegression\n",
    "from sklearn.model_selection import train_test_split\n",
    "from sklearn import metrics\n",
    "def encode_text_dummy(df, name):\n",
    "    dummies = pd.get_dummies(df[name])\n",
    "    for x in dummies.columns:\n",
    "        dummy_name = \"{}-{}\".format(name, x)\n",
    "        df[dummy_name] = dummies[x]\n",
    "    df.drop(name, axis=1, inplace=True)\n",
    "def encode_text_index(df, name):\n",
    "    le = preprocessing.LabelEncoder()\n",
    "    df[name] = le.fit_transform(df[name])\n",
    "    return le.classes_    \n",
    "\n",
    "%matplotlib inline"
   ]
  },
  {
   "cell_type": "code",
   "execution_count": 2,
   "metadata": {},
   "outputs": [],
   "source": [
    "df =pd.read_csv(\"补货信息.csv\",encoding=\"gbk\")\n",
    "df[\"LastWeekSaleQty\"]=((df[\"AvgLastWeekSaleQty\"]*7).apply(round))\n",
    "\n",
    "\n",
    "df[\"Weeks\"]=(pd.to_datetime(df.StockDate)-pd.to_datetime(df.FirstInStockDate)).apply(lambda x:int(x.days/7)+1)\n",
    "df[\"Weeks\"] = df[\"Weeks\"].apply(lambda x: 12 if x>12 else x)\n",
    "\n"
   ]
  },
  {
   "cell_type": "markdown",
   "metadata": {},
   "source": [
    "### 把销售占比改成分公司来分的"
   ]
  },
  {
   "cell_type": "code",
   "execution_count": null,
   "metadata": {},
   "outputs": [],
   "source": [
    "ls = list(map(lambda x:x.split(\"销售\")[0],os.listdir(\"result的副本\")))"
   ]
  },
  {
   "cell_type": "code",
   "execution_count": null,
   "metadata": {},
   "outputs": [],
   "source": [
    "df_ = pd.DataFrame()\n",
    "for item in ls:\n",
    "    df__ = pd.read_csv(\"result的副本/\"+item+\"销售.csv\") \n",
    "    df__[\"中类\"] = item\n",
    "    df_ = pd.concat((df_,df__),ignore_index =True,sort = False)"
   ]
  },
  {
   "cell_type": "code",
   "execution_count": null,
   "metadata": {},
   "outputs": [],
   "source": [
    "df_.head()"
   ]
  },
  {
   "cell_type": "code",
   "execution_count": null,
   "metadata": {},
   "outputs": [],
   "source": [
    "df_.drop(\"Unnamed: 0\",axis = 1,inplace = True)"
   ]
  },
  {
   "cell_type": "code",
   "execution_count": null,
   "metadata": {},
   "outputs": [],
   "source": [
    "groupby = df_.groupby(\"分公司\")\n",
    "for name, group in groupby:\n",
    "    group.to_csv(name+\".csv\",index = False)"
   ]
  },
  {
   "cell_type": "markdown",
   "metadata": {},
   "source": [
    "***"
   ]
  },
  {
   "cell_type": "markdown",
   "metadata": {},
   "source": [
    "### 生成CZP"
   ]
  },
  {
   "cell_type": "code",
   "execution_count": null,
   "metadata": {},
   "outputs": [],
   "source": [
    "standard = pd.read_excel(\"商品指标标准.xlsx\")\n",
    "standard.rename({\"店铺代码\":\"ShopCode\",\"在店库存件数\\n（下限值）\":\"StorageMin\",\"陈列SKC标准\":\"SkcNum\",\"齐码率\":\"UniformRate\"},axis = 1,inplace =True)"
   ]
  },
  {
   "cell_type": "code",
   "execution_count": null,
   "metadata": {},
   "outputs": [],
   "source": [
    "df_full = pd.merge(df,standard,on =\"ShopCode\").copy()\n",
    "groupby = df_full.groupby(\"分公司\")\n",
    "def accumulate(df1,df2):\n",
    "    sum_ = 0\n",
    "    for i in range[df1[\"Weeks\"]]:\n",
    "        sum_ += df2[\"第\"+str(i+1)+\"周销量占比\"][df1[\"ModelName\"]]\n",
    "    return sum_    \n",
    "def to_zcp(x,y):\n",
    "    if x>y:\n",
    "        return(\"爆\")\n",
    "    elif x>(0.75*y):\n",
    "        return(\"畅\")\n",
    "    elif x>(0.5*y):\n",
    "        return(\"平\")\n",
    "    elif x>(0.25*y):\n",
    "        return(\"滞\")\n",
    "    elif x:\n",
    "        return(\"超滞\")\n",
    "    \n",
    "for name, group in groupby:\n",
    "    mid = pd.read_csv(\"销售占比/\"+name+\".csv\")                          #中类的标准,SKU\n",
    "    mid.set_index(\"中类\",inplace = True)\n",
    "    group[\"Y\"] = group.apply(lambda x: accumulate(x,mid))\n",
    "    group[\"X_sku\"] = (group['TotalSaleQty']/group['TotalMoveQty'])*0.5+0.5*(group['LastWeekSaleQty']/(group['LastWeekInitQty']+group['LastWeekMoveQty']))\n",
    "    group[\"X_skc\"] = (group['SKCTotalSaleQty']/group['SKCTotalMoveQty'])*0.5+0.5*(group['SKCLastWeekSaleQty']/(group['SKCLastWeekInitQty']+group['SKCLastWeekMoveQty']))\n",
    "    group['CZPFlag'] = group.apply(lambda x: to_czp(x[\"X_sku\"],x[\"Y\"]))\n",
    "    group['SKCCZPFlag'] = group.apply(lambda x: to_czp(x[\"X_skc\"],x[\"Y\"]))\n",
    "    group.tp_csv(name+\"补货数据.csv\",)"
   ]
  }
 ],
 "metadata": {
  "kernelspec": {
   "display_name": "Python 3",
   "language": "python",
   "name": "python3"
  },
  "language_info": {
   "codemirror_mode": {
    "name": "ipython",
    "version": 3
   },
   "file_extension": ".py",
   "mimetype": "text/x-python",
   "name": "python",
   "nbconvert_exporter": "python",
   "pygments_lexer": "ipython3",
   "version": "3.6.5"
  },
  "toc": {
   "base_numbering": 1,
   "nav_menu": {},
   "number_sections": true,
   "sideBar": true,
   "skip_h1_title": false,
   "title_cell": "Table of Contents",
   "title_sidebar": "Contents",
   "toc_cell": false,
   "toc_position": {},
   "toc_section_display": true,
   "toc_window_display": false
  },
  "varInspector": {
   "cols": {
    "lenName": 16,
    "lenType": 16,
    "lenVar": 40
   },
   "kernels_config": {
    "python": {
     "delete_cmd_postfix": "",
     "delete_cmd_prefix": "del ",
     "library": "var_list.py",
     "varRefreshCmd": "print(var_dic_list())"
    },
    "r": {
     "delete_cmd_postfix": ") ",
     "delete_cmd_prefix": "rm(",
     "library": "var_list.r",
     "varRefreshCmd": "cat(var_dic_list()) "
    }
   },
   "types_to_exclude": [
    "module",
    "function",
    "builtin_function_or_method",
    "instance",
    "_Feature"
   ],
   "window_display": false
  }
 },
 "nbformat": 4,
 "nbformat_minor": 2
}
